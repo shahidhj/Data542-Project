{
 "cells": [
  {
   "cell_type": "code",
   "execution_count": 1,
   "metadata": {},
   "outputs": [],
   "source": [
    "import os, re\n",
    "import pandas as pd\n",
    "\n",
    "# CURRENT DIRECTORY (PLACE SCRIPT IN /home/mydirectory)\n",
    "cd = os.getcwd()"
   ]
  },
  {
   "cell_type": "code",
   "execution_count": 33,
   "metadata": {},
   "outputs": [],
   "source": [
    "fileNames=[]\n",
    "reviewRegex = re.compile(r'newest_rev(ie|ei)ws')"
   ]
  },
  {
   "cell_type": "code",
   "execution_count": 39,
   "metadata": {},
   "outputs": [
    {
     "name": "stderr",
     "output_type": "stream",
     "text": [
      "C:\\Users\\shahi\\Anaconda3\\lib\\site-packages\\IPython\\core\\interactiveshell.py:3058: DtypeWarning: Columns (3) have mixed types. Specify dtype option on import or set low_memory=False.\n",
      "  interactivity=interactivity, compiler=compiler, result=result)\n",
      "C:\\Users\\shahi\\Anaconda3\\lib\\site-packages\\IPython\\core\\interactiveshell.py:3058: DtypeWarning: Columns (0,3) have mixed types. Specify dtype option on import or set low_memory=False.\n",
      "  interactivity=interactivity, compiler=compiler, result=result)\n"
     ]
    }
   ],
   "source": [
    "i = 0\n",
    "columns = range(1,100)\n",
    "dfList = []\n",
    "\n",
    "for root, dirs, files in os.walk(cd):\n",
    "    for fname in files:\n",
    "        if reviewRegex.search(fname):\n",
    "            frame = pd.read_csv(os.path.join(root, fname), names=columns)\n",
    "            frame['key'] = \"file{}\".format(i)\n",
    "            dfList.append(frame)    \n",
    "            fileNames.append(fname)\n",
    "            i += 1\n"
   ]
  },
  {
   "cell_type": "code",
   "execution_count": 36,
   "metadata": {},
   "outputs": [
    {
     "data": {
      "text/plain": [
       "64"
      ]
     },
     "execution_count": 36,
     "metadata": {},
     "output_type": "execute_result"
    }
   ],
   "source": [
    "len(fileNames)"
   ]
  },
  {
   "cell_type": "code",
   "execution_count": 40,
   "metadata": {},
   "outputs": [],
   "source": [
    "df = pd.concat(dfList)"
   ]
  },
  {
   "cell_type": "code",
   "execution_count": 43,
   "metadata": {},
   "outputs": [],
   "source": [
    "df.dropna(axis=1,how=\"all\",inplace=True)"
   ]
  },
  {
   "cell_type": "code",
   "execution_count": 47,
   "metadata": {},
   "outputs": [],
   "source": [
    "df.drop(labels=[\"key\"],axis=1,inplace=True)"
   ]
  },
  {
   "cell_type": "code",
   "execution_count": 48,
   "metadata": {},
   "outputs": [
    {
     "data": {
      "text/html": [
       "<div>\n",
       "<style scoped>\n",
       "    .dataframe tbody tr th:only-of-type {\n",
       "        vertical-align: middle;\n",
       "    }\n",
       "\n",
       "    .dataframe tbody tr th {\n",
       "        vertical-align: top;\n",
       "    }\n",
       "\n",
       "    .dataframe thead th {\n",
       "        text-align: right;\n",
       "    }\n",
       "</style>\n",
       "<table border=\"1\" class=\"dataframe\">\n",
       "  <thead>\n",
       "    <tr style=\"text-align: right;\">\n",
       "      <th></th>\n",
       "      <th>1</th>\n",
       "      <th>2</th>\n",
       "      <th>3</th>\n",
       "      <th>4</th>\n",
       "      <th>5</th>\n",
       "    </tr>\n",
       "  </thead>\n",
       "  <tbody>\n",
       "    <tr>\n",
       "      <td>0</td>\n",
       "      <td>appTitle</td>\n",
       "      <td>userName</td>\n",
       "      <td>date</td>\n",
       "      <td>score</td>\n",
       "      <td>text</td>\n",
       "    </tr>\n",
       "    <tr>\n",
       "      <td>1</td>\n",
       "      <td>Photomath</td>\n",
       "      <td>NaN</td>\n",
       "      <td>March 8, 2019</td>\n",
       "      <td>5</td>\n",
       "      <td>nice</td>\n",
       "    </tr>\n",
       "    <tr>\n",
       "      <td>2</td>\n",
       "      <td>Photomath</td>\n",
       "      <td>NaN</td>\n",
       "      <td>March 8, 2019</td>\n",
       "      <td>4</td>\n",
       "      <td>very helpful</td>\n",
       "    </tr>\n",
       "    <tr>\n",
       "      <td>3</td>\n",
       "      <td>Photomath</td>\n",
       "      <td>NaN</td>\n",
       "      <td>March 8, 2019</td>\n",
       "      <td>5</td>\n",
       "      <td>Great App. Detailed answers. Understandable an...</td>\n",
       "    </tr>\n",
       "    <tr>\n",
       "      <td>4</td>\n",
       "      <td>Photomath</td>\n",
       "      <td>NaN</td>\n",
       "      <td>March 8, 2019</td>\n",
       "      <td>5</td>\n",
       "      <td>great!!!</td>\n",
       "    </tr>\n",
       "    <tr>\n",
       "      <td>...</td>\n",
       "      <td>...</td>\n",
       "      <td>...</td>\n",
       "      <td>...</td>\n",
       "      <td>...</td>\n",
       "      <td>...</td>\n",
       "    </tr>\n",
       "    <tr>\n",
       "      <td>44796</td>\n",
       "      <td>SoundCloud - Music &amp; Audio</td>\n",
       "      <td>pubgmaster 25</td>\n",
       "      <td>May 3, 2019</td>\n",
       "      <td>1</td>\n",
       "      <td>it gay</td>\n",
       "    </tr>\n",
       "    <tr>\n",
       "      <td>44797</td>\n",
       "      <td>SoundCloud - Music &amp; Audio</td>\n",
       "      <td>Anjita Sinha</td>\n",
       "      <td>May 3, 2019</td>\n",
       "      <td>4</td>\n",
       "      <td>Love it</td>\n",
       "    </tr>\n",
       "    <tr>\n",
       "      <td>44798</td>\n",
       "      <td>SoundCloud - Music &amp; Audio</td>\n",
       "      <td>Luis Lucas</td>\n",
       "      <td>May 3, 2019</td>\n",
       "      <td>5</td>\n",
       "      <td>muy bueno me gusta y puedo aguardar la musica ...</td>\n",
       "    </tr>\n",
       "    <tr>\n",
       "      <td>44799</td>\n",
       "      <td>SoundCloud - Music &amp; Audio</td>\n",
       "      <td>Teairo Keys</td>\n",
       "      <td>May 3, 2019</td>\n",
       "      <td>5</td>\n",
       "      <td>love this app</td>\n",
       "    </tr>\n",
       "    <tr>\n",
       "      <td>44800</td>\n",
       "      <td>SoundCloud - Music &amp; Audio</td>\n",
       "      <td>Ian Libo</td>\n",
       "      <td>May 3, 2019</td>\n",
       "      <td>1</td>\n",
       "      <td>The app was great and has a very nice selectio...</td>\n",
       "    </tr>\n",
       "  </tbody>\n",
       "</table>\n",
       "<p>2715367 rows × 5 columns</p>\n",
       "</div>"
      ],
      "text/plain": [
       "                                1              2              3      4  \\\n",
       "0                        appTitle       userName           date  score   \n",
       "1                       Photomath            NaN  March 8, 2019      5   \n",
       "2                       Photomath            NaN  March 8, 2019      4   \n",
       "3                       Photomath            NaN  March 8, 2019      5   \n",
       "4                       Photomath            NaN  March 8, 2019      5   \n",
       "...                           ...            ...            ...    ...   \n",
       "44796  SoundCloud - Music & Audio  pubgmaster 25    May 3, 2019      1   \n",
       "44797  SoundCloud - Music & Audio   Anjita Sinha    May 3, 2019      4   \n",
       "44798  SoundCloud - Music & Audio     Luis Lucas    May 3, 2019      5   \n",
       "44799  SoundCloud - Music & Audio    Teairo Keys    May 3, 2019      5   \n",
       "44800  SoundCloud - Music & Audio       Ian Libo    May 3, 2019      1   \n",
       "\n",
       "                                                       5  \n",
       "0                                                   text  \n",
       "1                                                   nice  \n",
       "2                                           very helpful  \n",
       "3      Great App. Detailed answers. Understandable an...  \n",
       "4                                               great!!!  \n",
       "...                                                  ...  \n",
       "44796                                             it gay  \n",
       "44797                                            Love it  \n",
       "44798  muy bueno me gusta y puedo aguardar la musica ...  \n",
       "44799                                      love this app  \n",
       "44800  The app was great and has a very nice selectio...  \n",
       "\n",
       "[2715367 rows x 5 columns]"
      ]
     },
     "execution_count": 48,
     "metadata": {},
     "output_type": "execute_result"
    }
   ],
   "source": [
    "df"
   ]
  },
  {
   "cell_type": "code",
   "execution_count": null,
   "metadata": {},
   "outputs": [],
   "source": [
    "df.colums = df.iloc[0]"
   ]
  },
  {
   "cell_type": "code",
   "execution_count": null,
   "metadata": {},
   "outputs": [],
   "source": []
  }
 ],
 "metadata": {
  "kernelspec": {
   "display_name": "Python 3",
   "language": "python",
   "name": "python3"
  },
  "language_info": {
   "codemirror_mode": {
    "name": "ipython",
    "version": 3
   },
   "file_extension": ".py",
   "mimetype": "text/x-python",
   "name": "python",
   "nbconvert_exporter": "python",
   "pygments_lexer": "ipython3",
   "version": "3.7.4"
  }
 },
 "nbformat": 4,
 "nbformat_minor": 2
}
