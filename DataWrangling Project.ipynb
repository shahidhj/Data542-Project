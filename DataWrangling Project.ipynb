{
 "cells": [
  {
   "cell_type": "markdown",
   "metadata": {},
   "source": [
    "# FOR FINAL LIST OF RESULT , SCORLL ALL THE WAY DOWN"
   ]
  },
  {
   "cell_type": "code",
   "execution_count": 1,
   "metadata": {},
   "outputs": [],
   "source": [
    "import os, re\n",
    "import pandas as pd\n",
    "import missingno as msno\n",
    "import numpy as np\n",
    "import matplotlib.pyplot as plt\n",
    "\n",
    "\n",
    "# CURRENT DIRECTORY (PLACE SCRIPT IN /home/mydirectory)\n",
    "cd = os.getcwd()"
   ]
  },
  {
   "cell_type": "code",
   "execution_count": 2,
   "metadata": {},
   "outputs": [],
   "source": [
    "fileNames=[]\n",
    "reviewRegex = re.compile(r'newest_rev(ie|ei)ws')"
   ]
  },
  {
   "cell_type": "code",
   "execution_count": 3,
   "metadata": {},
   "outputs": [],
   "source": [
    "i = 0\n",
    "columns = range(1,100)\n",
    "dfList = []\n",
    "\n",
    "for root, dirs, files in os.walk(cd):\n",
    "    for fname in files:\n",
    "        if reviewRegex.search(fname):\n",
    "            frame = pd.read_csv(os.path.join(root, fname), names=columns,skiprows=1)\n",
    "            if fname.find(\"EDUCATION\") != -1:\n",
    "                frame['CATEGORY'] = \"EDUCATION\"\n",
    "            elif fname.find(\"FINANCE\") !=-1:\n",
    "                frame['CATEGORY'] = \"FINANCE\"  \n",
    "            elif fname.find(\"ENTERTAINMENT\") != -1:\n",
    "                frame['CATEGORY'] = \"ENTERTAINMENT\"\n",
    "            elif fname.find(\"FAMILY\") != -1:\n",
    "                frame['CATEGORY'] = \"FAMILY\"\n",
    "            elif fname.find(\"GAME\") != -1:\n",
    "                frame['CATEGORY'] = \"GAME-ACTION\"\n",
    "            elif fname.find(\"HEALTH\") != -1:\n",
    "                frame['CATEGORY'] = \"HEALTH AND FITNESS\"\n",
    "            elif fname.find(\"LIFESTYLE\") != -1:\n",
    "                frame['CATEGORY'] = \"LIFESTYLE\"\n",
    "            elif fname.find(\"MUSIC\") != -1:\n",
    "                frame['CATEGORY'] = \"MUSIC AND AUDIO\"\n",
    "            \n",
    "            #frame['key'] = \"file{}\".format(i)\n",
    "            dfList.append(frame)    \n",
    "            fileNames.append(fname)\n",
    "            i += 1\n"
   ]
  },
  {
   "cell_type": "code",
   "execution_count": 4,
   "metadata": {},
   "outputs": [],
   "source": [
    "detailsRegex = re.compile(r'_all_detailed')\n",
    "i = 0\n",
    "columns = range(1,100)\n",
    "detailsFiles=[]\n",
    "detailsList=[]\n",
    "\n",
    "\n",
    "\n",
    "for root, dirs, files in os.walk(cd):\n",
    "    for fname in files:\n",
    "        if detailsRegex.search(fname):\n",
    "            frame = pd.read_csv(os.path.join(root, fname), names=columns,skiprows=0)\n",
    "            if fname.find(\"EDUCATION\") != -1:\n",
    "                frame['CATEGORY'] = \"EDUCATION\"\n",
    "            elif fname.find(\"FINANCE\") !=-1:\n",
    "                frame['CATEGORY'] = \"FINANCE\"  \n",
    "            elif fname.find(\"ENTERTAINMENT\") != -1:\n",
    "                frame['CATEGORY'] = \"ENTERTAINMENT\"\n",
    "            elif fname.find(\"FAMILY\") != -1:\n",
    "                frame['CATEGORY'] = \"FAMILY\"\n",
    "            elif fname.find(\"GAME\") != -1:\n",
    "                frame['CATEGORY'] = \"GAME-ACTION\"\n",
    "            elif fname.find(\"HEALTH\") != -1:\n",
    "                frame['CATEGORY'] = \"HEALTH AND FITNESS\"\n",
    "            elif fname.find(\"LIFESTYLE\") != -1:\n",
    "                frame['CATEGORY'] = \"LIFESTYLE\"\n",
    "            elif fname.find(\"MUSIC\") != -1:\n",
    "                frame['CATEGORY'] = \"MUSIC AND AUDIO\"\n",
    "            \n",
    "            #frame['key'] = \"file{}\".format(i)\n",
    "            detailsList.append(frame)    \n",
    "            detailsFiles.append(fname)\n",
    "            i += 1\n",
    "            \n",
    "            \n"
   ]
  },
  {
   "cell_type": "markdown",
   "metadata": {},
   "source": [
    "##### ALL detailed dataset analysis"
   ]
  },
  {
   "cell_type": "code",
   "execution_count": 5,
   "metadata": {},
   "outputs": [
    {
     "data": {
      "text/plain": [
       "64"
      ]
     },
     "execution_count": 5,
     "metadata": {},
     "output_type": "execute_result"
    }
   ],
   "source": [
    "len(detailsList)"
   ]
  },
  {
   "cell_type": "code",
   "execution_count": 10,
   "metadata": {},
   "outputs": [],
   "source": [
    "detailsDf = pd.concat(detailsList)"
   ]
  },
  {
   "cell_type": "code",
   "execution_count": 11,
   "metadata": {},
   "outputs": [],
   "source": [
    "detailsDf\n",
    "detailsDf.columns = detailsDf.iloc[0]\n",
    "pd.set_option('display.max_columns', 30)\n",
    "detailsDf.dropna(axis=1,how=\"all\",inplace=True)\n",
    "#msno.matrix(detailsDf)\n",
    "detailsDf.tail()\n",
    "detailsDf = detailsDf.loc[:, detailsDf.columns.notnull()]\n",
    "detailsDf.reset_index(drop=True,inplace=True)\n",
    "detailsDf.drop(index=0,inplace=True)\n",
    "detailsDf.appTitle = detailsDf.appTitle.str.lower()\n"
   ]
  },
  {
   "cell_type": "code",
   "execution_count": 12,
   "metadata": {},
   "outputs": [
    {
     "data": {
      "text/html": [
       "<div>\n",
       "<style scoped>\n",
       "    .dataframe tbody tr th:only-of-type {\n",
       "        vertical-align: middle;\n",
       "    }\n",
       "\n",
       "    .dataframe tbody tr th {\n",
       "        vertical-align: top;\n",
       "    }\n",
       "\n",
       "    .dataframe thead th {\n",
       "        text-align: right;\n",
       "    }\n",
       "</style>\n",
       "<table border=\"1\" class=\"dataframe\">\n",
       "  <thead>\n",
       "    <tr style=\"text-align: right;\">\n",
       "      <th></th>\n",
       "      <th>appTitle</th>\n",
       "      <th>summary</th>\n",
       "      <th>installs</th>\n",
       "      <th>minInstalls</th>\n",
       "      <th>score</th>\n",
       "      <th>ratings</th>\n",
       "      <th>reviews</th>\n",
       "      <th>free</th>\n",
       "      <th>offersIAP</th>\n",
       "      <th>size</th>\n",
       "      <th>androidVersionText</th>\n",
       "      <th>developerId</th>\n",
       "      <th>genreId</th>\n",
       "      <th>familyGenreId</th>\n",
       "      <th>contentRating</th>\n",
       "      <th>adSupported</th>\n",
       "      <th>released</th>\n",
       "      <th>updated</th>\n",
       "      <th>version</th>\n",
       "      <th>recentChanges</th>\n",
       "      <th>appId</th>\n",
       "      <th>url</th>\n",
       "      <th>CATEGORY</th>\n",
       "    </tr>\n",
       "  </thead>\n",
       "  <tbody>\n",
       "    <tr>\n",
       "      <td>1</td>\n",
       "      <td>duolingo: learn languages free</td>\n",
       "      <td>Learn English, Spanish, French, German, Italia...</td>\n",
       "      <td>100,000,000+</td>\n",
       "      <td>100000000</td>\n",
       "      <td>4.7198496</td>\n",
       "      <td>7258463</td>\n",
       "      <td>2788387.0</td>\n",
       "      <td>true</td>\n",
       "      <td>true</td>\n",
       "      <td>Varies with device</td>\n",
       "      <td>Varies with device</td>\n",
       "      <td>6957685454452609502</td>\n",
       "      <td>EDUCATION</td>\n",
       "      <td>FAMILY_EDUCATION</td>\n",
       "      <td>Everyone</td>\n",
       "      <td>true</td>\n",
       "      <td>May 29, 2013</td>\n",
       "      <td>1551998991000</td>\n",
       "      <td>Varies with device</td>\n",
       "      <td>Our mascot owl, Duo, is trading in his usual d...</td>\n",
       "      <td>com.duolingo</td>\n",
       "      <td>https://play.google.com/store/apps/details?id=...</td>\n",
       "      <td>EDUCATION</td>\n",
       "    </tr>\n",
       "    <tr>\n",
       "      <td>2</td>\n",
       "      <td>photomath</td>\n",
       "      <td>Scan. Solve. Learn.</td>\n",
       "      <td>50,000,000+</td>\n",
       "      <td>50000000</td>\n",
       "      <td>4.689265</td>\n",
       "      <td>1033063</td>\n",
       "      <td>385731.0</td>\n",
       "      <td>true</td>\n",
       "      <td>false</td>\n",
       "      <td>Varies with device</td>\n",
       "      <td>Varies with device</td>\n",
       "      <td>8492011720422545772</td>\n",
       "      <td>EDUCATION</td>\n",
       "      <td>NaN</td>\n",
       "      <td>Everyone</td>\n",
       "      <td>false</td>\n",
       "      <td>Feb 26, 2015</td>\n",
       "      <td>1545376427000</td>\n",
       "      <td>Varies with device</td>\n",
       "      <td>Bug fixes and performance enhancements for smo...</td>\n",
       "      <td>com.microblink.photomath</td>\n",
       "      <td>https://play.google.com/store/apps/details?id=...</td>\n",
       "      <td>EDUCATION</td>\n",
       "    </tr>\n",
       "    <tr>\n",
       "      <td>3</td>\n",
       "      <td>remind: school communication</td>\n",
       "      <td>School Communication</td>\n",
       "      <td>10,000,000+</td>\n",
       "      <td>10000000</td>\n",
       "      <td>4.4903703</td>\n",
       "      <td>139258</td>\n",
       "      <td>45845.0</td>\n",
       "      <td>true</td>\n",
       "      <td>false</td>\n",
       "      <td>22M</td>\n",
       "      <td>4.4 and up</td>\n",
       "      <td>Remind101</td>\n",
       "      <td>EDUCATION</td>\n",
       "      <td>NaN</td>\n",
       "      <td>Everyone</td>\n",
       "      <td>false</td>\n",
       "      <td>Oct 5, 2012</td>\n",
       "      <td>1551835573000</td>\n",
       "      <td>9.16.2.33150</td>\n",
       "      <td>To make your Remind experience great, we updat...</td>\n",
       "      <td>com.remind101</td>\n",
       "      <td>https://play.google.com/store/apps/details?id=...</td>\n",
       "      <td>EDUCATION</td>\n",
       "    </tr>\n",
       "    <tr>\n",
       "      <td>4</td>\n",
       "      <td>kahoot!</td>\n",
       "      <td>Create and play quizzes on the go, have fun an...</td>\n",
       "      <td>10,000,000+</td>\n",
       "      <td>10000000</td>\n",
       "      <td>4.2366056</td>\n",
       "      <td>59838</td>\n",
       "      <td>18498.0</td>\n",
       "      <td>true</td>\n",
       "      <td>true</td>\n",
       "      <td>Varies with device</td>\n",
       "      <td>Varies with device</td>\n",
       "      <td>5643238107618943124</td>\n",
       "      <td>EDUCATION</td>\n",
       "      <td>FAMILY_EDUCATION</td>\n",
       "      <td>Everyone</td>\n",
       "      <td>false</td>\n",
       "      <td>Nov 1, 2012</td>\n",
       "      <td>1551194923000</td>\n",
       "      <td>Varies with device</td>\n",
       "      <td>This update is mostly about bug fixing and imp...</td>\n",
       "      <td>no.mobitroll.kahoot.android</td>\n",
       "      <td>https://play.google.com/store/apps/details?id=...</td>\n",
       "      <td>EDUCATION</td>\n",
       "    </tr>\n",
       "    <tr>\n",
       "      <td>5</td>\n",
       "      <td>google classroom</td>\n",
       "      <td>Connect with your classes and do assignments o...</td>\n",
       "      <td>10,000,000+</td>\n",
       "      <td>10000000</td>\n",
       "      <td>4.230005</td>\n",
       "      <td>87020</td>\n",
       "      <td>22630.0</td>\n",
       "      <td>true</td>\n",
       "      <td>false</td>\n",
       "      <td>Varies with device</td>\n",
       "      <td>Varies with device</td>\n",
       "      <td>5700313618786177705</td>\n",
       "      <td>EDUCATION</td>\n",
       "      <td>NaN</td>\n",
       "      <td>Everyone</td>\n",
       "      <td>false</td>\n",
       "      <td>Jan 14, 2015</td>\n",
       "      <td>1550592218000</td>\n",
       "      <td>Varies with device</td>\n",
       "      <td>We&amp;#39;re making classes even more flexible fo...</td>\n",
       "      <td>com.google.android.apps.classroom</td>\n",
       "      <td>https://play.google.com/store/apps/details?id=...</td>\n",
       "      <td>EDUCATION</td>\n",
       "    </tr>\n",
       "    <tr>\n",
       "      <td>...</td>\n",
       "      <td>...</td>\n",
       "      <td>...</td>\n",
       "      <td>...</td>\n",
       "      <td>...</td>\n",
       "      <td>...</td>\n",
       "      <td>...</td>\n",
       "      <td>...</td>\n",
       "      <td>...</td>\n",
       "      <td>...</td>\n",
       "      <td>...</td>\n",
       "      <td>...</td>\n",
       "      <td>...</td>\n",
       "      <td>...</td>\n",
       "      <td>...</td>\n",
       "      <td>...</td>\n",
       "      <td>...</td>\n",
       "      <td>...</td>\n",
       "      <td>...</td>\n",
       "      <td>...</td>\n",
       "      <td>...</td>\n",
       "      <td>...</td>\n",
       "      <td>...</td>\n",
       "      <td>...</td>\n",
       "    </tr>\n",
       "    <tr>\n",
       "      <td>696</td>\n",
       "      <td>iheartradio - free music, radio &amp; podcasts</td>\n",
       "      <td>com.clearchannel.iheartradio.controller</td>\n",
       "      <td>https://play.google.com/store/apps/details?id=...</td>\n",
       "      <td>https://lh3.googleusercontent.com/w-uA-J1kngql...</td>\n",
       "      <td>iHeartMedia, Inc.</td>\n",
       "      <td>8821283674927730745</td>\n",
       "      <td>NaN</td>\n",
       "      <td>true</td>\n",
       "      <td>Your Music. Your Stations. Your Podcasts. All ...</td>\n",
       "      <td>4.7</td>\n",
       "      <td>4.6609664\"title\"</td>\n",
       "      <td>appId</td>\n",
       "      <td>url</td>\n",
       "      <td>icon</td>\n",
       "      <td>developer</td>\n",
       "      <td>developerId</td>\n",
       "      <td>priceText</td>\n",
       "      <td>free</td>\n",
       "      <td>summary</td>\n",
       "      <td>scoreText</td>\n",
       "      <td>score</td>\n",
       "      <td>NaN</td>\n",
       "      <td>MUSIC AND AUDIO</td>\n",
       "    </tr>\n",
       "    <tr>\n",
       "      <td>697</td>\n",
       "      <td>amazon music</td>\n",
       "      <td>com.amazon.mp3</td>\n",
       "      <td>https://play.google.com/store/apps/details?id=...</td>\n",
       "      <td>https://lh3.googleusercontent.com/c0uMGe9aLRQx...</td>\n",
       "      <td>Amazon Mobile LLC</td>\n",
       "      <td>Amazon Mobile LLC</td>\n",
       "      <td>NaN</td>\n",
       "      <td>true</td>\n",
       "      <td>Find and play music you love – get the free Am...</td>\n",
       "      <td>4.3</td>\n",
       "      <td>4.323581\"title\"</td>\n",
       "      <td>appId</td>\n",
       "      <td>url</td>\n",
       "      <td>icon</td>\n",
       "      <td>developer</td>\n",
       "      <td>developerId</td>\n",
       "      <td>priceText</td>\n",
       "      <td>free</td>\n",
       "      <td>summary</td>\n",
       "      <td>scoreText</td>\n",
       "      <td>score</td>\n",
       "      <td>NaN</td>\n",
       "      <td>MUSIC AND AUDIO</td>\n",
       "    </tr>\n",
       "    <tr>\n",
       "      <td>698</td>\n",
       "      <td>amazon alexa</td>\n",
       "      <td>com.amazon.dee.app</td>\n",
       "      <td>https://play.google.com/store/apps/details?id=...</td>\n",
       "      <td>https://lh3.googleusercontent.com/TrGtH5xYMUuy...</td>\n",
       "      <td>Amazon Mobile LLC</td>\n",
       "      <td>Amazon Mobile LLC</td>\n",
       "      <td>NaN</td>\n",
       "      <td>true</td>\n",
       "      <td>ALWAYS READY, CONNECTED, AND FAST. Just ask.</td>\n",
       "      <td>3.4</td>\n",
       "      <td>3.4326818\"title\"</td>\n",
       "      <td>appId</td>\n",
       "      <td>url</td>\n",
       "      <td>icon</td>\n",
       "      <td>developer</td>\n",
       "      <td>developerId</td>\n",
       "      <td>priceText</td>\n",
       "      <td>free</td>\n",
       "      <td>summary</td>\n",
       "      <td>scoreText</td>\n",
       "      <td>score</td>\n",
       "      <td>NaN</td>\n",
       "      <td>MUSIC AND AUDIO</td>\n",
       "    </tr>\n",
       "    <tr>\n",
       "      <td>699</td>\n",
       "      <td>apple music</td>\n",
       "      <td>com.apple.android.music</td>\n",
       "      <td>https://play.google.com/store/apps/details?id=...</td>\n",
       "      <td>https://lh3.googleusercontent.com/-E-jAfuwURMb...</td>\n",
       "      <td>Apple Inc.</td>\n",
       "      <td>Apple Inc.</td>\n",
       "      <td>NaN</td>\n",
       "      <td>true</td>\n",
       "      <td>50 million songs. All ad-free.</td>\n",
       "      <td>3.5</td>\n",
       "      <td>3.4576716\"title\"</td>\n",
       "      <td>appId</td>\n",
       "      <td>url</td>\n",
       "      <td>icon</td>\n",
       "      <td>developer</td>\n",
       "      <td>developerId</td>\n",
       "      <td>priceText</td>\n",
       "      <td>free</td>\n",
       "      <td>summary</td>\n",
       "      <td>scoreText</td>\n",
       "      <td>score</td>\n",
       "      <td>NaN</td>\n",
       "      <td>MUSIC AND AUDIO</td>\n",
       "    </tr>\n",
       "    <tr>\n",
       "      <td>700</td>\n",
       "      <td>soundcloud - music &amp; audio</td>\n",
       "      <td>com.soundcloud.android</td>\n",
       "      <td>https://play.google.com/store/apps/details?id=...</td>\n",
       "      <td>https://lh3.googleusercontent.com/lvYCdrPNFU0A...</td>\n",
       "      <td>SoundCloud</td>\n",
       "      <td>SoundCloud</td>\n",
       "      <td>NaN</td>\n",
       "      <td>true</td>\n",
       "      <td>The world’s largest audio and music streaming ...</td>\n",
       "      <td>4.5</td>\n",
       "      <td>4.508015</td>\n",
       "      <td>NaN</td>\n",
       "      <td>NaN</td>\n",
       "      <td>NaN</td>\n",
       "      <td>NaN</td>\n",
       "      <td>NaN</td>\n",
       "      <td>NaN</td>\n",
       "      <td>NaN</td>\n",
       "      <td>NaN</td>\n",
       "      <td>NaN</td>\n",
       "      <td>NaN</td>\n",
       "      <td>NaN</td>\n",
       "      <td>MUSIC AND AUDIO</td>\n",
       "    </tr>\n",
       "  </tbody>\n",
       "</table>\n",
       "<p>636 rows × 23 columns</p>\n",
       "</div>"
      ],
      "text/plain": [
       "0                                      appTitle  \\\n",
       "1                duolingo: learn languages free   \n",
       "2                                     photomath   \n",
       "3                  remind: school communication   \n",
       "4                                       kahoot!   \n",
       "5                              google classroom   \n",
       "..                                          ...   \n",
       "696  iheartradio - free music, radio & podcasts   \n",
       "697                                amazon music   \n",
       "698                                amazon alexa   \n",
       "699                                 apple music   \n",
       "700                  soundcloud - music & audio   \n",
       "\n",
       "0                                              summary  \\\n",
       "1    Learn English, Spanish, French, German, Italia...   \n",
       "2                                  Scan. Solve. Learn.   \n",
       "3                                 School Communication   \n",
       "4    Create and play quizzes on the go, have fun an...   \n",
       "5    Connect with your classes and do assignments o...   \n",
       "..                                                 ...   \n",
       "696            com.clearchannel.iheartradio.controller   \n",
       "697                                     com.amazon.mp3   \n",
       "698                                 com.amazon.dee.app   \n",
       "699                            com.apple.android.music   \n",
       "700                             com.soundcloud.android   \n",
       "\n",
       "0                                             installs  \\\n",
       "1                                         100,000,000+   \n",
       "2                                          50,000,000+   \n",
       "3                                          10,000,000+   \n",
       "4                                          10,000,000+   \n",
       "5                                          10,000,000+   \n",
       "..                                                 ...   \n",
       "696  https://play.google.com/store/apps/details?id=...   \n",
       "697  https://play.google.com/store/apps/details?id=...   \n",
       "698  https://play.google.com/store/apps/details?id=...   \n",
       "699  https://play.google.com/store/apps/details?id=...   \n",
       "700  https://play.google.com/store/apps/details?id=...   \n",
       "\n",
       "0                                          minInstalls              score  \\\n",
       "1                                            100000000          4.7198496   \n",
       "2                                             50000000           4.689265   \n",
       "3                                             10000000          4.4903703   \n",
       "4                                             10000000          4.2366056   \n",
       "5                                             10000000           4.230005   \n",
       "..                                                 ...                ...   \n",
       "696  https://lh3.googleusercontent.com/w-uA-J1kngql...  iHeartMedia, Inc.   \n",
       "697  https://lh3.googleusercontent.com/c0uMGe9aLRQx...  Amazon Mobile LLC   \n",
       "698  https://lh3.googleusercontent.com/TrGtH5xYMUuy...  Amazon Mobile LLC   \n",
       "699  https://lh3.googleusercontent.com/-E-jAfuwURMb...         Apple Inc.   \n",
       "700  https://lh3.googleusercontent.com/lvYCdrPNFU0A...         SoundCloud   \n",
       "\n",
       "0                ratings    reviews  free  \\\n",
       "1                7258463  2788387.0  true   \n",
       "2                1033063   385731.0  true   \n",
       "3                 139258    45845.0  true   \n",
       "4                  59838    18498.0  true   \n",
       "5                  87020    22630.0  true   \n",
       "..                   ...        ...   ...   \n",
       "696  8821283674927730745        NaN  true   \n",
       "697    Amazon Mobile LLC        NaN  true   \n",
       "698    Amazon Mobile LLC        NaN  true   \n",
       "699           Apple Inc.        NaN  true   \n",
       "700           SoundCloud        NaN  true   \n",
       "\n",
       "0                                            offersIAP                size  \\\n",
       "1                                                 true  Varies with device   \n",
       "2                                                false  Varies with device   \n",
       "3                                                false                 22M   \n",
       "4                                                 true  Varies with device   \n",
       "5                                                false  Varies with device   \n",
       "..                                                 ...                 ...   \n",
       "696  Your Music. Your Stations. Your Podcasts. All ...                 4.7   \n",
       "697  Find and play music you love – get the free Am...                 4.3   \n",
       "698       ALWAYS READY, CONNECTED, AND FAST. Just ask.                 3.4   \n",
       "699                     50 million songs. All ad-free.                 3.5   \n",
       "700  The world’s largest audio and music streaming ...                 4.5   \n",
       "\n",
       "0    androidVersionText          developerId    genreId     familyGenreId  \\\n",
       "1    Varies with device  6957685454452609502  EDUCATION  FAMILY_EDUCATION   \n",
       "2    Varies with device  8492011720422545772  EDUCATION               NaN   \n",
       "3            4.4 and up            Remind101  EDUCATION               NaN   \n",
       "4    Varies with device  5643238107618943124  EDUCATION  FAMILY_EDUCATION   \n",
       "5    Varies with device  5700313618786177705  EDUCATION               NaN   \n",
       "..                  ...                  ...        ...               ...   \n",
       "696    4.6609664\"title\"                appId        url              icon   \n",
       "697     4.323581\"title\"                appId        url              icon   \n",
       "698    3.4326818\"title\"                appId        url              icon   \n",
       "699    3.4576716\"title\"                appId        url              icon   \n",
       "700            4.508015                  NaN        NaN               NaN   \n",
       "\n",
       "0   contentRating  adSupported      released        updated  \\\n",
       "1        Everyone         true  May 29, 2013  1551998991000   \n",
       "2        Everyone        false  Feb 26, 2015  1545376427000   \n",
       "3        Everyone        false   Oct 5, 2012  1551835573000   \n",
       "4        Everyone        false   Nov 1, 2012  1551194923000   \n",
       "5        Everyone        false  Jan 14, 2015  1550592218000   \n",
       "..            ...          ...           ...            ...   \n",
       "696     developer  developerId     priceText           free   \n",
       "697     developer  developerId     priceText           free   \n",
       "698     developer  developerId     priceText           free   \n",
       "699     developer  developerId     priceText           free   \n",
       "700           NaN          NaN           NaN            NaN   \n",
       "\n",
       "0               version                                      recentChanges  \\\n",
       "1    Varies with device  Our mascot owl, Duo, is trading in his usual d...   \n",
       "2    Varies with device  Bug fixes and performance enhancements for smo...   \n",
       "3          9.16.2.33150  To make your Remind experience great, we updat...   \n",
       "4    Varies with device  This update is mostly about bug fixing and imp...   \n",
       "5    Varies with device  We&#39;re making classes even more flexible fo...   \n",
       "..                  ...                                                ...   \n",
       "696             summary                                          scoreText   \n",
       "697             summary                                          scoreText   \n",
       "698             summary                                          scoreText   \n",
       "699             summary                                          scoreText   \n",
       "700                 NaN                                                NaN   \n",
       "\n",
       "0                                appId  \\\n",
       "1                         com.duolingo   \n",
       "2             com.microblink.photomath   \n",
       "3                        com.remind101   \n",
       "4          no.mobitroll.kahoot.android   \n",
       "5    com.google.android.apps.classroom   \n",
       "..                                 ...   \n",
       "696                              score   \n",
       "697                              score   \n",
       "698                              score   \n",
       "699                              score   \n",
       "700                                NaN   \n",
       "\n",
       "0                                                  url         CATEGORY  \n",
       "1    https://play.google.com/store/apps/details?id=...        EDUCATION  \n",
       "2    https://play.google.com/store/apps/details?id=...        EDUCATION  \n",
       "3    https://play.google.com/store/apps/details?id=...        EDUCATION  \n",
       "4    https://play.google.com/store/apps/details?id=...        EDUCATION  \n",
       "5    https://play.google.com/store/apps/details?id=...        EDUCATION  \n",
       "..                                                 ...              ...  \n",
       "696                                                NaN  MUSIC AND AUDIO  \n",
       "697                                                NaN  MUSIC AND AUDIO  \n",
       "698                                                NaN  MUSIC AND AUDIO  \n",
       "699                                                NaN  MUSIC AND AUDIO  \n",
       "700                                                NaN  MUSIC AND AUDIO  \n",
       "\n",
       "[636 rows x 23 columns]"
      ]
     },
     "execution_count": 12,
     "metadata": {},
     "output_type": "execute_result"
    }
   ],
   "source": [
    "detailsDf.drop_duplicates(subset=['appTitle','summary','installs','minInstalls','score','ratings','reviews','free','offersIAP','size','androidVersionText','developerId','genreId','familyGenreId','contentRating'],inplace=True)\n",
    "detailsDf.drop(index=527,inplace=True)\n",
    "detailsDf.rename(columns={\"EDUCATION\":\"CATEGORY\"},inplace=True)\n",
    "detailsDf['reviews'] = pd.to_numeric(detailsDf['reviews'], errors='coerce')\n",
    "detailsDf.contentRating.unique()\n",
    "detailsDf\n"
   ]
  },
  {
   "cell_type": "code",
   "execution_count": 13,
   "metadata": {},
   "outputs": [
    {
     "data": {
      "text/html": [
       "<div>\n",
       "<style scoped>\n",
       "    .dataframe tbody tr th:only-of-type {\n",
       "        vertical-align: middle;\n",
       "    }\n",
       "\n",
       "    .dataframe tbody tr th {\n",
       "        vertical-align: top;\n",
       "    }\n",
       "\n",
       "    .dataframe thead th {\n",
       "        text-align: right;\n",
       "    }\n",
       "</style>\n",
       "<table border=\"1\" class=\"dataframe\">\n",
       "  <thead>\n",
       "    <tr style=\"text-align: right;\">\n",
       "      <th></th>\n",
       "      <th>appTitle</th>\n",
       "      <th>summary</th>\n",
       "      <th>installs</th>\n",
       "      <th>minInstalls</th>\n",
       "      <th>score</th>\n",
       "      <th>ratings</th>\n",
       "      <th>reviews</th>\n",
       "      <th>free</th>\n",
       "      <th>offersIAP</th>\n",
       "      <th>size</th>\n",
       "      <th>androidVersionText</th>\n",
       "      <th>developerId</th>\n",
       "      <th>genreId</th>\n",
       "      <th>familyGenreId</th>\n",
       "      <th>contentRating</th>\n",
       "      <th>adSupported</th>\n",
       "      <th>released</th>\n",
       "      <th>updated</th>\n",
       "      <th>version</th>\n",
       "      <th>recentChanges</th>\n",
       "      <th>appId</th>\n",
       "      <th>url</th>\n",
       "      <th>CATEGORY</th>\n",
       "    </tr>\n",
       "  </thead>\n",
       "  <tbody>\n",
       "    <tr>\n",
       "      <td>1</td>\n",
       "      <td>duolingo: learn languages free</td>\n",
       "      <td>Learn English, Spanish, French, German, Italia...</td>\n",
       "      <td>100,000,000+</td>\n",
       "      <td>100000000</td>\n",
       "      <td>4.7198496</td>\n",
       "      <td>7258463</td>\n",
       "      <td>2788387.0</td>\n",
       "      <td>true</td>\n",
       "      <td>true</td>\n",
       "      <td>Varies with device</td>\n",
       "      <td>Varies with device</td>\n",
       "      <td>6957685454452609502</td>\n",
       "      <td>EDUCATION</td>\n",
       "      <td>FAMILY_EDUCATION</td>\n",
       "      <td>Everyone</td>\n",
       "      <td>true</td>\n",
       "      <td>May 29, 2013</td>\n",
       "      <td>1551998991000</td>\n",
       "      <td>Varies with device</td>\n",
       "      <td>Our mascot owl, Duo, is trading in his usual d...</td>\n",
       "      <td>com.duolingo</td>\n",
       "      <td>https://play.google.com/store/apps/details?id=...</td>\n",
       "      <td>EDUCATION</td>\n",
       "    </tr>\n",
       "    <tr>\n",
       "      <td>2</td>\n",
       "      <td>photomath</td>\n",
       "      <td>Scan. Solve. Learn.</td>\n",
       "      <td>50,000,000+</td>\n",
       "      <td>50000000</td>\n",
       "      <td>4.689265</td>\n",
       "      <td>1033063</td>\n",
       "      <td>385731.0</td>\n",
       "      <td>true</td>\n",
       "      <td>false</td>\n",
       "      <td>Varies with device</td>\n",
       "      <td>Varies with device</td>\n",
       "      <td>8492011720422545772</td>\n",
       "      <td>EDUCATION</td>\n",
       "      <td>NaN</td>\n",
       "      <td>Everyone</td>\n",
       "      <td>false</td>\n",
       "      <td>Feb 26, 2015</td>\n",
       "      <td>1545376427000</td>\n",
       "      <td>Varies with device</td>\n",
       "      <td>Bug fixes and performance enhancements for smo...</td>\n",
       "      <td>com.microblink.photomath</td>\n",
       "      <td>https://play.google.com/store/apps/details?id=...</td>\n",
       "      <td>EDUCATION</td>\n",
       "    </tr>\n",
       "    <tr>\n",
       "      <td>3</td>\n",
       "      <td>remind: school communication</td>\n",
       "      <td>School Communication</td>\n",
       "      <td>10,000,000+</td>\n",
       "      <td>10000000</td>\n",
       "      <td>4.4903703</td>\n",
       "      <td>139258</td>\n",
       "      <td>45845.0</td>\n",
       "      <td>true</td>\n",
       "      <td>false</td>\n",
       "      <td>22M</td>\n",
       "      <td>4.4 and up</td>\n",
       "      <td>Remind101</td>\n",
       "      <td>EDUCATION</td>\n",
       "      <td>NaN</td>\n",
       "      <td>Everyone</td>\n",
       "      <td>false</td>\n",
       "      <td>Oct 5, 2012</td>\n",
       "      <td>1551835573000</td>\n",
       "      <td>9.16.2.33150</td>\n",
       "      <td>To make your Remind experience great, we updat...</td>\n",
       "      <td>com.remind101</td>\n",
       "      <td>https://play.google.com/store/apps/details?id=...</td>\n",
       "      <td>EDUCATION</td>\n",
       "    </tr>\n",
       "    <tr>\n",
       "      <td>4</td>\n",
       "      <td>kahoot!</td>\n",
       "      <td>Create and play quizzes on the go, have fun an...</td>\n",
       "      <td>10,000,000+</td>\n",
       "      <td>10000000</td>\n",
       "      <td>4.2366056</td>\n",
       "      <td>59838</td>\n",
       "      <td>18498.0</td>\n",
       "      <td>true</td>\n",
       "      <td>true</td>\n",
       "      <td>Varies with device</td>\n",
       "      <td>Varies with device</td>\n",
       "      <td>5643238107618943124</td>\n",
       "      <td>EDUCATION</td>\n",
       "      <td>FAMILY_EDUCATION</td>\n",
       "      <td>Everyone</td>\n",
       "      <td>false</td>\n",
       "      <td>Nov 1, 2012</td>\n",
       "      <td>1551194923000</td>\n",
       "      <td>Varies with device</td>\n",
       "      <td>This update is mostly about bug fixing and imp...</td>\n",
       "      <td>no.mobitroll.kahoot.android</td>\n",
       "      <td>https://play.google.com/store/apps/details?id=...</td>\n",
       "      <td>EDUCATION</td>\n",
       "    </tr>\n",
       "    <tr>\n",
       "      <td>5</td>\n",
       "      <td>google classroom</td>\n",
       "      <td>Connect with your classes and do assignments o...</td>\n",
       "      <td>10,000,000+</td>\n",
       "      <td>10000000</td>\n",
       "      <td>4.230005</td>\n",
       "      <td>87020</td>\n",
       "      <td>22630.0</td>\n",
       "      <td>true</td>\n",
       "      <td>false</td>\n",
       "      <td>Varies with device</td>\n",
       "      <td>Varies with device</td>\n",
       "      <td>5700313618786177705</td>\n",
       "      <td>EDUCATION</td>\n",
       "      <td>NaN</td>\n",
       "      <td>Everyone</td>\n",
       "      <td>false</td>\n",
       "      <td>Jan 14, 2015</td>\n",
       "      <td>1550592218000</td>\n",
       "      <td>Varies with device</td>\n",
       "      <td>We&amp;#39;re making classes even more flexible fo...</td>\n",
       "      <td>com.google.android.apps.classroom</td>\n",
       "      <td>https://play.google.com/store/apps/details?id=...</td>\n",
       "      <td>EDUCATION</td>\n",
       "    </tr>\n",
       "    <tr>\n",
       "      <td>...</td>\n",
       "      <td>...</td>\n",
       "      <td>...</td>\n",
       "      <td>...</td>\n",
       "      <td>...</td>\n",
       "      <td>...</td>\n",
       "      <td>...</td>\n",
       "      <td>...</td>\n",
       "      <td>...</td>\n",
       "      <td>...</td>\n",
       "      <td>...</td>\n",
       "      <td>...</td>\n",
       "      <td>...</td>\n",
       "      <td>...</td>\n",
       "      <td>...</td>\n",
       "      <td>...</td>\n",
       "      <td>...</td>\n",
       "      <td>...</td>\n",
       "      <td>...</td>\n",
       "      <td>...</td>\n",
       "      <td>...</td>\n",
       "      <td>...</td>\n",
       "      <td>...</td>\n",
       "      <td>...</td>\n",
       "    </tr>\n",
       "    <tr>\n",
       "      <td>696</td>\n",
       "      <td>iheartradio - free music, radio &amp; podcasts</td>\n",
       "      <td>com.clearchannel.iheartradio.controller</td>\n",
       "      <td>https://play.google.com/store/apps/details?id=...</td>\n",
       "      <td>https://lh3.googleusercontent.com/w-uA-J1kngql...</td>\n",
       "      <td>iHeartMedia, Inc.</td>\n",
       "      <td>8821283674927730745</td>\n",
       "      <td>NaN</td>\n",
       "      <td>true</td>\n",
       "      <td>Your Music. Your Stations. Your Podcasts. All ...</td>\n",
       "      <td>4.7</td>\n",
       "      <td>4.6609664\"title\"</td>\n",
       "      <td>appId</td>\n",
       "      <td>url</td>\n",
       "      <td>icon</td>\n",
       "      <td>developer</td>\n",
       "      <td>developerId</td>\n",
       "      <td>priceText</td>\n",
       "      <td>free</td>\n",
       "      <td>summary</td>\n",
       "      <td>scoreText</td>\n",
       "      <td>score</td>\n",
       "      <td>NaN</td>\n",
       "      <td>MUSIC AND AUDIO</td>\n",
       "    </tr>\n",
       "    <tr>\n",
       "      <td>697</td>\n",
       "      <td>amazon music</td>\n",
       "      <td>com.amazon.mp3</td>\n",
       "      <td>https://play.google.com/store/apps/details?id=...</td>\n",
       "      <td>https://lh3.googleusercontent.com/c0uMGe9aLRQx...</td>\n",
       "      <td>Amazon Mobile LLC</td>\n",
       "      <td>Amazon Mobile LLC</td>\n",
       "      <td>NaN</td>\n",
       "      <td>true</td>\n",
       "      <td>Find and play music you love – get the free Am...</td>\n",
       "      <td>4.3</td>\n",
       "      <td>4.323581\"title\"</td>\n",
       "      <td>appId</td>\n",
       "      <td>url</td>\n",
       "      <td>icon</td>\n",
       "      <td>developer</td>\n",
       "      <td>developerId</td>\n",
       "      <td>priceText</td>\n",
       "      <td>free</td>\n",
       "      <td>summary</td>\n",
       "      <td>scoreText</td>\n",
       "      <td>score</td>\n",
       "      <td>NaN</td>\n",
       "      <td>MUSIC AND AUDIO</td>\n",
       "    </tr>\n",
       "    <tr>\n",
       "      <td>698</td>\n",
       "      <td>amazon alexa</td>\n",
       "      <td>com.amazon.dee.app</td>\n",
       "      <td>https://play.google.com/store/apps/details?id=...</td>\n",
       "      <td>https://lh3.googleusercontent.com/TrGtH5xYMUuy...</td>\n",
       "      <td>Amazon Mobile LLC</td>\n",
       "      <td>Amazon Mobile LLC</td>\n",
       "      <td>NaN</td>\n",
       "      <td>true</td>\n",
       "      <td>ALWAYS READY, CONNECTED, AND FAST. Just ask.</td>\n",
       "      <td>3.4</td>\n",
       "      <td>3.4326818\"title\"</td>\n",
       "      <td>appId</td>\n",
       "      <td>url</td>\n",
       "      <td>icon</td>\n",
       "      <td>developer</td>\n",
       "      <td>developerId</td>\n",
       "      <td>priceText</td>\n",
       "      <td>free</td>\n",
       "      <td>summary</td>\n",
       "      <td>scoreText</td>\n",
       "      <td>score</td>\n",
       "      <td>NaN</td>\n",
       "      <td>MUSIC AND AUDIO</td>\n",
       "    </tr>\n",
       "    <tr>\n",
       "      <td>699</td>\n",
       "      <td>apple music</td>\n",
       "      <td>com.apple.android.music</td>\n",
       "      <td>https://play.google.com/store/apps/details?id=...</td>\n",
       "      <td>https://lh3.googleusercontent.com/-E-jAfuwURMb...</td>\n",
       "      <td>Apple Inc.</td>\n",
       "      <td>Apple Inc.</td>\n",
       "      <td>NaN</td>\n",
       "      <td>true</td>\n",
       "      <td>50 million songs. All ad-free.</td>\n",
       "      <td>3.5</td>\n",
       "      <td>3.4576716\"title\"</td>\n",
       "      <td>appId</td>\n",
       "      <td>url</td>\n",
       "      <td>icon</td>\n",
       "      <td>developer</td>\n",
       "      <td>developerId</td>\n",
       "      <td>priceText</td>\n",
       "      <td>free</td>\n",
       "      <td>summary</td>\n",
       "      <td>scoreText</td>\n",
       "      <td>score</td>\n",
       "      <td>NaN</td>\n",
       "      <td>MUSIC AND AUDIO</td>\n",
       "    </tr>\n",
       "    <tr>\n",
       "      <td>700</td>\n",
       "      <td>soundcloud - music &amp; audio</td>\n",
       "      <td>com.soundcloud.android</td>\n",
       "      <td>https://play.google.com/store/apps/details?id=...</td>\n",
       "      <td>https://lh3.googleusercontent.com/lvYCdrPNFU0A...</td>\n",
       "      <td>SoundCloud</td>\n",
       "      <td>SoundCloud</td>\n",
       "      <td>NaN</td>\n",
       "      <td>true</td>\n",
       "      <td>The world’s largest audio and music streaming ...</td>\n",
       "      <td>4.5</td>\n",
       "      <td>4.508015</td>\n",
       "      <td>NaN</td>\n",
       "      <td>NaN</td>\n",
       "      <td>NaN</td>\n",
       "      <td>NaN</td>\n",
       "      <td>NaN</td>\n",
       "      <td>NaN</td>\n",
       "      <td>NaN</td>\n",
       "      <td>NaN</td>\n",
       "      <td>NaN</td>\n",
       "      <td>NaN</td>\n",
       "      <td>NaN</td>\n",
       "      <td>MUSIC AND AUDIO</td>\n",
       "    </tr>\n",
       "  </tbody>\n",
       "</table>\n",
       "<p>636 rows × 23 columns</p>\n",
       "</div>"
      ],
      "text/plain": [
       "0                                      appTitle  \\\n",
       "1                duolingo: learn languages free   \n",
       "2                                     photomath   \n",
       "3                  remind: school communication   \n",
       "4                                       kahoot!   \n",
       "5                              google classroom   \n",
       "..                                          ...   \n",
       "696  iheartradio - free music, radio & podcasts   \n",
       "697                                amazon music   \n",
       "698                                amazon alexa   \n",
       "699                                 apple music   \n",
       "700                  soundcloud - music & audio   \n",
       "\n",
       "0                                              summary  \\\n",
       "1    Learn English, Spanish, French, German, Italia...   \n",
       "2                                  Scan. Solve. Learn.   \n",
       "3                                 School Communication   \n",
       "4    Create and play quizzes on the go, have fun an...   \n",
       "5    Connect with your classes and do assignments o...   \n",
       "..                                                 ...   \n",
       "696            com.clearchannel.iheartradio.controller   \n",
       "697                                     com.amazon.mp3   \n",
       "698                                 com.amazon.dee.app   \n",
       "699                            com.apple.android.music   \n",
       "700                             com.soundcloud.android   \n",
       "\n",
       "0                                             installs  \\\n",
       "1                                         100,000,000+   \n",
       "2                                          50,000,000+   \n",
       "3                                          10,000,000+   \n",
       "4                                          10,000,000+   \n",
       "5                                          10,000,000+   \n",
       "..                                                 ...   \n",
       "696  https://play.google.com/store/apps/details?id=...   \n",
       "697  https://play.google.com/store/apps/details?id=...   \n",
       "698  https://play.google.com/store/apps/details?id=...   \n",
       "699  https://play.google.com/store/apps/details?id=...   \n",
       "700  https://play.google.com/store/apps/details?id=...   \n",
       "\n",
       "0                                          minInstalls              score  \\\n",
       "1                                            100000000          4.7198496   \n",
       "2                                             50000000           4.689265   \n",
       "3                                             10000000          4.4903703   \n",
       "4                                             10000000          4.2366056   \n",
       "5                                             10000000           4.230005   \n",
       "..                                                 ...                ...   \n",
       "696  https://lh3.googleusercontent.com/w-uA-J1kngql...  iHeartMedia, Inc.   \n",
       "697  https://lh3.googleusercontent.com/c0uMGe9aLRQx...  Amazon Mobile LLC   \n",
       "698  https://lh3.googleusercontent.com/TrGtH5xYMUuy...  Amazon Mobile LLC   \n",
       "699  https://lh3.googleusercontent.com/-E-jAfuwURMb...         Apple Inc.   \n",
       "700  https://lh3.googleusercontent.com/lvYCdrPNFU0A...         SoundCloud   \n",
       "\n",
       "0                ratings    reviews  free  \\\n",
       "1                7258463  2788387.0  true   \n",
       "2                1033063   385731.0  true   \n",
       "3                 139258    45845.0  true   \n",
       "4                  59838    18498.0  true   \n",
       "5                  87020    22630.0  true   \n",
       "..                   ...        ...   ...   \n",
       "696  8821283674927730745        NaN  true   \n",
       "697    Amazon Mobile LLC        NaN  true   \n",
       "698    Amazon Mobile LLC        NaN  true   \n",
       "699           Apple Inc.        NaN  true   \n",
       "700           SoundCloud        NaN  true   \n",
       "\n",
       "0                                            offersIAP                size  \\\n",
       "1                                                 true  Varies with device   \n",
       "2                                                false  Varies with device   \n",
       "3                                                false                 22M   \n",
       "4                                                 true  Varies with device   \n",
       "5                                                false  Varies with device   \n",
       "..                                                 ...                 ...   \n",
       "696  Your Music. Your Stations. Your Podcasts. All ...                 4.7   \n",
       "697  Find and play music you love – get the free Am...                 4.3   \n",
       "698       ALWAYS READY, CONNECTED, AND FAST. Just ask.                 3.4   \n",
       "699                     50 million songs. All ad-free.                 3.5   \n",
       "700  The world’s largest audio and music streaming ...                 4.5   \n",
       "\n",
       "0    androidVersionText          developerId    genreId     familyGenreId  \\\n",
       "1    Varies with device  6957685454452609502  EDUCATION  FAMILY_EDUCATION   \n",
       "2    Varies with device  8492011720422545772  EDUCATION               NaN   \n",
       "3            4.4 and up            Remind101  EDUCATION               NaN   \n",
       "4    Varies with device  5643238107618943124  EDUCATION  FAMILY_EDUCATION   \n",
       "5    Varies with device  5700313618786177705  EDUCATION               NaN   \n",
       "..                  ...                  ...        ...               ...   \n",
       "696    4.6609664\"title\"                appId        url              icon   \n",
       "697     4.323581\"title\"                appId        url              icon   \n",
       "698    3.4326818\"title\"                appId        url              icon   \n",
       "699    3.4576716\"title\"                appId        url              icon   \n",
       "700            4.508015                  NaN        NaN               NaN   \n",
       "\n",
       "0   contentRating  adSupported      released        updated  \\\n",
       "1        Everyone         true  May 29, 2013  1551998991000   \n",
       "2        Everyone        false  Feb 26, 2015  1545376427000   \n",
       "3        Everyone        false   Oct 5, 2012  1551835573000   \n",
       "4        Everyone        false   Nov 1, 2012  1551194923000   \n",
       "5        Everyone        false  Jan 14, 2015  1550592218000   \n",
       "..            ...          ...           ...            ...   \n",
       "696     developer  developerId     priceText           free   \n",
       "697     developer  developerId     priceText           free   \n",
       "698     developer  developerId     priceText           free   \n",
       "699     developer  developerId     priceText           free   \n",
       "700           NaN          NaN           NaN            NaN   \n",
       "\n",
       "0               version                                      recentChanges  \\\n",
       "1    Varies with device  Our mascot owl, Duo, is trading in his usual d...   \n",
       "2    Varies with device  Bug fixes and performance enhancements for smo...   \n",
       "3          9.16.2.33150  To make your Remind experience great, we updat...   \n",
       "4    Varies with device  This update is mostly about bug fixing and imp...   \n",
       "5    Varies with device  We&#39;re making classes even more flexible fo...   \n",
       "..                  ...                                                ...   \n",
       "696             summary                                          scoreText   \n",
       "697             summary                                          scoreText   \n",
       "698             summary                                          scoreText   \n",
       "699             summary                                          scoreText   \n",
       "700                 NaN                                                NaN   \n",
       "\n",
       "0                                appId  \\\n",
       "1                         com.duolingo   \n",
       "2             com.microblink.photomath   \n",
       "3                        com.remind101   \n",
       "4          no.mobitroll.kahoot.android   \n",
       "5    com.google.android.apps.classroom   \n",
       "..                                 ...   \n",
       "696                              score   \n",
       "697                              score   \n",
       "698                              score   \n",
       "699                              score   \n",
       "700                                NaN   \n",
       "\n",
       "0                                                  url         CATEGORY  \n",
       "1    https://play.google.com/store/apps/details?id=...        EDUCATION  \n",
       "2    https://play.google.com/store/apps/details?id=...        EDUCATION  \n",
       "3    https://play.google.com/store/apps/details?id=...        EDUCATION  \n",
       "4    https://play.google.com/store/apps/details?id=...        EDUCATION  \n",
       "5    https://play.google.com/store/apps/details?id=...        EDUCATION  \n",
       "..                                                 ...              ...  \n",
       "696                                                NaN  MUSIC AND AUDIO  \n",
       "697                                                NaN  MUSIC AND AUDIO  \n",
       "698                                                NaN  MUSIC AND AUDIO  \n",
       "699                                                NaN  MUSIC AND AUDIO  \n",
       "700                                                NaN  MUSIC AND AUDIO  \n",
       "\n",
       "[636 rows x 23 columns]"
      ]
     },
     "execution_count": 13,
     "metadata": {},
     "output_type": "execute_result"
    }
   ],
   "source": [
    "detailsDf"
   ]
  },
  {
   "cell_type": "markdown",
   "metadata": {},
   "source": [
    "###### Content Rating groups in each of the eight categories and their number "
   ]
  },
  {
   "cell_type": "code",
   "execution_count": 16,
   "metadata": {},
   "outputs": [
    {
     "data": {
      "text/plain": [
       "CATEGORY            contentRating\n",
       "EDUCATION           Everyone         60\n",
       "                    developer        18\n",
       "ENTERTAINMENT       Everyone          6\n",
       "                    Mature 17+        6\n",
       "                    Teen             48\n",
       "                    developer        18\n",
       "FAMILY              Everyone         40\n",
       "                    Everyone 10+     18\n",
       "                    developer        18\n",
       "FINANCE             Everyone         60\n",
       "                    contentRating     1\n",
       "                    developer        18\n",
       "GAME-ACTION         Everyone         30\n",
       "                    Mature 17+        6\n",
       "                    Teen             24\n",
       "                    developer        18\n",
       "HEALTH AND FITNESS  Everyone         60\n",
       "                    developer        18\n",
       "LIFESTYLE           Everyone         52\n",
       "                    Mature 17+        6\n",
       "                    Teen              1\n",
       "                    developer        16\n",
       "MUSIC AND AUDIO     Everyone         12\n",
       "                    Teen             48\n",
       "                    developer        18\n",
       "Name: contentRating, dtype: int64"
      ]
     },
     "execution_count": 16,
     "metadata": {},
     "output_type": "execute_result"
    }
   ],
   "source": [
    "detailsDf.contentRating.unique()\n",
    "pd.DataFrame(detailsDf.groupby(\"CATEGORY\")[\"contentRating\"].unique())\n",
    "detailsDf.groupby([\"CATEGORY\",\"contentRating\"])[\"contentRating\"].count()"
   ]
  },
  {
   "cell_type": "markdown",
   "metadata": {},
   "source": [
    "*******"
   ]
  },
  {
   "cell_type": "markdown",
   "metadata": {},
   "source": [
    "#### Reviews Analysis"
   ]
  },
  {
   "cell_type": "code",
   "execution_count": 19,
   "metadata": {},
   "outputs": [
    {
     "data": {
      "text/plain": [
       "64"
      ]
     },
     "execution_count": 19,
     "metadata": {},
     "output_type": "execute_result"
    }
   ],
   "source": [
    "len(fileNames)"
   ]
  },
  {
   "cell_type": "code",
   "execution_count": 22,
   "metadata": {},
   "outputs": [],
   "source": [
    "df = pd.concat(dfList)\n",
    "df.reset_index(drop=True,inplace=True)\n",
    "df.rename(columns={1:\"appTitle\",2:\"userName\",3:\"date\",4:\"score\",5:\"text\"},inplace=True)\n",
    "df.dropna(axis=1,how=\"all\",inplace=True)\n",
    "df['appTitle'] = df['appTitle'].str.lower()\n",
    "\n",
    "\n",
    "\n"
   ]
  },
  {
   "cell_type": "markdown",
   "metadata": {},
   "source": [
    "#### Reviews Data set after reading each CSV and attaching category as additional column"
   ]
  },
  {
   "cell_type": "code",
   "execution_count": 23,
   "metadata": {},
   "outputs": [
    {
     "data": {
      "text/html": [
       "<div>\n",
       "<style scoped>\n",
       "    .dataframe tbody tr th:only-of-type {\n",
       "        vertical-align: middle;\n",
       "    }\n",
       "\n",
       "    .dataframe tbody tr th {\n",
       "        vertical-align: top;\n",
       "    }\n",
       "\n",
       "    .dataframe thead th {\n",
       "        text-align: right;\n",
       "    }\n",
       "</style>\n",
       "<table border=\"1\" class=\"dataframe\">\n",
       "  <thead>\n",
       "    <tr style=\"text-align: right;\">\n",
       "      <th></th>\n",
       "      <th>appTitle</th>\n",
       "      <th>userName</th>\n",
       "      <th>date</th>\n",
       "      <th>score</th>\n",
       "      <th>text</th>\n",
       "      <th>CATEGORY</th>\n",
       "    </tr>\n",
       "  </thead>\n",
       "  <tbody>\n",
       "    <tr>\n",
       "      <td>0</td>\n",
       "      <td>photomath</td>\n",
       "      <td>NaN</td>\n",
       "      <td>March 8, 2019</td>\n",
       "      <td>5</td>\n",
       "      <td>nice</td>\n",
       "      <td>EDUCATION</td>\n",
       "    </tr>\n",
       "    <tr>\n",
       "      <td>1</td>\n",
       "      <td>photomath</td>\n",
       "      <td>NaN</td>\n",
       "      <td>March 8, 2019</td>\n",
       "      <td>4</td>\n",
       "      <td>very helpful</td>\n",
       "      <td>EDUCATION</td>\n",
       "    </tr>\n",
       "    <tr>\n",
       "      <td>2</td>\n",
       "      <td>photomath</td>\n",
       "      <td>NaN</td>\n",
       "      <td>March 8, 2019</td>\n",
       "      <td>5</td>\n",
       "      <td>Great App. Detailed answers. Understandable an...</td>\n",
       "      <td>EDUCATION</td>\n",
       "    </tr>\n",
       "    <tr>\n",
       "      <td>3</td>\n",
       "      <td>photomath</td>\n",
       "      <td>NaN</td>\n",
       "      <td>March 8, 2019</td>\n",
       "      <td>5</td>\n",
       "      <td>great!!!</td>\n",
       "      <td>EDUCATION</td>\n",
       "    </tr>\n",
       "    <tr>\n",
       "      <td>4</td>\n",
       "      <td>photomath</td>\n",
       "      <td>NaN</td>\n",
       "      <td>March 8, 2019</td>\n",
       "      <td>1</td>\n",
       "      <td>bakwas hai pura.....time pass hai</td>\n",
       "      <td>EDUCATION</td>\n",
       "    </tr>\n",
       "    <tr>\n",
       "      <td>...</td>\n",
       "      <td>...</td>\n",
       "      <td>...</td>\n",
       "      <td>...</td>\n",
       "      <td>...</td>\n",
       "      <td>...</td>\n",
       "      <td>...</td>\n",
       "    </tr>\n",
       "    <tr>\n",
       "      <td>2715298</td>\n",
       "      <td>soundcloud - music &amp; audio</td>\n",
       "      <td>pubgmaster 25</td>\n",
       "      <td>May 3, 2019</td>\n",
       "      <td>1</td>\n",
       "      <td>it gay</td>\n",
       "      <td>MUSIC AND AUDIO</td>\n",
       "    </tr>\n",
       "    <tr>\n",
       "      <td>2715299</td>\n",
       "      <td>soundcloud - music &amp; audio</td>\n",
       "      <td>Anjita Sinha</td>\n",
       "      <td>May 3, 2019</td>\n",
       "      <td>4</td>\n",
       "      <td>Love it</td>\n",
       "      <td>MUSIC AND AUDIO</td>\n",
       "    </tr>\n",
       "    <tr>\n",
       "      <td>2715300</td>\n",
       "      <td>soundcloud - music &amp; audio</td>\n",
       "      <td>Luis Lucas</td>\n",
       "      <td>May 3, 2019</td>\n",
       "      <td>5</td>\n",
       "      <td>muy bueno me gusta y puedo aguardar la musica ...</td>\n",
       "      <td>MUSIC AND AUDIO</td>\n",
       "    </tr>\n",
       "    <tr>\n",
       "      <td>2715301</td>\n",
       "      <td>soundcloud - music &amp; audio</td>\n",
       "      <td>Teairo Keys</td>\n",
       "      <td>May 3, 2019</td>\n",
       "      <td>5</td>\n",
       "      <td>love this app</td>\n",
       "      <td>MUSIC AND AUDIO</td>\n",
       "    </tr>\n",
       "    <tr>\n",
       "      <td>2715302</td>\n",
       "      <td>soundcloud - music &amp; audio</td>\n",
       "      <td>Ian Libo</td>\n",
       "      <td>May 3, 2019</td>\n",
       "      <td>1</td>\n",
       "      <td>The app was great and has a very nice selectio...</td>\n",
       "      <td>MUSIC AND AUDIO</td>\n",
       "    </tr>\n",
       "  </tbody>\n",
       "</table>\n",
       "<p>2715303 rows × 6 columns</p>\n",
       "</div>"
      ],
      "text/plain": [
       "                           appTitle       userName           date  score  \\\n",
       "0                         photomath            NaN  March 8, 2019      5   \n",
       "1                         photomath            NaN  March 8, 2019      4   \n",
       "2                         photomath            NaN  March 8, 2019      5   \n",
       "3                         photomath            NaN  March 8, 2019      5   \n",
       "4                         photomath            NaN  March 8, 2019      1   \n",
       "...                             ...            ...            ...    ...   \n",
       "2715298  soundcloud - music & audio  pubgmaster 25    May 3, 2019      1   \n",
       "2715299  soundcloud - music & audio   Anjita Sinha    May 3, 2019      4   \n",
       "2715300  soundcloud - music & audio     Luis Lucas    May 3, 2019      5   \n",
       "2715301  soundcloud - music & audio    Teairo Keys    May 3, 2019      5   \n",
       "2715302  soundcloud - music & audio       Ian Libo    May 3, 2019      1   \n",
       "\n",
       "                                                      text         CATEGORY  \n",
       "0                                                     nice        EDUCATION  \n",
       "1                                             very helpful        EDUCATION  \n",
       "2        Great App. Detailed answers. Understandable an...        EDUCATION  \n",
       "3                                                 great!!!        EDUCATION  \n",
       "4                        bakwas hai pura.....time pass hai        EDUCATION  \n",
       "...                                                    ...              ...  \n",
       "2715298                                             it gay  MUSIC AND AUDIO  \n",
       "2715299                                            Love it  MUSIC AND AUDIO  \n",
       "2715300  muy bueno me gusta y puedo aguardar la musica ...  MUSIC AND AUDIO  \n",
       "2715301                                      love this app  MUSIC AND AUDIO  \n",
       "2715302  The app was great and has a very nice selectio...  MUSIC AND AUDIO  \n",
       "\n",
       "[2715303 rows x 6 columns]"
      ]
     },
     "execution_count": 23,
     "metadata": {},
     "output_type": "execute_result"
    }
   ],
   "source": [
    "df"
   ]
  },
  {
   "cell_type": "code",
   "execution_count": 38,
   "metadata": {},
   "outputs": [
    {
     "data": {
      "text/html": [
       "<div>\n",
       "<style scoped>\n",
       "    .dataframe tbody tr th:only-of-type {\n",
       "        vertical-align: middle;\n",
       "    }\n",
       "\n",
       "    .dataframe tbody tr th {\n",
       "        vertical-align: top;\n",
       "    }\n",
       "\n",
       "    .dataframe thead th {\n",
       "        text-align: right;\n",
       "    }\n",
       "</style>\n",
       "<table border=\"1\" class=\"dataframe\">\n",
       "  <thead>\n",
       "    <tr style=\"text-align: right;\">\n",
       "      <th></th>\n",
       "      <th>appTitle</th>\n",
       "      <th>userName</th>\n",
       "      <th>date</th>\n",
       "      <th>score</th>\n",
       "      <th>text</th>\n",
       "      <th>CATEGORY</th>\n",
       "    </tr>\n",
       "  </thead>\n",
       "  <tbody>\n",
       "    <tr>\n",
       "      <td>2715298</td>\n",
       "      <td>SoundCloud - Music &amp; Audio</td>\n",
       "      <td>pubgmaster 25</td>\n",
       "      <td>May 3, 2019</td>\n",
       "      <td>1</td>\n",
       "      <td>it gay</td>\n",
       "      <td>MUSIC AND AUDIO</td>\n",
       "    </tr>\n",
       "    <tr>\n",
       "      <td>2715299</td>\n",
       "      <td>SoundCloud - Music &amp; Audio</td>\n",
       "      <td>Anjita Sinha</td>\n",
       "      <td>May 3, 2019</td>\n",
       "      <td>4</td>\n",
       "      <td>Love it</td>\n",
       "      <td>MUSIC AND AUDIO</td>\n",
       "    </tr>\n",
       "    <tr>\n",
       "      <td>2715300</td>\n",
       "      <td>SoundCloud - Music &amp; Audio</td>\n",
       "      <td>Luis Lucas</td>\n",
       "      <td>May 3, 2019</td>\n",
       "      <td>5</td>\n",
       "      <td>muy bueno me gusta y puedo aguardar la musica ...</td>\n",
       "      <td>MUSIC AND AUDIO</td>\n",
       "    </tr>\n",
       "    <tr>\n",
       "      <td>2715301</td>\n",
       "      <td>SoundCloud - Music &amp; Audio</td>\n",
       "      <td>Teairo Keys</td>\n",
       "      <td>May 3, 2019</td>\n",
       "      <td>5</td>\n",
       "      <td>love this app</td>\n",
       "      <td>MUSIC AND AUDIO</td>\n",
       "    </tr>\n",
       "    <tr>\n",
       "      <td>2715302</td>\n",
       "      <td>SoundCloud - Music &amp; Audio</td>\n",
       "      <td>Ian Libo</td>\n",
       "      <td>May 3, 2019</td>\n",
       "      <td>1</td>\n",
       "      <td>The app was great and has a very nice selectio...</td>\n",
       "      <td>MUSIC AND AUDIO</td>\n",
       "    </tr>\n",
       "  </tbody>\n",
       "</table>\n",
       "</div>"
      ],
      "text/plain": [
       "                           appTitle       userName         date  score  \\\n",
       "2715298  SoundCloud - Music & Audio  pubgmaster 25  May 3, 2019      1   \n",
       "2715299  SoundCloud - Music & Audio   Anjita Sinha  May 3, 2019      4   \n",
       "2715300  SoundCloud - Music & Audio     Luis Lucas  May 3, 2019      5   \n",
       "2715301  SoundCloud - Music & Audio    Teairo Keys  May 3, 2019      5   \n",
       "2715302  SoundCloud - Music & Audio       Ian Libo  May 3, 2019      1   \n",
       "\n",
       "                                                      text         CATEGORY  \n",
       "2715298                                             it gay  MUSIC AND AUDIO  \n",
       "2715299                                            Love it  MUSIC AND AUDIO  \n",
       "2715300  muy bueno me gusta y puedo aguardar la musica ...  MUSIC AND AUDIO  \n",
       "2715301                                      love this app  MUSIC AND AUDIO  \n",
       "2715302  The app was great and has a very nice selectio...  MUSIC AND AUDIO  "
      ]
     },
     "execution_count": 38,
     "metadata": {},
     "output_type": "execute_result"
    }
   ],
   "source": [
    "df.tail()"
   ]
  },
  {
   "cell_type": "markdown",
   "metadata": {},
   "source": [
    "##### Convert all the app title to lower to avoid any duplicates with other columns as a result of having same name but are different as a result of case sensitivity"
   ]
  },
  {
   "cell_type": "code",
   "execution_count": 24,
   "metadata": {},
   "outputs": [],
   "source": [
    "df['appTitle'] = df['appTitle'].str.lower()"
   ]
  },
  {
   "cell_type": "markdown",
   "metadata": {},
   "source": [
    "##### Drop all the possible duplicates "
   ]
  },
  {
   "cell_type": "code",
   "execution_count": 25,
   "metadata": {},
   "outputs": [],
   "source": [
    "df.drop_duplicates(subset=['appTitle','userName','date','score','text'],inplace=True)"
   ]
  },
  {
   "cell_type": "markdown",
   "metadata": {},
   "source": [
    "##### Drop any duplicates that have the same app Title and text to clear out even more misleading data"
   ]
  },
  {
   "cell_type": "code",
   "execution_count": 27,
   "metadata": {},
   "outputs": [],
   "source": [
    "df.dropna(subset=['appTitle','text'],inplace=True)"
   ]
  },
  {
   "cell_type": "code",
   "execution_count": 28,
   "metadata": {
    "scrolled": true
   },
   "outputs": [
    {
     "data": {
      "text/html": [
       "<div>\n",
       "<style scoped>\n",
       "    .dataframe tbody tr th:only-of-type {\n",
       "        vertical-align: middle;\n",
       "    }\n",
       "\n",
       "    .dataframe tbody tr th {\n",
       "        vertical-align: top;\n",
       "    }\n",
       "\n",
       "    .dataframe thead th {\n",
       "        text-align: right;\n",
       "    }\n",
       "</style>\n",
       "<table border=\"1\" class=\"dataframe\">\n",
       "  <thead>\n",
       "    <tr style=\"text-align: right;\">\n",
       "      <th></th>\n",
       "      <th>appTitle</th>\n",
       "      <th>userName</th>\n",
       "      <th>date</th>\n",
       "      <th>score</th>\n",
       "      <th>text</th>\n",
       "      <th>CATEGORY</th>\n",
       "    </tr>\n",
       "  </thead>\n",
       "  <tbody>\n",
       "    <tr>\n",
       "      <td>0</td>\n",
       "      <td>photomath</td>\n",
       "      <td>NaN</td>\n",
       "      <td>March 8, 2019</td>\n",
       "      <td>5</td>\n",
       "      <td>nice</td>\n",
       "      <td>EDUCATION</td>\n",
       "    </tr>\n",
       "    <tr>\n",
       "      <td>1</td>\n",
       "      <td>photomath</td>\n",
       "      <td>NaN</td>\n",
       "      <td>March 8, 2019</td>\n",
       "      <td>4</td>\n",
       "      <td>very helpful</td>\n",
       "      <td>EDUCATION</td>\n",
       "    </tr>\n",
       "    <tr>\n",
       "      <td>2</td>\n",
       "      <td>photomath</td>\n",
       "      <td>NaN</td>\n",
       "      <td>March 8, 2019</td>\n",
       "      <td>5</td>\n",
       "      <td>Great App. Detailed answers. Understandable an...</td>\n",
       "      <td>EDUCATION</td>\n",
       "    </tr>\n",
       "    <tr>\n",
       "      <td>3</td>\n",
       "      <td>photomath</td>\n",
       "      <td>NaN</td>\n",
       "      <td>March 8, 2019</td>\n",
       "      <td>5</td>\n",
       "      <td>great!!!</td>\n",
       "      <td>EDUCATION</td>\n",
       "    </tr>\n",
       "    <tr>\n",
       "      <td>4</td>\n",
       "      <td>photomath</td>\n",
       "      <td>NaN</td>\n",
       "      <td>March 8, 2019</td>\n",
       "      <td>1</td>\n",
       "      <td>bakwas hai pura.....time pass hai</td>\n",
       "      <td>EDUCATION</td>\n",
       "    </tr>\n",
       "    <tr>\n",
       "      <td>...</td>\n",
       "      <td>...</td>\n",
       "      <td>...</td>\n",
       "      <td>...</td>\n",
       "      <td>...</td>\n",
       "      <td>...</td>\n",
       "      <td>...</td>\n",
       "    </tr>\n",
       "    <tr>\n",
       "      <td>2715298</td>\n",
       "      <td>soundcloud - music &amp; audio</td>\n",
       "      <td>pubgmaster 25</td>\n",
       "      <td>May 3, 2019</td>\n",
       "      <td>1</td>\n",
       "      <td>it gay</td>\n",
       "      <td>MUSIC AND AUDIO</td>\n",
       "    </tr>\n",
       "    <tr>\n",
       "      <td>2715299</td>\n",
       "      <td>soundcloud - music &amp; audio</td>\n",
       "      <td>Anjita Sinha</td>\n",
       "      <td>May 3, 2019</td>\n",
       "      <td>4</td>\n",
       "      <td>Love it</td>\n",
       "      <td>MUSIC AND AUDIO</td>\n",
       "    </tr>\n",
       "    <tr>\n",
       "      <td>2715300</td>\n",
       "      <td>soundcloud - music &amp; audio</td>\n",
       "      <td>Luis Lucas</td>\n",
       "      <td>May 3, 2019</td>\n",
       "      <td>5</td>\n",
       "      <td>muy bueno me gusta y puedo aguardar la musica ...</td>\n",
       "      <td>MUSIC AND AUDIO</td>\n",
       "    </tr>\n",
       "    <tr>\n",
       "      <td>2715301</td>\n",
       "      <td>soundcloud - music &amp; audio</td>\n",
       "      <td>Teairo Keys</td>\n",
       "      <td>May 3, 2019</td>\n",
       "      <td>5</td>\n",
       "      <td>love this app</td>\n",
       "      <td>MUSIC AND AUDIO</td>\n",
       "    </tr>\n",
       "    <tr>\n",
       "      <td>2715302</td>\n",
       "      <td>soundcloud - music &amp; audio</td>\n",
       "      <td>Ian Libo</td>\n",
       "      <td>May 3, 2019</td>\n",
       "      <td>1</td>\n",
       "      <td>The app was great and has a very nice selectio...</td>\n",
       "      <td>MUSIC AND AUDIO</td>\n",
       "    </tr>\n",
       "  </tbody>\n",
       "</table>\n",
       "<p>1112298 rows × 6 columns</p>\n",
       "</div>"
      ],
      "text/plain": [
       "                           appTitle       userName           date  score  \\\n",
       "0                         photomath            NaN  March 8, 2019      5   \n",
       "1                         photomath            NaN  March 8, 2019      4   \n",
       "2                         photomath            NaN  March 8, 2019      5   \n",
       "3                         photomath            NaN  March 8, 2019      5   \n",
       "4                         photomath            NaN  March 8, 2019      1   \n",
       "...                             ...            ...            ...    ...   \n",
       "2715298  soundcloud - music & audio  pubgmaster 25    May 3, 2019      1   \n",
       "2715299  soundcloud - music & audio   Anjita Sinha    May 3, 2019      4   \n",
       "2715300  soundcloud - music & audio     Luis Lucas    May 3, 2019      5   \n",
       "2715301  soundcloud - music & audio    Teairo Keys    May 3, 2019      5   \n",
       "2715302  soundcloud - music & audio       Ian Libo    May 3, 2019      1   \n",
       "\n",
       "                                                      text         CATEGORY  \n",
       "0                                                     nice        EDUCATION  \n",
       "1                                             very helpful        EDUCATION  \n",
       "2        Great App. Detailed answers. Understandable an...        EDUCATION  \n",
       "3                                                 great!!!        EDUCATION  \n",
       "4                        bakwas hai pura.....time pass hai        EDUCATION  \n",
       "...                                                    ...              ...  \n",
       "2715298                                             it gay  MUSIC AND AUDIO  \n",
       "2715299                                            Love it  MUSIC AND AUDIO  \n",
       "2715300  muy bueno me gusta y puedo aguardar la musica ...  MUSIC AND AUDIO  \n",
       "2715301                                      love this app  MUSIC AND AUDIO  \n",
       "2715302  The app was great and has a very nice selectio...  MUSIC AND AUDIO  \n",
       "\n",
       "[1112298 rows x 6 columns]"
      ]
     },
     "execution_count": 28,
     "metadata": {},
     "output_type": "execute_result"
    }
   ],
   "source": [
    "df"
   ]
  },
  {
   "cell_type": "markdown",
   "metadata": {},
   "source": [
    "##### Total number of unique reviews"
   ]
  },
  {
   "cell_type": "code",
   "execution_count": 29,
   "metadata": {},
   "outputs": [
    {
     "data": {
      "text/plain": [
       "673592"
      ]
     },
     "execution_count": 29,
     "metadata": {},
     "output_type": "execute_result"
    }
   ],
   "source": [
    "len(df.text.unique())"
   ]
  },
  {
   "cell_type": "markdown",
   "metadata": {},
   "source": [
    "##### Unique number of Apps in the dataset"
   ]
  },
  {
   "cell_type": "code",
   "execution_count": 30,
   "metadata": {},
   "outputs": [
    {
     "data": {
      "text/plain": [
       "86"
      ]
     },
     "execution_count": 30,
     "metadata": {},
     "output_type": "execute_result"
    }
   ],
   "source": [
    "len(df.appTitle.unique())"
   ]
  },
  {
   "cell_type": "markdown",
   "metadata": {},
   "source": [
    "##### Number of apps in each of the specified 8 categories"
   ]
  },
  {
   "cell_type": "code",
   "execution_count": 31,
   "metadata": {},
   "outputs": [
    {
     "data": {
      "text/plain": [
       "CATEGORY\n",
       "EDUCATION             10\n",
       "ENTERTAINMENT         13\n",
       "FAMILY                10\n",
       "FINANCE               10\n",
       "GAME-ACTION           11\n",
       "HEALTH AND FITNESS    10\n",
       "LIFESTYLE             12\n",
       "MUSIC AND AUDIO       11\n",
       "Name: appTitle, dtype: int64"
      ]
     },
     "execution_count": 31,
     "metadata": {},
     "output_type": "execute_result"
    }
   ],
   "source": [
    "df.groupby(\"CATEGORY\")['appTitle'].nunique()"
   ]
  },
  {
   "cell_type": "markdown",
   "metadata": {},
   "source": [
    "#### Number of reviews per category"
   ]
  },
  {
   "cell_type": "code",
   "execution_count": 33,
   "metadata": {},
   "outputs": [
    {
     "data": {
      "text/plain": [
       "CATEGORY\n",
       "EDUCATION              95830\n",
       "ENTERTAINMENT         181303\n",
       "FAMILY                 98783\n",
       "FINANCE               141129\n",
       "GAME-ACTION           209493\n",
       "HEALTH AND FITNESS    109859\n",
       "LIFESTYLE             102928\n",
       "MUSIC AND AUDIO       172973\n",
       "Name: text, dtype: int64"
      ]
     },
     "execution_count": 33,
     "metadata": {},
     "output_type": "execute_result"
    }
   ],
   "source": [
    "\n",
    "\n",
    "df.groupby(\"CATEGORY\")['text'].count()"
   ]
  },
  {
   "cell_type": "code",
   "execution_count": 34,
   "metadata": {},
   "outputs": [],
   "source": [
    "JoinedDf = pd.merge(df,detailsDf[['appTitle','contentRating']],how=\"left\",on=\"appTitle\",)"
   ]
  },
  {
   "cell_type": "code",
   "execution_count": 35,
   "metadata": {},
   "outputs": [
    {
     "data": {
      "text/html": [
       "<div>\n",
       "<style scoped>\n",
       "    .dataframe tbody tr th:only-of-type {\n",
       "        vertical-align: middle;\n",
       "    }\n",
       "\n",
       "    .dataframe tbody tr th {\n",
       "        vertical-align: top;\n",
       "    }\n",
       "\n",
       "    .dataframe thead th {\n",
       "        text-align: right;\n",
       "    }\n",
       "</style>\n",
       "<table border=\"1\" class=\"dataframe\">\n",
       "  <thead>\n",
       "    <tr style=\"text-align: right;\">\n",
       "      <th></th>\n",
       "      <th>appTitle</th>\n",
       "      <th>userName</th>\n",
       "      <th>date</th>\n",
       "      <th>score</th>\n",
       "      <th>text</th>\n",
       "      <th>CATEGORY</th>\n",
       "      <th>contentRating</th>\n",
       "    </tr>\n",
       "  </thead>\n",
       "  <tbody>\n",
       "    <tr>\n",
       "      <td>0</td>\n",
       "      <td>photomath</td>\n",
       "      <td>NaN</td>\n",
       "      <td>March 8, 2019</td>\n",
       "      <td>5</td>\n",
       "      <td>nice</td>\n",
       "      <td>EDUCATION</td>\n",
       "      <td>Everyone</td>\n",
       "    </tr>\n",
       "    <tr>\n",
       "      <td>1</td>\n",
       "      <td>photomath</td>\n",
       "      <td>NaN</td>\n",
       "      <td>March 8, 2019</td>\n",
       "      <td>4</td>\n",
       "      <td>very helpful</td>\n",
       "      <td>EDUCATION</td>\n",
       "      <td>Everyone</td>\n",
       "    </tr>\n",
       "    <tr>\n",
       "      <td>2</td>\n",
       "      <td>photomath</td>\n",
       "      <td>NaN</td>\n",
       "      <td>March 8, 2019</td>\n",
       "      <td>5</td>\n",
       "      <td>Great App. Detailed answers. Understandable an...</td>\n",
       "      <td>EDUCATION</td>\n",
       "      <td>Everyone</td>\n",
       "    </tr>\n",
       "    <tr>\n",
       "      <td>3</td>\n",
       "      <td>photomath</td>\n",
       "      <td>NaN</td>\n",
       "      <td>March 8, 2019</td>\n",
       "      <td>5</td>\n",
       "      <td>great!!!</td>\n",
       "      <td>EDUCATION</td>\n",
       "      <td>Everyone</td>\n",
       "    </tr>\n",
       "    <tr>\n",
       "      <td>4</td>\n",
       "      <td>photomath</td>\n",
       "      <td>NaN</td>\n",
       "      <td>March 8, 2019</td>\n",
       "      <td>1</td>\n",
       "      <td>bakwas hai pura.....time pass hai</td>\n",
       "      <td>EDUCATION</td>\n",
       "      <td>Everyone</td>\n",
       "    </tr>\n",
       "    <tr>\n",
       "      <td>...</td>\n",
       "      <td>...</td>\n",
       "      <td>...</td>\n",
       "      <td>...</td>\n",
       "      <td>...</td>\n",
       "      <td>...</td>\n",
       "      <td>...</td>\n",
       "      <td>...</td>\n",
       "    </tr>\n",
       "    <tr>\n",
       "      <td>1112293</td>\n",
       "      <td>soundcloud - music &amp; audio</td>\n",
       "      <td>pubgmaster 25</td>\n",
       "      <td>May 3, 2019</td>\n",
       "      <td>1</td>\n",
       "      <td>it gay</td>\n",
       "      <td>MUSIC AND AUDIO</td>\n",
       "      <td>Teen</td>\n",
       "    </tr>\n",
       "    <tr>\n",
       "      <td>1112294</td>\n",
       "      <td>soundcloud - music &amp; audio</td>\n",
       "      <td>Anjita Sinha</td>\n",
       "      <td>May 3, 2019</td>\n",
       "      <td>4</td>\n",
       "      <td>Love it</td>\n",
       "      <td>MUSIC AND AUDIO</td>\n",
       "      <td>Teen</td>\n",
       "    </tr>\n",
       "    <tr>\n",
       "      <td>1112295</td>\n",
       "      <td>soundcloud - music &amp; audio</td>\n",
       "      <td>Luis Lucas</td>\n",
       "      <td>May 3, 2019</td>\n",
       "      <td>5</td>\n",
       "      <td>muy bueno me gusta y puedo aguardar la musica ...</td>\n",
       "      <td>MUSIC AND AUDIO</td>\n",
       "      <td>Teen</td>\n",
       "    </tr>\n",
       "    <tr>\n",
       "      <td>1112296</td>\n",
       "      <td>soundcloud - music &amp; audio</td>\n",
       "      <td>Teairo Keys</td>\n",
       "      <td>May 3, 2019</td>\n",
       "      <td>5</td>\n",
       "      <td>love this app</td>\n",
       "      <td>MUSIC AND AUDIO</td>\n",
       "      <td>Teen</td>\n",
       "    </tr>\n",
       "    <tr>\n",
       "      <td>1112297</td>\n",
       "      <td>soundcloud - music &amp; audio</td>\n",
       "      <td>Ian Libo</td>\n",
       "      <td>May 3, 2019</td>\n",
       "      <td>1</td>\n",
       "      <td>The app was great and has a very nice selectio...</td>\n",
       "      <td>MUSIC AND AUDIO</td>\n",
       "      <td>Teen</td>\n",
       "    </tr>\n",
       "  </tbody>\n",
       "</table>\n",
       "<p>1112298 rows × 7 columns</p>\n",
       "</div>"
      ],
      "text/plain": [
       "                           appTitle       userName           date  score  \\\n",
       "0                         photomath            NaN  March 8, 2019      5   \n",
       "1                         photomath            NaN  March 8, 2019      4   \n",
       "2                         photomath            NaN  March 8, 2019      5   \n",
       "3                         photomath            NaN  March 8, 2019      5   \n",
       "4                         photomath            NaN  March 8, 2019      1   \n",
       "...                             ...            ...            ...    ...   \n",
       "1112293  soundcloud - music & audio  pubgmaster 25    May 3, 2019      1   \n",
       "1112294  soundcloud - music & audio   Anjita Sinha    May 3, 2019      4   \n",
       "1112295  soundcloud - music & audio     Luis Lucas    May 3, 2019      5   \n",
       "1112296  soundcloud - music & audio    Teairo Keys    May 3, 2019      5   \n",
       "1112297  soundcloud - music & audio       Ian Libo    May 3, 2019      1   \n",
       "\n",
       "                                                      text         CATEGORY  \\\n",
       "0                                                     nice        EDUCATION   \n",
       "1                                             very helpful        EDUCATION   \n",
       "2        Great App. Detailed answers. Understandable an...        EDUCATION   \n",
       "3                                                 great!!!        EDUCATION   \n",
       "4                        bakwas hai pura.....time pass hai        EDUCATION   \n",
       "...                                                    ...              ...   \n",
       "1112293                                             it gay  MUSIC AND AUDIO   \n",
       "1112294                                            Love it  MUSIC AND AUDIO   \n",
       "1112295  muy bueno me gusta y puedo aguardar la musica ...  MUSIC AND AUDIO   \n",
       "1112296                                      love this app  MUSIC AND AUDIO   \n",
       "1112297  The app was great and has a very nice selectio...  MUSIC AND AUDIO   \n",
       "\n",
       "        contentRating  \n",
       "0            Everyone  \n",
       "1            Everyone  \n",
       "2            Everyone  \n",
       "3            Everyone  \n",
       "4            Everyone  \n",
       "...               ...  \n",
       "1112293          Teen  \n",
       "1112294          Teen  \n",
       "1112295          Teen  \n",
       "1112296          Teen  \n",
       "1112297          Teen  \n",
       "\n",
       "[1112298 rows x 7 columns]"
      ]
     },
     "execution_count": 35,
     "metadata": {},
     "output_type": "execute_result"
    }
   ],
   "source": [
    "JoinedDf.drop_duplicates(subset=['appTitle','userName','date','score','text','CATEGORY'],inplace=True)\n",
    "JoinedDf.reset_index(drop=True,inplace=True)\n",
    "JoinedDf"
   ]
  },
  {
   "cell_type": "code",
   "execution_count": 50,
   "metadata": {},
   "outputs": [
    {
     "data": {
      "text/plain": [
       "CATEGORY            contentRating\n",
       "EDUCATION           Everyone          95830\n",
       "ENTERTAINMENT       Everyone          14377\n",
       "                    Mature 17+         7278\n",
       "                    Teen             159648\n",
       "FAMILY              Everyone          50676\n",
       "                    Everyone 10+      48107\n",
       "FINANCE             Everyone         141129\n",
       "GAME-ACTION         Everyone          87560\n",
       "                    Mature 17+        29359\n",
       "                    Teen              92574\n",
       "HEALTH AND FITNESS  Everyone         109859\n",
       "LIFESTYLE           Everyone          78200\n",
       "                    Mature 17+        21716\n",
       "                    Teen               3012\n",
       "MUSIC AND AUDIO     Everyone          22754\n",
       "                    Teen             150219\n",
       "Name: contentRating, dtype: int64"
      ]
     },
     "execution_count": 50,
     "metadata": {},
     "output_type": "execute_result"
    }
   ],
   "source": [
    "JoinedDf.groupby([\"CATEGORY\",\"contentRating\"])[\"contentRating\"].count()"
   ]
  },
  {
   "cell_type": "markdown",
   "metadata": {},
   "source": [
    "##### Remove non english reviews using NLTK"
   ]
  },
  {
   "cell_type": "code",
   "execution_count": 37,
   "metadata": {},
   "outputs": [
    {
     "name": "stderr",
     "output_type": "stream",
     "text": [
      "[nltk_data] Downloading package words to\n",
      "[nltk_data]     C:\\Users\\shahi\\AppData\\Roaming\\nltk_data...\n",
      "[nltk_data]   Package words is already up-to-date!\n"
     ]
    }
   ],
   "source": [
    "import nltk\n",
    "\n",
    "nltk.download('words')\n",
    "words = set(nltk.corpus.words.words())\n"
   ]
  },
  {
   "cell_type": "code",
   "execution_count": 38,
   "metadata": {},
   "outputs": [],
   "source": [
    "def review(text):\n",
    "    return (\" \".join(w for w in nltk.wordpunct_tokenize(text) if w.lower() in words or not w.isalpha()))\n"
   ]
  },
  {
   "cell_type": "code",
   "execution_count": 41,
   "metadata": {},
   "outputs": [],
   "source": [
    "JoinedDf[\"processedText\"] = JoinedDf[\"text\"]\n",
    "JoinedDf[\"processedText\"] = JoinedDf[\"processedText\"].astype(str)\n",
    "JoinedDf[\"processedText\"] = JoinedDf[\"processedText\"].apply(review)"
   ]
  },
  {
   "cell_type": "code",
   "execution_count": 43,
   "metadata": {},
   "outputs": [
    {
     "data": {
      "text/html": [
       "<div>\n",
       "<style scoped>\n",
       "    .dataframe tbody tr th:only-of-type {\n",
       "        vertical-align: middle;\n",
       "    }\n",
       "\n",
       "    .dataframe tbody tr th {\n",
       "        vertical-align: top;\n",
       "    }\n",
       "\n",
       "    .dataframe thead th {\n",
       "        text-align: right;\n",
       "    }\n",
       "</style>\n",
       "<table border=\"1\" class=\"dataframe\">\n",
       "  <thead>\n",
       "    <tr style=\"text-align: right;\">\n",
       "      <th></th>\n",
       "      <th>appTitle</th>\n",
       "      <th>userName</th>\n",
       "      <th>date</th>\n",
       "      <th>score</th>\n",
       "      <th>text</th>\n",
       "      <th>CATEGORY</th>\n",
       "      <th>contentRating</th>\n",
       "      <th>processedText</th>\n",
       "    </tr>\n",
       "  </thead>\n",
       "  <tbody>\n",
       "    <tr>\n",
       "      <td>0</td>\n",
       "      <td>photomath</td>\n",
       "      <td>NaN</td>\n",
       "      <td>March 8, 2019</td>\n",
       "      <td>5</td>\n",
       "      <td>nice</td>\n",
       "      <td>EDUCATION</td>\n",
       "      <td>Everyone</td>\n",
       "      <td>nice</td>\n",
       "    </tr>\n",
       "    <tr>\n",
       "      <td>1</td>\n",
       "      <td>photomath</td>\n",
       "      <td>NaN</td>\n",
       "      <td>March 8, 2019</td>\n",
       "      <td>4</td>\n",
       "      <td>very helpful</td>\n",
       "      <td>EDUCATION</td>\n",
       "      <td>Everyone</td>\n",
       "      <td>very helpful</td>\n",
       "    </tr>\n",
       "    <tr>\n",
       "      <td>2</td>\n",
       "      <td>photomath</td>\n",
       "      <td>NaN</td>\n",
       "      <td>March 8, 2019</td>\n",
       "      <td>5</td>\n",
       "      <td>Great App. Detailed answers. Understandable an...</td>\n",
       "      <td>EDUCATION</td>\n",
       "      <td>Everyone</td>\n",
       "      <td>Great . Detailed . Understandable .</td>\n",
       "    </tr>\n",
       "    <tr>\n",
       "      <td>3</td>\n",
       "      <td>photomath</td>\n",
       "      <td>NaN</td>\n",
       "      <td>March 8, 2019</td>\n",
       "      <td>5</td>\n",
       "      <td>great!!!</td>\n",
       "      <td>EDUCATION</td>\n",
       "      <td>Everyone</td>\n",
       "      <td>great !!!</td>\n",
       "    </tr>\n",
       "    <tr>\n",
       "      <td>4</td>\n",
       "      <td>photomath</td>\n",
       "      <td>NaN</td>\n",
       "      <td>March 8, 2019</td>\n",
       "      <td>1</td>\n",
       "      <td>bakwas hai pura.....time pass hai</td>\n",
       "      <td>EDUCATION</td>\n",
       "      <td>Everyone</td>\n",
       "      <td>..... time pass</td>\n",
       "    </tr>\n",
       "    <tr>\n",
       "      <td>...</td>\n",
       "      <td>...</td>\n",
       "      <td>...</td>\n",
       "      <td>...</td>\n",
       "      <td>...</td>\n",
       "      <td>...</td>\n",
       "      <td>...</td>\n",
       "      <td>...</td>\n",
       "      <td>...</td>\n",
       "    </tr>\n",
       "    <tr>\n",
       "      <td>1112293</td>\n",
       "      <td>soundcloud - music &amp; audio</td>\n",
       "      <td>pubgmaster 25</td>\n",
       "      <td>May 3, 2019</td>\n",
       "      <td>1</td>\n",
       "      <td>it gay</td>\n",
       "      <td>MUSIC AND AUDIO</td>\n",
       "      <td>Teen</td>\n",
       "      <td>it gay</td>\n",
       "    </tr>\n",
       "    <tr>\n",
       "      <td>1112294</td>\n",
       "      <td>soundcloud - music &amp; audio</td>\n",
       "      <td>Anjita Sinha</td>\n",
       "      <td>May 3, 2019</td>\n",
       "      <td>4</td>\n",
       "      <td>Love it</td>\n",
       "      <td>MUSIC AND AUDIO</td>\n",
       "      <td>Teen</td>\n",
       "      <td>Love it</td>\n",
       "    </tr>\n",
       "    <tr>\n",
       "      <td>1112295</td>\n",
       "      <td>soundcloud - music &amp; audio</td>\n",
       "      <td>Luis Lucas</td>\n",
       "      <td>May 3, 2019</td>\n",
       "      <td>5</td>\n",
       "      <td>muy bueno me gusta y puedo aguardar la musica ...</td>\n",
       "      <td>MUSIC AND AUDIO</td>\n",
       "      <td>Teen</td>\n",
       "      <td>me y la me mix son</td>\n",
       "    </tr>\n",
       "    <tr>\n",
       "      <td>1112296</td>\n",
       "      <td>soundcloud - music &amp; audio</td>\n",
       "      <td>Teairo Keys</td>\n",
       "      <td>May 3, 2019</td>\n",
       "      <td>5</td>\n",
       "      <td>love this app</td>\n",
       "      <td>MUSIC AND AUDIO</td>\n",
       "      <td>Teen</td>\n",
       "      <td>love this</td>\n",
       "    </tr>\n",
       "    <tr>\n",
       "      <td>1112297</td>\n",
       "      <td>soundcloud - music &amp; audio</td>\n",
       "      <td>Ian Libo</td>\n",
       "      <td>May 3, 2019</td>\n",
       "      <td>1</td>\n",
       "      <td>The app was great and has a very nice selectio...</td>\n",
       "      <td>MUSIC AND AUDIO</td>\n",
       "      <td>Teen</td>\n",
       "      <td>The was great and a very nice selection of tal...</td>\n",
       "    </tr>\n",
       "  </tbody>\n",
       "</table>\n",
       "<p>1112298 rows × 8 columns</p>\n",
       "</div>"
      ],
      "text/plain": [
       "                           appTitle       userName           date  score  \\\n",
       "0                         photomath            NaN  March 8, 2019      5   \n",
       "1                         photomath            NaN  March 8, 2019      4   \n",
       "2                         photomath            NaN  March 8, 2019      5   \n",
       "3                         photomath            NaN  March 8, 2019      5   \n",
       "4                         photomath            NaN  March 8, 2019      1   \n",
       "...                             ...            ...            ...    ...   \n",
       "1112293  soundcloud - music & audio  pubgmaster 25    May 3, 2019      1   \n",
       "1112294  soundcloud - music & audio   Anjita Sinha    May 3, 2019      4   \n",
       "1112295  soundcloud - music & audio     Luis Lucas    May 3, 2019      5   \n",
       "1112296  soundcloud - music & audio    Teairo Keys    May 3, 2019      5   \n",
       "1112297  soundcloud - music & audio       Ian Libo    May 3, 2019      1   \n",
       "\n",
       "                                                      text         CATEGORY  \\\n",
       "0                                                     nice        EDUCATION   \n",
       "1                                             very helpful        EDUCATION   \n",
       "2        Great App. Detailed answers. Understandable an...        EDUCATION   \n",
       "3                                                 great!!!        EDUCATION   \n",
       "4                        bakwas hai pura.....time pass hai        EDUCATION   \n",
       "...                                                    ...              ...   \n",
       "1112293                                             it gay  MUSIC AND AUDIO   \n",
       "1112294                                            Love it  MUSIC AND AUDIO   \n",
       "1112295  muy bueno me gusta y puedo aguardar la musica ...  MUSIC AND AUDIO   \n",
       "1112296                                      love this app  MUSIC AND AUDIO   \n",
       "1112297  The app was great and has a very nice selectio...  MUSIC AND AUDIO   \n",
       "\n",
       "        contentRating                                      processedText  \n",
       "0            Everyone                                               nice  \n",
       "1            Everyone                                       very helpful  \n",
       "2            Everyone                Great . Detailed . Understandable .  \n",
       "3            Everyone                                          great !!!  \n",
       "4            Everyone                                    ..... time pass  \n",
       "...               ...                                                ...  \n",
       "1112293          Teen                                             it gay  \n",
       "1112294          Teen                                            Love it  \n",
       "1112295          Teen                                 me y la me mix son  \n",
       "1112296          Teen                                          love this  \n",
       "1112297          Teen  The was great and a very nice selection of tal...  \n",
       "\n",
       "[1112298 rows x 8 columns]"
      ]
     },
     "execution_count": 43,
     "metadata": {},
     "output_type": "execute_result"
    }
   ],
   "source": [
    "JoinedDf"
   ]
  },
  {
   "cell_type": "markdown",
   "metadata": {},
   "source": [
    "#### Remove non ascii characters"
   ]
  },
  {
   "cell_type": "code",
   "execution_count": 44,
   "metadata": {},
   "outputs": [],
   "source": [
    "JoinedDf.processedText.replace({r'[^\\x00-\\x7F]+':''}, regex=True, inplace=True)"
   ]
  },
  {
   "cell_type": "markdown",
   "metadata": {},
   "source": [
    "#### Remove punctuations"
   ]
  },
  {
   "cell_type": "code",
   "execution_count": 45,
   "metadata": {},
   "outputs": [],
   "source": [
    "JoinedDf[\"processedText\"] = JoinedDf['processedText'].str.replace('[^\\w\\s]','',)"
   ]
  },
  {
   "cell_type": "markdown",
   "metadata": {},
   "source": [
    "##### Remove multiple characters if they occur more than two times continuously"
   ]
  },
  {
   "cell_type": "code",
   "execution_count": 48,
   "metadata": {},
   "outputs": [],
   "source": [
    "def removeMultiple(text):\n",
    "    return re.sub(r'([a-z])\\1{2,}', r'\\1\\1', text)\n",
    "JoinedDf['processedText']= JoinedDf['processedText'].map(removeMultiple)"
   ]
  },
  {
   "cell_type": "code",
   "execution_count": 49,
   "metadata": {},
   "outputs": [
    {
     "data": {
      "text/html": [
       "<div>\n",
       "<style scoped>\n",
       "    .dataframe tbody tr th:only-of-type {\n",
       "        vertical-align: middle;\n",
       "    }\n",
       "\n",
       "    .dataframe tbody tr th {\n",
       "        vertical-align: top;\n",
       "    }\n",
       "\n",
       "    .dataframe thead th {\n",
       "        text-align: right;\n",
       "    }\n",
       "</style>\n",
       "<table border=\"1\" class=\"dataframe\">\n",
       "  <thead>\n",
       "    <tr style=\"text-align: right;\">\n",
       "      <th></th>\n",
       "      <th>appTitle</th>\n",
       "      <th>userName</th>\n",
       "      <th>date</th>\n",
       "      <th>score</th>\n",
       "      <th>text</th>\n",
       "      <th>CATEGORY</th>\n",
       "      <th>contentRating</th>\n",
       "      <th>processedText</th>\n",
       "    </tr>\n",
       "  </thead>\n",
       "  <tbody>\n",
       "    <tr>\n",
       "      <td>0</td>\n",
       "      <td>photomath</td>\n",
       "      <td>NaN</td>\n",
       "      <td>March 8, 2019</td>\n",
       "      <td>5</td>\n",
       "      <td>nice</td>\n",
       "      <td>EDUCATION</td>\n",
       "      <td>Everyone</td>\n",
       "      <td>nice</td>\n",
       "    </tr>\n",
       "    <tr>\n",
       "      <td>1</td>\n",
       "      <td>photomath</td>\n",
       "      <td>NaN</td>\n",
       "      <td>March 8, 2019</td>\n",
       "      <td>4</td>\n",
       "      <td>very helpful</td>\n",
       "      <td>EDUCATION</td>\n",
       "      <td>Everyone</td>\n",
       "      <td>very helpful</td>\n",
       "    </tr>\n",
       "    <tr>\n",
       "      <td>2</td>\n",
       "      <td>photomath</td>\n",
       "      <td>NaN</td>\n",
       "      <td>March 8, 2019</td>\n",
       "      <td>5</td>\n",
       "      <td>Great App. Detailed answers. Understandable an...</td>\n",
       "      <td>EDUCATION</td>\n",
       "      <td>Everyone</td>\n",
       "      <td>Great  Detailed  Understandable</td>\n",
       "    </tr>\n",
       "    <tr>\n",
       "      <td>3</td>\n",
       "      <td>photomath</td>\n",
       "      <td>NaN</td>\n",
       "      <td>March 8, 2019</td>\n",
       "      <td>5</td>\n",
       "      <td>great!!!</td>\n",
       "      <td>EDUCATION</td>\n",
       "      <td>Everyone</td>\n",
       "      <td>great</td>\n",
       "    </tr>\n",
       "    <tr>\n",
       "      <td>4</td>\n",
       "      <td>photomath</td>\n",
       "      <td>NaN</td>\n",
       "      <td>March 8, 2019</td>\n",
       "      <td>1</td>\n",
       "      <td>bakwas hai pura.....time pass hai</td>\n",
       "      <td>EDUCATION</td>\n",
       "      <td>Everyone</td>\n",
       "      <td>time pass</td>\n",
       "    </tr>\n",
       "    <tr>\n",
       "      <td>...</td>\n",
       "      <td>...</td>\n",
       "      <td>...</td>\n",
       "      <td>...</td>\n",
       "      <td>...</td>\n",
       "      <td>...</td>\n",
       "      <td>...</td>\n",
       "      <td>...</td>\n",
       "      <td>...</td>\n",
       "    </tr>\n",
       "    <tr>\n",
       "      <td>1112293</td>\n",
       "      <td>soundcloud - music &amp; audio</td>\n",
       "      <td>pubgmaster 25</td>\n",
       "      <td>May 3, 2019</td>\n",
       "      <td>1</td>\n",
       "      <td>it gay</td>\n",
       "      <td>MUSIC AND AUDIO</td>\n",
       "      <td>Teen</td>\n",
       "      <td>it gay</td>\n",
       "    </tr>\n",
       "    <tr>\n",
       "      <td>1112294</td>\n",
       "      <td>soundcloud - music &amp; audio</td>\n",
       "      <td>Anjita Sinha</td>\n",
       "      <td>May 3, 2019</td>\n",
       "      <td>4</td>\n",
       "      <td>Love it</td>\n",
       "      <td>MUSIC AND AUDIO</td>\n",
       "      <td>Teen</td>\n",
       "      <td>Love it</td>\n",
       "    </tr>\n",
       "    <tr>\n",
       "      <td>1112295</td>\n",
       "      <td>soundcloud - music &amp; audio</td>\n",
       "      <td>Luis Lucas</td>\n",
       "      <td>May 3, 2019</td>\n",
       "      <td>5</td>\n",
       "      <td>muy bueno me gusta y puedo aguardar la musica ...</td>\n",
       "      <td>MUSIC AND AUDIO</td>\n",
       "      <td>Teen</td>\n",
       "      <td>me y la me mix son</td>\n",
       "    </tr>\n",
       "    <tr>\n",
       "      <td>1112296</td>\n",
       "      <td>soundcloud - music &amp; audio</td>\n",
       "      <td>Teairo Keys</td>\n",
       "      <td>May 3, 2019</td>\n",
       "      <td>5</td>\n",
       "      <td>love this app</td>\n",
       "      <td>MUSIC AND AUDIO</td>\n",
       "      <td>Teen</td>\n",
       "      <td>love this</td>\n",
       "    </tr>\n",
       "    <tr>\n",
       "      <td>1112297</td>\n",
       "      <td>soundcloud - music &amp; audio</td>\n",
       "      <td>Ian Libo</td>\n",
       "      <td>May 3, 2019</td>\n",
       "      <td>1</td>\n",
       "      <td>The app was great and has a very nice selectio...</td>\n",
       "      <td>MUSIC AND AUDIO</td>\n",
       "      <td>Teen</td>\n",
       "      <td>The was great and a very nice selection of tal...</td>\n",
       "    </tr>\n",
       "  </tbody>\n",
       "</table>\n",
       "<p>1112298 rows × 8 columns</p>\n",
       "</div>"
      ],
      "text/plain": [
       "                           appTitle       userName           date  score  \\\n",
       "0                         photomath            NaN  March 8, 2019      5   \n",
       "1                         photomath            NaN  March 8, 2019      4   \n",
       "2                         photomath            NaN  March 8, 2019      5   \n",
       "3                         photomath            NaN  March 8, 2019      5   \n",
       "4                         photomath            NaN  March 8, 2019      1   \n",
       "...                             ...            ...            ...    ...   \n",
       "1112293  soundcloud - music & audio  pubgmaster 25    May 3, 2019      1   \n",
       "1112294  soundcloud - music & audio   Anjita Sinha    May 3, 2019      4   \n",
       "1112295  soundcloud - music & audio     Luis Lucas    May 3, 2019      5   \n",
       "1112296  soundcloud - music & audio    Teairo Keys    May 3, 2019      5   \n",
       "1112297  soundcloud - music & audio       Ian Libo    May 3, 2019      1   \n",
       "\n",
       "                                                      text         CATEGORY  \\\n",
       "0                                                     nice        EDUCATION   \n",
       "1                                             very helpful        EDUCATION   \n",
       "2        Great App. Detailed answers. Understandable an...        EDUCATION   \n",
       "3                                                 great!!!        EDUCATION   \n",
       "4                        bakwas hai pura.....time pass hai        EDUCATION   \n",
       "...                                                    ...              ...   \n",
       "1112293                                             it gay  MUSIC AND AUDIO   \n",
       "1112294                                            Love it  MUSIC AND AUDIO   \n",
       "1112295  muy bueno me gusta y puedo aguardar la musica ...  MUSIC AND AUDIO   \n",
       "1112296                                      love this app  MUSIC AND AUDIO   \n",
       "1112297  The app was great and has a very nice selectio...  MUSIC AND AUDIO   \n",
       "\n",
       "        contentRating                                      processedText  \n",
       "0            Everyone                                               nice  \n",
       "1            Everyone                                       very helpful  \n",
       "2            Everyone                   Great  Detailed  Understandable   \n",
       "3            Everyone                                             great   \n",
       "4            Everyone                                          time pass  \n",
       "...               ...                                                ...  \n",
       "1112293          Teen                                             it gay  \n",
       "1112294          Teen                                            Love it  \n",
       "1112295          Teen                                 me y la me mix son  \n",
       "1112296          Teen                                          love this  \n",
       "1112297          Teen  The was great and a very nice selection of tal...  \n",
       "\n",
       "[1112298 rows x 8 columns]"
      ]
     },
     "execution_count": 49,
     "metadata": {},
     "output_type": "execute_result"
    }
   ],
   "source": [
    "JoinedDf"
   ]
  },
  {
   "cell_type": "markdown",
   "metadata": {},
   "source": [
    "###### 7. Should we remove the reviews that contain two or less number of words?\n",
    "A) We should not remove reviews that contain two more words. In case sentiment analysis needs to be carried , a two word review such as, \"Great APP\" is meaningful about the app and gives the true sentiment of that review. Hence taking away such reviews would just loose make us loose out on meaningful data that could be used for analysis.\n",
    "\n",
    "B)Removing reviews just based on the score would not be recommended. This would cause the the eventual model to be biased."
   ]
  },
  {
   "cell_type": "markdown",
   "metadata": {},
   "source": [
    "###### Remove reviews that have less than two words"
   ]
  },
  {
   "cell_type": "code",
   "execution_count": 51,
   "metadata": {},
   "outputs": [],
   "source": [
    "def moreThanTwoWords(text):\n",
    "    if len(text.split(\" \")) > 2:\n",
    "        return text\n",
    "    return np.nan"
   ]
  },
  {
   "cell_type": "code",
   "execution_count": 52,
   "metadata": {},
   "outputs": [],
   "source": [
    "JoinedDf[\"processedText\"] = JoinedDf[\"processedText\"].apply(moreThanTwoWords)"
   ]
  },
  {
   "cell_type": "code",
   "execution_count": 57,
   "metadata": {},
   "outputs": [],
   "source": [
    "ProcessedDf = JoinedDf.copy()\n",
    "ProcessedDf.dropna(subset=['processedText'],inplace=True)"
   ]
  },
  {
   "cell_type": "code",
   "execution_count": 58,
   "metadata": {},
   "outputs": [
    {
     "data": {
      "text/html": [
       "<div>\n",
       "<style scoped>\n",
       "    .dataframe tbody tr th:only-of-type {\n",
       "        vertical-align: middle;\n",
       "    }\n",
       "\n",
       "    .dataframe tbody tr th {\n",
       "        vertical-align: top;\n",
       "    }\n",
       "\n",
       "    .dataframe thead th {\n",
       "        text-align: right;\n",
       "    }\n",
       "</style>\n",
       "<table border=\"1\" class=\"dataframe\">\n",
       "  <thead>\n",
       "    <tr style=\"text-align: right;\">\n",
       "      <th></th>\n",
       "      <th>appTitle</th>\n",
       "      <th>userName</th>\n",
       "      <th>date</th>\n",
       "      <th>score</th>\n",
       "      <th>text</th>\n",
       "      <th>CATEGORY</th>\n",
       "      <th>contentRating</th>\n",
       "      <th>processedText</th>\n",
       "    </tr>\n",
       "  </thead>\n",
       "  <tbody>\n",
       "    <tr>\n",
       "      <td>2</td>\n",
       "      <td>photomath</td>\n",
       "      <td>NaN</td>\n",
       "      <td>March 8, 2019</td>\n",
       "      <td>5</td>\n",
       "      <td>Great App. Detailed answers. Understandable an...</td>\n",
       "      <td>EDUCATION</td>\n",
       "      <td>Everyone</td>\n",
       "      <td>Great  Detailed  Understandable</td>\n",
       "    </tr>\n",
       "    <tr>\n",
       "      <td>4</td>\n",
       "      <td>photomath</td>\n",
       "      <td>NaN</td>\n",
       "      <td>March 8, 2019</td>\n",
       "      <td>1</td>\n",
       "      <td>bakwas hai pura.....time pass hai</td>\n",
       "      <td>EDUCATION</td>\n",
       "      <td>Everyone</td>\n",
       "      <td>time pass</td>\n",
       "    </tr>\n",
       "    <tr>\n",
       "      <td>6</td>\n",
       "      <td>photomath</td>\n",
       "      <td>אוביידו אדריאנה</td>\n",
       "      <td>March 8, 2019</td>\n",
       "      <td>5</td>\n",
       "      <td>Great tool for learning math, I love it!</td>\n",
       "      <td>EDUCATION</td>\n",
       "      <td>Everyone</td>\n",
       "      <td>Great tool for learning math  I love it</td>\n",
       "    </tr>\n",
       "    <tr>\n",
       "      <td>7</td>\n",
       "      <td>photomath</td>\n",
       "      <td>Ramadhan</td>\n",
       "      <td>March 8, 2019</td>\n",
       "      <td>5</td>\n",
       "      <td>mantap sangat gan... membantu belajar anda</td>\n",
       "      <td>EDUCATION</td>\n",
       "      <td>Everyone</td>\n",
       "      <td>gan  anda</td>\n",
       "    </tr>\n",
       "    <tr>\n",
       "      <td>9</td>\n",
       "      <td>photomath</td>\n",
       "      <td>Kaleb Wallis</td>\n",
       "      <td>March 8, 2019</td>\n",
       "      <td>5</td>\n",
       "      <td>great if your in school or have homework</td>\n",
       "      <td>EDUCATION</td>\n",
       "      <td>Everyone</td>\n",
       "      <td>great if your in school or have homework</td>\n",
       "    </tr>\n",
       "    <tr>\n",
       "      <td>...</td>\n",
       "      <td>...</td>\n",
       "      <td>...</td>\n",
       "      <td>...</td>\n",
       "      <td>...</td>\n",
       "      <td>...</td>\n",
       "      <td>...</td>\n",
       "      <td>...</td>\n",
       "      <td>...</td>\n",
       "    </tr>\n",
       "    <tr>\n",
       "      <td>1112289</td>\n",
       "      <td>soundcloud - music &amp; audio</td>\n",
       "      <td>Jan Robledo</td>\n",
       "      <td>May 3, 2019</td>\n",
       "      <td>5</td>\n",
       "      <td>I LOVE MUSIC</td>\n",
       "      <td>MUSIC AND AUDIO</td>\n",
       "      <td>Teen</td>\n",
       "      <td>I LOVE MUSIC</td>\n",
       "    </tr>\n",
       "    <tr>\n",
       "      <td>1112290</td>\n",
       "      <td>soundcloud - music &amp; audio</td>\n",
       "      <td>tällíëpøøh 123</td>\n",
       "      <td>May 3, 2019</td>\n",
       "      <td>4</td>\n",
       "      <td>It's a pretty good app, but mostly every good ...</td>\n",
       "      <td>MUSIC AND AUDIO</td>\n",
       "      <td>Teen</td>\n",
       "      <td>It  s a pretty good  but mostly every good son...</td>\n",
       "    </tr>\n",
       "    <tr>\n",
       "      <td>1112291</td>\n",
       "      <td>soundcloud - music &amp; audio</td>\n",
       "      <td>POOJA PRAKASH</td>\n",
       "      <td>May 3, 2019</td>\n",
       "      <td>5</td>\n",
       "      <td>I like it</td>\n",
       "      <td>MUSIC AND AUDIO</td>\n",
       "      <td>Teen</td>\n",
       "      <td>I like it</td>\n",
       "    </tr>\n",
       "    <tr>\n",
       "      <td>1112295</td>\n",
       "      <td>soundcloud - music &amp; audio</td>\n",
       "      <td>Luis Lucas</td>\n",
       "      <td>May 3, 2019</td>\n",
       "      <td>5</td>\n",
       "      <td>muy bueno me gusta y puedo aguardar la musica ...</td>\n",
       "      <td>MUSIC AND AUDIO</td>\n",
       "      <td>Teen</td>\n",
       "      <td>me y la me mix son</td>\n",
       "    </tr>\n",
       "    <tr>\n",
       "      <td>1112297</td>\n",
       "      <td>soundcloud - music &amp; audio</td>\n",
       "      <td>Ian Libo</td>\n",
       "      <td>May 3, 2019</td>\n",
       "      <td>1</td>\n",
       "      <td>The app was great and has a very nice selectio...</td>\n",
       "      <td>MUSIC AND AUDIO</td>\n",
       "      <td>Teen</td>\n",
       "      <td>The was great and a very nice selection of tal...</td>\n",
       "    </tr>\n",
       "  </tbody>\n",
       "</table>\n",
       "<p>720464 rows × 8 columns</p>\n",
       "</div>"
      ],
      "text/plain": [
       "                           appTitle         userName           date  score  \\\n",
       "2                         photomath              NaN  March 8, 2019      5   \n",
       "4                         photomath              NaN  March 8, 2019      1   \n",
       "6                         photomath  אוביידו אדריאנה  March 8, 2019      5   \n",
       "7                         photomath         Ramadhan  March 8, 2019      5   \n",
       "9                         photomath     Kaleb Wallis  March 8, 2019      5   \n",
       "...                             ...              ...            ...    ...   \n",
       "1112289  soundcloud - music & audio      Jan Robledo    May 3, 2019      5   \n",
       "1112290  soundcloud - music & audio   tällíëpøøh 123    May 3, 2019      4   \n",
       "1112291  soundcloud - music & audio    POOJA PRAKASH    May 3, 2019      5   \n",
       "1112295  soundcloud - music & audio       Luis Lucas    May 3, 2019      5   \n",
       "1112297  soundcloud - music & audio         Ian Libo    May 3, 2019      1   \n",
       "\n",
       "                                                      text         CATEGORY  \\\n",
       "2        Great App. Detailed answers. Understandable an...        EDUCATION   \n",
       "4                        bakwas hai pura.....time pass hai        EDUCATION   \n",
       "6                 Great tool for learning math, I love it!        EDUCATION   \n",
       "7               mantap sangat gan... membantu belajar anda        EDUCATION   \n",
       "9                 great if your in school or have homework        EDUCATION   \n",
       "...                                                    ...              ...   \n",
       "1112289                                       I LOVE MUSIC  MUSIC AND AUDIO   \n",
       "1112290  It's a pretty good app, but mostly every good ...  MUSIC AND AUDIO   \n",
       "1112291                                          I like it  MUSIC AND AUDIO   \n",
       "1112295  muy bueno me gusta y puedo aguardar la musica ...  MUSIC AND AUDIO   \n",
       "1112297  The app was great and has a very nice selectio...  MUSIC AND AUDIO   \n",
       "\n",
       "        contentRating                                      processedText  \n",
       "2            Everyone                   Great  Detailed  Understandable   \n",
       "4            Everyone                                          time pass  \n",
       "6            Everyone           Great tool for learning math  I love it   \n",
       "7            Everyone                                          gan  anda  \n",
       "9            Everyone           great if your in school or have homework  \n",
       "...               ...                                                ...  \n",
       "1112289          Teen                                       I LOVE MUSIC  \n",
       "1112290          Teen  It  s a pretty good  but mostly every good son...  \n",
       "1112291          Teen                                          I like it  \n",
       "1112295          Teen                                 me y la me mix son  \n",
       "1112297          Teen  The was great and a very nice selection of tal...  \n",
       "\n",
       "[720464 rows x 8 columns]"
      ]
     },
     "execution_count": 58,
     "metadata": {},
     "output_type": "execute_result"
    }
   ],
   "source": [
    "ProcessedDf"
   ]
  },
  {
   "cell_type": "markdown",
   "metadata": {},
   "source": [
    "###### 8. How many reviews exist in each of the eight app-categories? Compare with question 3."
   ]
  },
  {
   "cell_type": "code",
   "execution_count": 119,
   "metadata": {},
   "outputs": [
    {
     "name": "stdout",
     "output_type": "stream",
     "text": [
      "The number of Unique reviews after processing the text is  557295 and before text processing is 673592\n"
     ]
    }
   ],
   "source": [
    "print(\"The number of Unique reviews after processing the text is \",len(JoinedDf[\"processedText\"].unique()),\n",
    "      \"and before text processing is\",len(JoinedDf[\"text\"].unique()))"
   ]
  },
  {
   "cell_type": "code",
   "execution_count": 117,
   "metadata": {},
   "outputs": [
    {
     "data": {
      "text/plain": [
       "673592"
      ]
     },
     "execution_count": 117,
     "metadata": {},
     "output_type": "execute_result"
    }
   ],
   "source": [
    "len(JoinedDf[\"text\"].unique())"
   ]
  },
  {
   "cell_type": "code",
   "execution_count": 120,
   "metadata": {},
   "outputs": [
    {
     "data": {
      "text/plain": [
       "CATEGORY\n",
       "EDUCATION              69249\n",
       "ENTERTAINMENT         106245\n",
       "FAMILY                 68407\n",
       "FINANCE                97385\n",
       "GAME-ACTION           116521\n",
       "HEALTH AND FITNESS     78660\n",
       "LIFESTYLE              68021\n",
       "MUSIC AND AUDIO       115976\n",
       "Name: processedText, dtype: int64"
      ]
     },
     "execution_count": 120,
     "metadata": {},
     "output_type": "execute_result"
    }
   ],
   "source": [
    "JoinedDf.groupby(\"CATEGORY\")[\"processedText\"].count()"
   ]
  },
  {
   "cell_type": "code",
   "execution_count": 123,
   "metadata": {},
   "outputs": [
    {
     "data": {
      "text/html": [
       "<div>\n",
       "<style scoped>\n",
       "    .dataframe tbody tr th:only-of-type {\n",
       "        vertical-align: middle;\n",
       "    }\n",
       "\n",
       "    .dataframe tbody tr th {\n",
       "        vertical-align: top;\n",
       "    }\n",
       "\n",
       "    .dataframe thead th {\n",
       "        text-align: right;\n",
       "    }\n",
       "</style>\n",
       "<table border=\"1\" class=\"dataframe\">\n",
       "  <thead>\n",
       "    <tr style=\"text-align: right;\">\n",
       "      <th></th>\n",
       "      <th>text</th>\n",
       "      <th>processedText</th>\n",
       "    </tr>\n",
       "    <tr>\n",
       "      <th>CATEGORY</th>\n",
       "      <th></th>\n",
       "      <th></th>\n",
       "    </tr>\n",
       "  </thead>\n",
       "  <tbody>\n",
       "    <tr>\n",
       "      <td>EDUCATION</td>\n",
       "      <td>95830</td>\n",
       "      <td>69249</td>\n",
       "    </tr>\n",
       "    <tr>\n",
       "      <td>ENTERTAINMENT</td>\n",
       "      <td>181303</td>\n",
       "      <td>106245</td>\n",
       "    </tr>\n",
       "    <tr>\n",
       "      <td>FAMILY</td>\n",
       "      <td>98783</td>\n",
       "      <td>68407</td>\n",
       "    </tr>\n",
       "    <tr>\n",
       "      <td>FINANCE</td>\n",
       "      <td>141129</td>\n",
       "      <td>97385</td>\n",
       "    </tr>\n",
       "    <tr>\n",
       "      <td>GAME-ACTION</td>\n",
       "      <td>209493</td>\n",
       "      <td>116521</td>\n",
       "    </tr>\n",
       "    <tr>\n",
       "      <td>HEALTH AND FITNESS</td>\n",
       "      <td>109859</td>\n",
       "      <td>78660</td>\n",
       "    </tr>\n",
       "    <tr>\n",
       "      <td>LIFESTYLE</td>\n",
       "      <td>102928</td>\n",
       "      <td>68021</td>\n",
       "    </tr>\n",
       "    <tr>\n",
       "      <td>MUSIC AND AUDIO</td>\n",
       "      <td>172973</td>\n",
       "      <td>115976</td>\n",
       "    </tr>\n",
       "  </tbody>\n",
       "</table>\n",
       "</div>"
      ],
      "text/plain": [
       "                      text  processedText\n",
       "CATEGORY                                 \n",
       "EDUCATION            95830          69249\n",
       "ENTERTAINMENT       181303         106245\n",
       "FAMILY               98783          68407\n",
       "FINANCE             141129          97385\n",
       "GAME-ACTION         209493         116521\n",
       "HEALTH AND FITNESS  109859          78660\n",
       "LIFESTYLE           102928          68021\n",
       "MUSIC AND AUDIO     172973         115976"
      ]
     },
     "execution_count": 123,
     "metadata": {},
     "output_type": "execute_result"
    }
   ],
   "source": [
    "pd.concat([df.groupby(\"CATEGORY\")['text'].count(),JoinedDf.groupby(\"CATEGORY\")[\"processedText\"].count()],axis=1)"
   ]
  },
  {
   "cell_type": "markdown",
   "metadata": {},
   "source": [
    "###### 9. How many reviews in each contentRating-sub-groups in each app-category? Compare with question 6."
   ]
  },
  {
   "cell_type": "code",
   "execution_count": 128,
   "metadata": {},
   "outputs": [
    {
     "data": {
      "text/html": [
       "<div>\n",
       "<style scoped>\n",
       "    .dataframe tbody tr th:only-of-type {\n",
       "        vertical-align: middle;\n",
       "    }\n",
       "\n",
       "    .dataframe tbody tr th {\n",
       "        vertical-align: top;\n",
       "    }\n",
       "\n",
       "    .dataframe thead th {\n",
       "        text-align: right;\n",
       "    }\n",
       "</style>\n",
       "<table border=\"1\" class=\"dataframe\">\n",
       "  <thead>\n",
       "    <tr style=\"text-align: right;\">\n",
       "      <th></th>\n",
       "      <th></th>\n",
       "      <th>text</th>\n",
       "      <th>processedText</th>\n",
       "    </tr>\n",
       "    <tr>\n",
       "      <th>CATEGORY</th>\n",
       "      <th>contentRating</th>\n",
       "      <th></th>\n",
       "      <th></th>\n",
       "    </tr>\n",
       "  </thead>\n",
       "  <tbody>\n",
       "    <tr>\n",
       "      <td>EDUCATION</td>\n",
       "      <td>Everyone</td>\n",
       "      <td>95830</td>\n",
       "      <td>69249</td>\n",
       "    </tr>\n",
       "    <tr>\n",
       "      <td rowspan=\"3\" valign=\"top\">ENTERTAINMENT</td>\n",
       "      <td>Everyone</td>\n",
       "      <td>14377</td>\n",
       "      <td>10334</td>\n",
       "    </tr>\n",
       "    <tr>\n",
       "      <td>Mature 17+</td>\n",
       "      <td>7278</td>\n",
       "      <td>4954</td>\n",
       "    </tr>\n",
       "    <tr>\n",
       "      <td>Teen</td>\n",
       "      <td>159648</td>\n",
       "      <td>90957</td>\n",
       "    </tr>\n",
       "    <tr>\n",
       "      <td rowspan=\"2\" valign=\"top\">FAMILY</td>\n",
       "      <td>Everyone</td>\n",
       "      <td>50676</td>\n",
       "      <td>31699</td>\n",
       "    </tr>\n",
       "    <tr>\n",
       "      <td>Everyone 10+</td>\n",
       "      <td>48107</td>\n",
       "      <td>36708</td>\n",
       "    </tr>\n",
       "    <tr>\n",
       "      <td>FINANCE</td>\n",
       "      <td>Everyone</td>\n",
       "      <td>141129</td>\n",
       "      <td>97385</td>\n",
       "    </tr>\n",
       "    <tr>\n",
       "      <td rowspan=\"3\" valign=\"top\">GAME-ACTION</td>\n",
       "      <td>Everyone</td>\n",
       "      <td>87560</td>\n",
       "      <td>55242</td>\n",
       "    </tr>\n",
       "    <tr>\n",
       "      <td>Mature 17+</td>\n",
       "      <td>29359</td>\n",
       "      <td>12400</td>\n",
       "    </tr>\n",
       "    <tr>\n",
       "      <td>Teen</td>\n",
       "      <td>92574</td>\n",
       "      <td>48879</td>\n",
       "    </tr>\n",
       "    <tr>\n",
       "      <td>HEALTH AND FITNESS</td>\n",
       "      <td>Everyone</td>\n",
       "      <td>109859</td>\n",
       "      <td>78660</td>\n",
       "    </tr>\n",
       "    <tr>\n",
       "      <td rowspan=\"3\" valign=\"top\">LIFESTYLE</td>\n",
       "      <td>Everyone</td>\n",
       "      <td>78200</td>\n",
       "      <td>51615</td>\n",
       "    </tr>\n",
       "    <tr>\n",
       "      <td>Mature 17+</td>\n",
       "      <td>21716</td>\n",
       "      <td>14300</td>\n",
       "    </tr>\n",
       "    <tr>\n",
       "      <td>Teen</td>\n",
       "      <td>3012</td>\n",
       "      <td>2106</td>\n",
       "    </tr>\n",
       "    <tr>\n",
       "      <td rowspan=\"2\" valign=\"top\">MUSIC AND AUDIO</td>\n",
       "      <td>Everyone</td>\n",
       "      <td>22754</td>\n",
       "      <td>15861</td>\n",
       "    </tr>\n",
       "    <tr>\n",
       "      <td>Teen</td>\n",
       "      <td>150219</td>\n",
       "      <td>100115</td>\n",
       "    </tr>\n",
       "  </tbody>\n",
       "</table>\n",
       "</div>"
      ],
      "text/plain": [
       "                                    text  processedText\n",
       "CATEGORY           contentRating                       \n",
       "EDUCATION          Everyone        95830          69249\n",
       "ENTERTAINMENT      Everyone        14377          10334\n",
       "                   Mature 17+       7278           4954\n",
       "                   Teen           159648          90957\n",
       "FAMILY             Everyone        50676          31699\n",
       "                   Everyone 10+    48107          36708\n",
       "FINANCE            Everyone       141129          97385\n",
       "GAME-ACTION        Everyone        87560          55242\n",
       "                   Mature 17+      29359          12400\n",
       "                   Teen            92574          48879\n",
       "HEALTH AND FITNESS Everyone       109859          78660\n",
       "LIFESTYLE          Everyone        78200          51615\n",
       "                   Mature 17+      21716          14300\n",
       "                   Teen             3012           2106\n",
       "MUSIC AND AUDIO    Everyone        22754          15861\n",
       "                   Teen           150219         100115"
      ]
     },
     "execution_count": 128,
     "metadata": {},
     "output_type": "execute_result"
    }
   ],
   "source": [
    "pd.concat([JoinedDf.groupby([\"CATEGORY\",\"contentRating\"])[\"text\"].count(),JoinedDf.groupby([\"CATEGORY\",\"contentRating\"])[\"processedText\"].count()],axis=1)"
   ]
  },
  {
   "cell_type": "markdown",
   "metadata": {},
   "source": [
    "##### Analyzing each category"
   ]
  },
  {
   "cell_type": "markdown",
   "metadata": {},
   "source": [
    "##### 10. What is the number of reviews for each score (score column)? For example, 35000 reviews have a score of 1, etc."
   ]
  },
  {
   "cell_type": "markdown",
   "metadata": {},
   "source": [
    "###### Before text processing"
   ]
  },
  {
   "cell_type": "code",
   "execution_count": 130,
   "metadata": {},
   "outputs": [
    {
     "data": {
      "text/plain": [
       "score\n",
       "1    150522\n",
       "2     35107\n",
       "3     53878\n",
       "4    111020\n",
       "5    761771\n",
       "Name: text, dtype: int64"
      ]
     },
     "execution_count": 130,
     "metadata": {},
     "output_type": "execute_result"
    }
   ],
   "source": [
    "JoinedDf.groupby(\"score\")[\"text\"].count()"
   ]
  },
  {
   "cell_type": "markdown",
   "metadata": {},
   "source": [
    "##### After text processing"
   ]
  },
  {
   "cell_type": "code",
   "execution_count": 132,
   "metadata": {},
   "outputs": [
    {
     "data": {
      "text/plain": [
       "score\n",
       "1    125982\n",
       "2     30494\n",
       "3     41520\n",
       "4     76890\n",
       "5    445578\n",
       "Name: processedText, dtype: int64"
      ]
     },
     "execution_count": 132,
     "metadata": {},
     "output_type": "execute_result"
    }
   ],
   "source": [
    "JoinedDf.groupby(\"score\")[\"processedText\"].count()"
   ]
  },
  {
   "cell_type": "markdown",
   "metadata": {},
   "source": [
    "###### 11. How many apps exist in each score-sub-group?"
   ]
  },
  {
   "cell_type": "code",
   "execution_count": 135,
   "metadata": {},
   "outputs": [
    {
     "data": {
      "text/plain": [
       "score\n",
       "1    86\n",
       "2    86\n",
       "3    86\n",
       "4    86\n",
       "5    86\n",
       "Name: appTitle, dtype: int64"
      ]
     },
     "execution_count": 135,
     "metadata": {},
     "output_type": "execute_result"
    }
   ],
   "source": [
    "JoinedDf.groupby(\"score\")[\"appTitle\"].nunique()"
   ]
  },
  {
   "cell_type": "markdown",
   "metadata": {},
   "source": [
    "###### 12. Compare the number of reviews for each score in a plot (Remember to normalize the numbers when you are comparing them)."
   ]
  },
  {
   "cell_type": "code",
   "execution_count": 136,
   "metadata": {},
   "outputs": [
    {
     "data": {
      "text/html": [
       "<div>\n",
       "<style scoped>\n",
       "    .dataframe tbody tr th:only-of-type {\n",
       "        vertical-align: middle;\n",
       "    }\n",
       "\n",
       "    .dataframe tbody tr th {\n",
       "        vertical-align: top;\n",
       "    }\n",
       "\n",
       "    .dataframe thead th {\n",
       "        text-align: right;\n",
       "    }\n",
       "</style>\n",
       "<table border=\"1\" class=\"dataframe\">\n",
       "  <thead>\n",
       "    <tr style=\"text-align: right;\">\n",
       "      <th></th>\n",
       "      <th>appTitle</th>\n",
       "      <th>userName</th>\n",
       "      <th>date</th>\n",
       "      <th>score</th>\n",
       "      <th>text</th>\n",
       "      <th>CATEGORY</th>\n",
       "      <th>contentRating</th>\n",
       "      <th>processedText</th>\n",
       "    </tr>\n",
       "  </thead>\n",
       "  <tbody>\n",
       "    <tr>\n",
       "      <td>0</td>\n",
       "      <td>photomath</td>\n",
       "      <td>NaN</td>\n",
       "      <td>March 8, 2019</td>\n",
       "      <td>5</td>\n",
       "      <td>nice</td>\n",
       "      <td>EDUCATION</td>\n",
       "      <td>Everyone</td>\n",
       "      <td>NaN</td>\n",
       "    </tr>\n",
       "    <tr>\n",
       "      <td>1</td>\n",
       "      <td>photomath</td>\n",
       "      <td>NaN</td>\n",
       "      <td>March 8, 2019</td>\n",
       "      <td>4</td>\n",
       "      <td>very helpful</td>\n",
       "      <td>EDUCATION</td>\n",
       "      <td>Everyone</td>\n",
       "      <td>NaN</td>\n",
       "    </tr>\n",
       "    <tr>\n",
       "      <td>2</td>\n",
       "      <td>photomath</td>\n",
       "      <td>NaN</td>\n",
       "      <td>March 8, 2019</td>\n",
       "      <td>5</td>\n",
       "      <td>Great App. Detailed answers. Understandable an...</td>\n",
       "      <td>EDUCATION</td>\n",
       "      <td>Everyone</td>\n",
       "      <td>Great  Detailed  Understandable</td>\n",
       "    </tr>\n",
       "    <tr>\n",
       "      <td>3</td>\n",
       "      <td>photomath</td>\n",
       "      <td>NaN</td>\n",
       "      <td>March 8, 2019</td>\n",
       "      <td>5</td>\n",
       "      <td>great!!!</td>\n",
       "      <td>EDUCATION</td>\n",
       "      <td>Everyone</td>\n",
       "      <td>NaN</td>\n",
       "    </tr>\n",
       "    <tr>\n",
       "      <td>4</td>\n",
       "      <td>photomath</td>\n",
       "      <td>NaN</td>\n",
       "      <td>March 8, 2019</td>\n",
       "      <td>1</td>\n",
       "      <td>bakwas hai pura.....time pass hai</td>\n",
       "      <td>EDUCATION</td>\n",
       "      <td>Everyone</td>\n",
       "      <td>time pass</td>\n",
       "    </tr>\n",
       "    <tr>\n",
       "      <td>...</td>\n",
       "      <td>...</td>\n",
       "      <td>...</td>\n",
       "      <td>...</td>\n",
       "      <td>...</td>\n",
       "      <td>...</td>\n",
       "      <td>...</td>\n",
       "      <td>...</td>\n",
       "      <td>...</td>\n",
       "    </tr>\n",
       "    <tr>\n",
       "      <td>1112293</td>\n",
       "      <td>soundcloud - music &amp; audio</td>\n",
       "      <td>pubgmaster 25</td>\n",
       "      <td>May 3, 2019</td>\n",
       "      <td>1</td>\n",
       "      <td>it gay</td>\n",
       "      <td>MUSIC AND AUDIO</td>\n",
       "      <td>Teen</td>\n",
       "      <td>NaN</td>\n",
       "    </tr>\n",
       "    <tr>\n",
       "      <td>1112294</td>\n",
       "      <td>soundcloud - music &amp; audio</td>\n",
       "      <td>Anjita Sinha</td>\n",
       "      <td>May 3, 2019</td>\n",
       "      <td>4</td>\n",
       "      <td>Love it</td>\n",
       "      <td>MUSIC AND AUDIO</td>\n",
       "      <td>Teen</td>\n",
       "      <td>NaN</td>\n",
       "    </tr>\n",
       "    <tr>\n",
       "      <td>1112295</td>\n",
       "      <td>soundcloud - music &amp; audio</td>\n",
       "      <td>Luis Lucas</td>\n",
       "      <td>May 3, 2019</td>\n",
       "      <td>5</td>\n",
       "      <td>muy bueno me gusta y puedo aguardar la musica ...</td>\n",
       "      <td>MUSIC AND AUDIO</td>\n",
       "      <td>Teen</td>\n",
       "      <td>me y la me mix son</td>\n",
       "    </tr>\n",
       "    <tr>\n",
       "      <td>1112296</td>\n",
       "      <td>soundcloud - music &amp; audio</td>\n",
       "      <td>Teairo Keys</td>\n",
       "      <td>May 3, 2019</td>\n",
       "      <td>5</td>\n",
       "      <td>love this app</td>\n",
       "      <td>MUSIC AND AUDIO</td>\n",
       "      <td>Teen</td>\n",
       "      <td>NaN</td>\n",
       "    </tr>\n",
       "    <tr>\n",
       "      <td>1112297</td>\n",
       "      <td>soundcloud - music &amp; audio</td>\n",
       "      <td>Ian Libo</td>\n",
       "      <td>May 3, 2019</td>\n",
       "      <td>1</td>\n",
       "      <td>The app was great and has a very nice selectio...</td>\n",
       "      <td>MUSIC AND AUDIO</td>\n",
       "      <td>Teen</td>\n",
       "      <td>The was great and a very nice selection of tal...</td>\n",
       "    </tr>\n",
       "  </tbody>\n",
       "</table>\n",
       "<p>1112298 rows × 8 columns</p>\n",
       "</div>"
      ],
      "text/plain": [
       "                           appTitle       userName           date  score  \\\n",
       "0                         photomath            NaN  March 8, 2019      5   \n",
       "1                         photomath            NaN  March 8, 2019      4   \n",
       "2                         photomath            NaN  March 8, 2019      5   \n",
       "3                         photomath            NaN  March 8, 2019      5   \n",
       "4                         photomath            NaN  March 8, 2019      1   \n",
       "...                             ...            ...            ...    ...   \n",
       "1112293  soundcloud - music & audio  pubgmaster 25    May 3, 2019      1   \n",
       "1112294  soundcloud - music & audio   Anjita Sinha    May 3, 2019      4   \n",
       "1112295  soundcloud - music & audio     Luis Lucas    May 3, 2019      5   \n",
       "1112296  soundcloud - music & audio    Teairo Keys    May 3, 2019      5   \n",
       "1112297  soundcloud - music & audio       Ian Libo    May 3, 2019      1   \n",
       "\n",
       "                                                      text         CATEGORY  \\\n",
       "0                                                     nice        EDUCATION   \n",
       "1                                             very helpful        EDUCATION   \n",
       "2        Great App. Detailed answers. Understandable an...        EDUCATION   \n",
       "3                                                 great!!!        EDUCATION   \n",
       "4                        bakwas hai pura.....time pass hai        EDUCATION   \n",
       "...                                                    ...              ...   \n",
       "1112293                                             it gay  MUSIC AND AUDIO   \n",
       "1112294                                            Love it  MUSIC AND AUDIO   \n",
       "1112295  muy bueno me gusta y puedo aguardar la musica ...  MUSIC AND AUDIO   \n",
       "1112296                                      love this app  MUSIC AND AUDIO   \n",
       "1112297  The app was great and has a very nice selectio...  MUSIC AND AUDIO   \n",
       "\n",
       "        contentRating                                      processedText  \n",
       "0            Everyone                                                NaN  \n",
       "1            Everyone                                                NaN  \n",
       "2            Everyone                   Great  Detailed  Understandable   \n",
       "3            Everyone                                                NaN  \n",
       "4            Everyone                                          time pass  \n",
       "...               ...                                                ...  \n",
       "1112293          Teen                                                NaN  \n",
       "1112294          Teen                                                NaN  \n",
       "1112295          Teen                                 me y la me mix son  \n",
       "1112296          Teen                                                NaN  \n",
       "1112297          Teen  The was great and a very nice selection of tal...  \n",
       "\n",
       "[1112298 rows x 8 columns]"
      ]
     },
     "execution_count": 136,
     "metadata": {},
     "output_type": "execute_result"
    }
   ],
   "source": [
    "JoinedDf"
   ]
  },
  {
   "cell_type": "code",
   "execution_count": 146,
   "metadata": {},
   "outputs": [],
   "source": [
    "Normalize = pd.DataFrame(JoinedDf.groupby(\"score\")[\"processedText\"].count())"
   ]
  },
  {
   "cell_type": "code",
   "execution_count": 147,
   "metadata": {},
   "outputs": [
    {
     "data": {
      "text/html": [
       "<div>\n",
       "<style scoped>\n",
       "    .dataframe tbody tr th:only-of-type {\n",
       "        vertical-align: middle;\n",
       "    }\n",
       "\n",
       "    .dataframe tbody tr th {\n",
       "        vertical-align: top;\n",
       "    }\n",
       "\n",
       "    .dataframe thead th {\n",
       "        text-align: right;\n",
       "    }\n",
       "</style>\n",
       "<table border=\"1\" class=\"dataframe\">\n",
       "  <thead>\n",
       "    <tr style=\"text-align: right;\">\n",
       "      <th></th>\n",
       "      <th>Number of Reviews for processed text</th>\n",
       "    </tr>\n",
       "    <tr>\n",
       "      <th>score</th>\n",
       "      <th></th>\n",
       "    </tr>\n",
       "  </thead>\n",
       "  <tbody>\n",
       "    <tr>\n",
       "      <td>1</td>\n",
       "      <td>125982</td>\n",
       "    </tr>\n",
       "    <tr>\n",
       "      <td>2</td>\n",
       "      <td>30494</td>\n",
       "    </tr>\n",
       "    <tr>\n",
       "      <td>3</td>\n",
       "      <td>41520</td>\n",
       "    </tr>\n",
       "    <tr>\n",
       "      <td>4</td>\n",
       "      <td>76890</td>\n",
       "    </tr>\n",
       "    <tr>\n",
       "      <td>5</td>\n",
       "      <td>445578</td>\n",
       "    </tr>\n",
       "  </tbody>\n",
       "</table>\n",
       "</div>"
      ],
      "text/plain": [
       "       Number of Reviews for processed text\n",
       "score                                      \n",
       "1                                    125982\n",
       "2                                     30494\n",
       "3                                     41520\n",
       "4                                     76890\n",
       "5                                    445578"
      ]
     },
     "execution_count": 147,
     "metadata": {},
     "output_type": "execute_result"
    }
   ],
   "source": [
    "Normalize.columns = [\"Number of Reviews for processed text\"]\n",
    "Normalize"
   ]
  },
  {
   "cell_type": "code",
   "execution_count": 150,
   "metadata": {},
   "outputs": [
    {
     "data": {
      "text/html": [
       "<div>\n",
       "<style scoped>\n",
       "    .dataframe tbody tr th:only-of-type {\n",
       "        vertical-align: middle;\n",
       "    }\n",
       "\n",
       "    .dataframe tbody tr th {\n",
       "        vertical-align: top;\n",
       "    }\n",
       "\n",
       "    .dataframe thead th {\n",
       "        text-align: right;\n",
       "    }\n",
       "</style>\n",
       "<table border=\"1\" class=\"dataframe\">\n",
       "  <thead>\n",
       "    <tr style=\"text-align: right;\">\n",
       "      <th></th>\n",
       "      <th>Number of Reviews for processed text</th>\n",
       "      <th>Normalizereviews</th>\n",
       "    </tr>\n",
       "    <tr>\n",
       "      <th>score</th>\n",
       "      <th></th>\n",
       "      <th></th>\n",
       "    </tr>\n",
       "  </thead>\n",
       "  <tbody>\n",
       "    <tr>\n",
       "      <td>1</td>\n",
       "      <td>125982</td>\n",
       "      <td>0.230045</td>\n",
       "    </tr>\n",
       "    <tr>\n",
       "      <td>2</td>\n",
       "      <td>30494</td>\n",
       "      <td>0.000000</td>\n",
       "    </tr>\n",
       "    <tr>\n",
       "      <td>3</td>\n",
       "      <td>41520</td>\n",
       "      <td>0.026563</td>\n",
       "    </tr>\n",
       "    <tr>\n",
       "      <td>4</td>\n",
       "      <td>76890</td>\n",
       "      <td>0.111775</td>\n",
       "    </tr>\n",
       "    <tr>\n",
       "      <td>5</td>\n",
       "      <td>445578</td>\n",
       "      <td>1.000000</td>\n",
       "    </tr>\n",
       "  </tbody>\n",
       "</table>\n",
       "</div>"
      ],
      "text/plain": [
       "       Number of Reviews for processed text  Normalizereviews\n",
       "score                                                        \n",
       "1                                    125982          0.230045\n",
       "2                                     30494          0.000000\n",
       "3                                     41520          0.026563\n",
       "4                                     76890          0.111775\n",
       "5                                    445578          1.000000"
      ]
     },
     "execution_count": 150,
     "metadata": {},
     "output_type": "execute_result"
    }
   ],
   "source": [
    "## Normalize using mix max data\n",
    "\n",
    "\n",
    "Normalize[\"Normalizereviews\"]= (Normalize[\"Number of Reviews for processed text\"]-Normalize[\"Number of Reviews for processed text\"].min())/(Normalize[\"Number of Reviews for processed text\"].max()-Normalize[\"Number of Reviews for processed text\"].min())\n",
    "Normalize"
   ]
  },
  {
   "cell_type": "code",
   "execution_count": 153,
   "metadata": {},
   "outputs": [
    {
     "data": {
      "text/plain": [
       "<matplotlib.axes._subplots.AxesSubplot at 0x1ceeddd4448>"
      ]
     },
     "execution_count": 153,
     "metadata": {},
     "output_type": "execute_result"
    },
    {
     "data": {
      "image/png": "[encoded data removed]",
      "text/plain": [
       "<Figure size 432x288 with 1 Axes>"
      ]
     },
     "metadata": {
      "needs_background": "light"
     },
     "output_type": "display_data"
    }
   ],
   "source": [
    "Normalize[\"score\"] = Normalize.index\n",
    "Normalize.plot.bar(x=\"score\",y=\"Normalizereviews\")\n"
   ]
  },
  {
   "cell_type": "markdown",
   "metadata": {},
   "source": [
    "###### 13. What is the average length of the reviews in each score-sub-group?"
   ]
  },
  {
   "cell_type": "code",
   "execution_count": 224,
   "metadata": {},
   "outputs": [],
   "source": [
    "AvgLength = JoinedDf.copy()\n",
    "AvgLength [\"AverageLen\"]= JoinedDf[\"text\"].str.len()\n"
   ]
  },
  {
   "cell_type": "code",
   "execution_count": 225,
   "metadata": {},
   "outputs": [],
   "source": [
    "AvgLengthTable = pd.DataFrame(AvgLength.groupby(\"score\")[\"AverageLen\"].mean())"
   ]
  },
  {
   "cell_type": "code",
   "execution_count": 226,
   "metadata": {},
   "outputs": [
    {
     "data": {
      "text/html": [
       "<div>\n",
       "<style scoped>\n",
       "    .dataframe tbody tr th:only-of-type {\n",
       "        vertical-align: middle;\n",
       "    }\n",
       "\n",
       "    .dataframe tbody tr th {\n",
       "        vertical-align: top;\n",
       "    }\n",
       "\n",
       "    .dataframe thead th {\n",
       "        text-align: right;\n",
       "    }\n",
       "</style>\n",
       "<table border=\"1\" class=\"dataframe\">\n",
       "  <thead>\n",
       "    <tr style=\"text-align: right;\">\n",
       "      <th></th>\n",
       "      <th>AverageLen</th>\n",
       "    </tr>\n",
       "    <tr>\n",
       "      <th>score</th>\n",
       "      <th></th>\n",
       "    </tr>\n",
       "  </thead>\n",
       "  <tbody>\n",
       "    <tr>\n",
       "      <td>1</td>\n",
       "      <td>106.373693</td>\n",
       "    </tr>\n",
       "    <tr>\n",
       "      <td>2</td>\n",
       "      <td>130.655311</td>\n",
       "    </tr>\n",
       "    <tr>\n",
       "      <td>3</td>\n",
       "      <td>96.387765</td>\n",
       "    </tr>\n",
       "    <tr>\n",
       "      <td>4</td>\n",
       "      <td>64.645532</td>\n",
       "    </tr>\n",
       "    <tr>\n",
       "      <td>5</td>\n",
       "      <td>37.552502</td>\n",
       "    </tr>\n",
       "  </tbody>\n",
       "</table>\n",
       "</div>"
      ],
      "text/plain": [
       "       AverageLen\n",
       "score            \n",
       "1      106.373693\n",
       "2      130.655311\n",
       "3       96.387765\n",
       "4       64.645532\n",
       "5       37.552502"
      ]
     },
     "execution_count": 226,
     "metadata": {},
     "output_type": "execute_result"
    }
   ],
   "source": [
    "AvgLengthTable"
   ]
  },
  {
   "cell_type": "markdown",
   "metadata": {},
   "source": [
    "##### 14. Compare the average length of reviews in each score-sub-group in the 8 app categories (draw a plot)."
   ]
  },
  {
   "cell_type": "code",
   "execution_count": 254,
   "metadata": {},
   "outputs": [
    {
     "data": {
      "text/html": [
       "<div>\n",
       "<style scoped>\n",
       "    .dataframe tbody tr th:only-of-type {\n",
       "        vertical-align: middle;\n",
       "    }\n",
       "\n",
       "    .dataframe tbody tr th {\n",
       "        vertical-align: top;\n",
       "    }\n",
       "\n",
       "    .dataframe thead th {\n",
       "        text-align: right;\n",
       "    }\n",
       "</style>\n",
       "<table border=\"1\" class=\"dataframe\">\n",
       "  <thead>\n",
       "    <tr style=\"text-align: right;\">\n",
       "      <th></th>\n",
       "      <th>appTitle</th>\n",
       "      <th>userName</th>\n",
       "      <th>date</th>\n",
       "      <th>score</th>\n",
       "      <th>text</th>\n",
       "      <th>CATEGORY</th>\n",
       "      <th>contentRating</th>\n",
       "      <th>processedText</th>\n",
       "      <th>AverageLen</th>\n",
       "    </tr>\n",
       "  </thead>\n",
       "  <tbody>\n",
       "    <tr>\n",
       "      <td>0</td>\n",
       "      <td>photomath</td>\n",
       "      <td>NaN</td>\n",
       "      <td>March 8, 2019</td>\n",
       "      <td>5</td>\n",
       "      <td>nice</td>\n",
       "      <td>EDUCATION</td>\n",
       "      <td>Everyone</td>\n",
       "      <td>NaN</td>\n",
       "      <td>4</td>\n",
       "    </tr>\n",
       "    <tr>\n",
       "      <td>1</td>\n",
       "      <td>photomath</td>\n",
       "      <td>NaN</td>\n",
       "      <td>March 8, 2019</td>\n",
       "      <td>4</td>\n",
       "      <td>very helpful</td>\n",
       "      <td>EDUCATION</td>\n",
       "      <td>Everyone</td>\n",
       "      <td>NaN</td>\n",
       "      <td>12</td>\n",
       "    </tr>\n",
       "    <tr>\n",
       "      <td>2</td>\n",
       "      <td>photomath</td>\n",
       "      <td>NaN</td>\n",
       "      <td>March 8, 2019</td>\n",
       "      <td>5</td>\n",
       "      <td>Great App. Detailed answers. Understandable an...</td>\n",
       "      <td>EDUCATION</td>\n",
       "      <td>Everyone</td>\n",
       "      <td>Great  Detailed  Understandable</td>\n",
       "      <td>52</td>\n",
       "    </tr>\n",
       "    <tr>\n",
       "      <td>3</td>\n",
       "      <td>photomath</td>\n",
       "      <td>NaN</td>\n",
       "      <td>March 8, 2019</td>\n",
       "      <td>5</td>\n",
       "      <td>great!!!</td>\n",
       "      <td>EDUCATION</td>\n",
       "      <td>Everyone</td>\n",
       "      <td>NaN</td>\n",
       "      <td>8</td>\n",
       "    </tr>\n",
       "    <tr>\n",
       "      <td>4</td>\n",
       "      <td>photomath</td>\n",
       "      <td>NaN</td>\n",
       "      <td>March 8, 2019</td>\n",
       "      <td>1</td>\n",
       "      <td>bakwas hai pura.....time pass hai</td>\n",
       "      <td>EDUCATION</td>\n",
       "      <td>Everyone</td>\n",
       "      <td>time pass</td>\n",
       "      <td>33</td>\n",
       "    </tr>\n",
       "    <tr>\n",
       "      <td>...</td>\n",
       "      <td>...</td>\n",
       "      <td>...</td>\n",
       "      <td>...</td>\n",
       "      <td>...</td>\n",
       "      <td>...</td>\n",
       "      <td>...</td>\n",
       "      <td>...</td>\n",
       "      <td>...</td>\n",
       "      <td>...</td>\n",
       "    </tr>\n",
       "    <tr>\n",
       "      <td>1112293</td>\n",
       "      <td>soundcloud - music &amp; audio</td>\n",
       "      <td>pubgmaster 25</td>\n",
       "      <td>May 3, 2019</td>\n",
       "      <td>1</td>\n",
       "      <td>it gay</td>\n",
       "      <td>MUSIC AND AUDIO</td>\n",
       "      <td>Teen</td>\n",
       "      <td>NaN</td>\n",
       "      <td>6</td>\n",
       "    </tr>\n",
       "    <tr>\n",
       "      <td>1112294</td>\n",
       "      <td>soundcloud - music &amp; audio</td>\n",
       "      <td>Anjita Sinha</td>\n",
       "      <td>May 3, 2019</td>\n",
       "      <td>4</td>\n",
       "      <td>Love it</td>\n",
       "      <td>MUSIC AND AUDIO</td>\n",
       "      <td>Teen</td>\n",
       "      <td>NaN</td>\n",
       "      <td>7</td>\n",
       "    </tr>\n",
       "    <tr>\n",
       "      <td>1112295</td>\n",
       "      <td>soundcloud - music &amp; audio</td>\n",
       "      <td>Luis Lucas</td>\n",
       "      <td>May 3, 2019</td>\n",
       "      <td>5</td>\n",
       "      <td>muy bueno me gusta y puedo aguardar la musica ...</td>\n",
       "      <td>MUSIC AND AUDIO</td>\n",
       "      <td>Teen</td>\n",
       "      <td>me y la me mix son</td>\n",
       "      <td>86</td>\n",
       "    </tr>\n",
       "    <tr>\n",
       "      <td>1112296</td>\n",
       "      <td>soundcloud - music &amp; audio</td>\n",
       "      <td>Teairo Keys</td>\n",
       "      <td>May 3, 2019</td>\n",
       "      <td>5</td>\n",
       "      <td>love this app</td>\n",
       "      <td>MUSIC AND AUDIO</td>\n",
       "      <td>Teen</td>\n",
       "      <td>NaN</td>\n",
       "      <td>13</td>\n",
       "    </tr>\n",
       "    <tr>\n",
       "      <td>1112297</td>\n",
       "      <td>soundcloud - music &amp; audio</td>\n",
       "      <td>Ian Libo</td>\n",
       "      <td>May 3, 2019</td>\n",
       "      <td>1</td>\n",
       "      <td>The app was great and has a very nice selectio...</td>\n",
       "      <td>MUSIC AND AUDIO</td>\n",
       "      <td>Teen</td>\n",
       "      <td>The was great and a very nice selection of tal...</td>\n",
       "      <td>357</td>\n",
       "    </tr>\n",
       "  </tbody>\n",
       "</table>\n",
       "<p>1112298 rows × 9 columns</p>\n",
       "</div>"
      ],
      "text/plain": [
       "                           appTitle       userName           date  score  \\\n",
       "0                         photomath            NaN  March 8, 2019      5   \n",
       "1                         photomath            NaN  March 8, 2019      4   \n",
       "2                         photomath            NaN  March 8, 2019      5   \n",
       "3                         photomath            NaN  March 8, 2019      5   \n",
       "4                         photomath            NaN  March 8, 2019      1   \n",
       "...                             ...            ...            ...    ...   \n",
       "1112293  soundcloud - music & audio  pubgmaster 25    May 3, 2019      1   \n",
       "1112294  soundcloud - music & audio   Anjita Sinha    May 3, 2019      4   \n",
       "1112295  soundcloud - music & audio     Luis Lucas    May 3, 2019      5   \n",
       "1112296  soundcloud - music & audio    Teairo Keys    May 3, 2019      5   \n",
       "1112297  soundcloud - music & audio       Ian Libo    May 3, 2019      1   \n",
       "\n",
       "                                                      text         CATEGORY  \\\n",
       "0                                                     nice        EDUCATION   \n",
       "1                                             very helpful        EDUCATION   \n",
       "2        Great App. Detailed answers. Understandable an...        EDUCATION   \n",
       "3                                                 great!!!        EDUCATION   \n",
       "4                        bakwas hai pura.....time pass hai        EDUCATION   \n",
       "...                                                    ...              ...   \n",
       "1112293                                             it gay  MUSIC AND AUDIO   \n",
       "1112294                                            Love it  MUSIC AND AUDIO   \n",
       "1112295  muy bueno me gusta y puedo aguardar la musica ...  MUSIC AND AUDIO   \n",
       "1112296                                      love this app  MUSIC AND AUDIO   \n",
       "1112297  The app was great and has a very nice selectio...  MUSIC AND AUDIO   \n",
       "\n",
       "        contentRating                                      processedText  \\\n",
       "0            Everyone                                                NaN   \n",
       "1            Everyone                                                NaN   \n",
       "2            Everyone                   Great  Detailed  Understandable    \n",
       "3            Everyone                                                NaN   \n",
       "4            Everyone                                          time pass   \n",
       "...               ...                                                ...   \n",
       "1112293          Teen                                                NaN   \n",
       "1112294          Teen                                                NaN   \n",
       "1112295          Teen                                 me y la me mix son   \n",
       "1112296          Teen                                                NaN   \n",
       "1112297          Teen  The was great and a very nice selection of tal...   \n",
       "\n",
       "         AverageLen  \n",
       "0                 4  \n",
       "1                12  \n",
       "2                52  \n",
       "3                 8  \n",
       "4                33  \n",
       "...             ...  \n",
       "1112293           6  \n",
       "1112294           7  \n",
       "1112295          86  \n",
       "1112296          13  \n",
       "1112297         357  \n",
       "\n",
       "[1112298 rows x 9 columns]"
      ]
     },
     "execution_count": 254,
     "metadata": {},
     "output_type": "execute_result"
    }
   ],
   "source": [
    "AvgLength"
   ]
  },
  {
   "cell_type": "code",
   "execution_count": 228,
   "metadata": {},
   "outputs": [],
   "source": [
    "AvgPlot = pd.DataFrame(AvgLength.groupby([\"CATEGORY\",'score'])['AverageLen'].mean())"
   ]
  },
  {
   "cell_type": "code",
   "execution_count": 247,
   "metadata": {},
   "outputs": [
    {
     "data": {
      "text/plain": [
       "<matplotlib.legend.Legend at 0x1cf0a952288>"
      ]
     },
     "execution_count": 247,
     "metadata": {},
     "output_type": "execute_result"
    },
    {
     "data": {
      "image/png": "[encoded data removed]",
      "text/plain": [
       "<Figure size 432x288 with 1 Axes>"
      ]
     },
     "metadata": {
      "needs_background": "light"
     },
     "output_type": "display_data"
    }
   ],
   "source": [
    "AvgPlot.unstack().plot(kind=\"bar\",title=\"Average Length of reviews for each category with each score\")\n",
    "plt.legend(loc=\"center left\",bbox_to_anchor=(1,0.4))"
   ]
  },
  {
   "cell_type": "markdown",
   "metadata": {},
   "source": [
    "###### 15. Compare the number of reviews in each score-sub-group in the 8 app categories (draw a plot)."
   ]
  },
  {
   "cell_type": "code",
   "execution_count": 250,
   "metadata": {},
   "outputs": [],
   "source": [
    "AvgReview = pd.DataFrame(AvgLength.groupby([\"CATEGORY\",\"score\"])[\"text\"].count())"
   ]
  },
  {
   "cell_type": "code",
   "execution_count": 251,
   "metadata": {},
   "outputs": [
    {
     "data": {
      "text/plain": [
       "<matplotlib.legend.Legend at 0x1cf0aaaf248>"
      ]
     },
     "execution_count": 251,
     "metadata": {},
     "output_type": "execute_result"
    },
    {
     "data": {
      "image/png": "[encoded data removed]",
      "text/plain": [
       "<Figure size 432x288 with 1 Axes>"
      ]
     },
     "metadata": {
      "needs_background": "light"
     },
     "output_type": "display_data"
    }
   ],
   "source": [
    "AvgReview.unstack().plot(kind=\"bar\",title=\"Average Number of reviews for each category with each score\")\n",
    "plt.legend(loc=\"center left\",bbox_to_anchor=(1,0.4))"
   ]
  },
  {
   "cell_type": "markdown",
   "metadata": {},
   "source": [
    "###### 16. Compare the number of apps in each score-sub-group in the 8 app categories (draw a plot)."
   ]
  },
  {
   "cell_type": "code",
   "execution_count": 252,
   "metadata": {},
   "outputs": [
    {
     "data": {
      "text/plain": [
       "<matplotlib.legend.Legend at 0x1cf0abf05c8>"
      ]
     },
     "execution_count": 252,
     "metadata": {},
     "output_type": "execute_result"
    },
    {
     "data": {
      "image/png": "[encoded data removed]",
      "text/plain": [
       "<Figure size 432x288 with 1 Axes>"
      ]
     },
     "metadata": {
      "needs_background": "light"
     },
     "output_type": "display_data"
    }
   ],
   "source": [
    "AverageApp = pd.DataFrame(AvgLength.groupby(['CATEGORY',\"score\"])['appTitle'].nunique())\n",
    "AverageApp.unstack().plot(kind=\"bar\",title=\"Average Number of Apps in each subgroup in 8 categories\")\n",
    "plt.legend(loc=\"center left\",bbox_to_anchor=(1,0.4))"
   ]
  },
  {
   "cell_type": "markdown",
   "metadata": {},
   "source": [
    "###### 17. Is there any correlation between the length of the reviews and the score in each app-category?"
   ]
  },
  {
   "cell_type": "code",
   "execution_count": 260,
   "metadata": {},
   "outputs": [
    {
     "data": {
      "text/html": [
       "<div>\n",
       "<style scoped>\n",
       "    .dataframe tbody tr th:only-of-type {\n",
       "        vertical-align: middle;\n",
       "    }\n",
       "\n",
       "    .dataframe tbody tr th {\n",
       "        vertical-align: top;\n",
       "    }\n",
       "\n",
       "    .dataframe thead th {\n",
       "        text-align: right;\n",
       "    }\n",
       "</style>\n",
       "<table border=\"1\" class=\"dataframe\">\n",
       "  <thead>\n",
       "    <tr style=\"text-align: right;\">\n",
       "      <th>AverageLen</th>\n",
       "      <th>score</th>\n",
       "    </tr>\n",
       "    <tr>\n",
       "      <th>CATEGORY</th>\n",
       "      <th></th>\n",
       "    </tr>\n",
       "  </thead>\n",
       "  <tbody>\n",
       "    <tr>\n",
       "      <td>EDUCATION</td>\n",
       "      <td>-0.212736</td>\n",
       "    </tr>\n",
       "    <tr>\n",
       "      <td>ENTERTAINMENT</td>\n",
       "      <td>-0.301022</td>\n",
       "    </tr>\n",
       "    <tr>\n",
       "      <td>FAMILY</td>\n",
       "      <td>-0.159834</td>\n",
       "    </tr>\n",
       "    <tr>\n",
       "      <td>FINANCE</td>\n",
       "      <td>-0.457667</td>\n",
       "    </tr>\n",
       "    <tr>\n",
       "      <td>GAME-ACTION</td>\n",
       "      <td>-0.216247</td>\n",
       "    </tr>\n",
       "    <tr>\n",
       "      <td>HEALTH AND FITNESS</td>\n",
       "      <td>-0.349930</td>\n",
       "    </tr>\n",
       "    <tr>\n",
       "      <td>LIFESTYLE</td>\n",
       "      <td>-0.362638</td>\n",
       "    </tr>\n",
       "    <tr>\n",
       "      <td>MUSIC AND AUDIO</td>\n",
       "      <td>-0.401597</td>\n",
       "    </tr>\n",
       "  </tbody>\n",
       "</table>\n",
       "</div>"
      ],
      "text/plain": [
       "AverageLen             score\n",
       "CATEGORY                    \n",
       "EDUCATION          -0.212736\n",
       "ENTERTAINMENT      -0.301022\n",
       "FAMILY             -0.159834\n",
       "FINANCE            -0.457667\n",
       "GAME-ACTION        -0.216247\n",
       "HEALTH AND FITNESS -0.349930\n",
       "LIFESTYLE          -0.362638\n",
       "MUSIC AND AUDIO    -0.401597"
      ]
     },
     "execution_count": 260,
     "metadata": {},
     "output_type": "execute_result"
    }
   ],
   "source": [
    "RevScore = AvgLength.groupby(\"CATEGORY\")[[\"score\",\"AverageLen\"]].apply(lambda x:x.corr()[\"AverageLen\"])\n",
    "RevScore.iloc[:,[0]]\n",
    "\n"
   ]
  },
  {
   "cell_type": "markdown",
   "metadata": {},
   "source": [
    "###### There is negative correlation between the average Length and the score"
   ]
  },
  {
   "cell_type": "markdown",
   "metadata": {},
   "source": [
    "###### 18. Find the evolution/changes of the star rating and length of reviews during time for each app category. Draw plots.\n",
    "###### a. Can we use the date column for this question?\n",
    "###### b. If not, what is the solution based on the data you have?"
   ]
  },
  {
   "cell_type": "code",
   "execution_count": 11,
   "metadata": {},
   "outputs": [],
   "source": [
    "detailsRegex = re.compile(r'newest')\n",
    "i = 0\n",
    "columns = range(1,100)\n",
    "df2files=[]\n",
    "df2List=[]\n",
    "\n",
    "\n",
    "\n",
    "for root, dirs, files in os.walk(cd):\n",
    "    for fname in files:\n",
    "        if detailsRegex.search(fname):\n",
    "            frame = pd.read_csv(os.path.join(root, fname), names=columns,skiprows=1)\n",
    "            if fname.find(\"EDUCATION\") != -1:\n",
    "                frame['CATEGORY'] = \"EDUCATION\"\n",
    "            elif fname.find(\"FINANCE\") !=-1:\n",
    "                frame['CATEGORY'] = \"FINANCE\"  \n",
    "            elif fname.find(\"ENTERTAINMENT\") != -1:\n",
    "                frame['CATEGORY'] = \"ENTERTAINMENT\"\n",
    "            elif fname.find(\"FAMILY\") != -1:\n",
    "                frame['CATEGORY'] = \"FAMILY\"\n",
    "            elif fname.find(\"GAME\") != -1:\n",
    "                frame['CATEGORY'] = \"GAME-ACTION\"\n",
    "            elif fname.find(\"HEALTH\") != -1:\n",
    "                frame['CATEGORY'] = \"HEALTH AND FITNESS\"\n",
    "            elif fname.find(\"LIFESTYLE\") != -1:\n",
    "                frame['CATEGORY'] = \"LIFESTYLE\"\n",
    "            elif fname.find(\"MUSIC\") != -1:\n",
    "                frame['CATEGORY'] = \"MUSIC AND AUDIO\"\n",
    "            frame['month'] = fname[5:7]\n",
    "            \n",
    "            #frame['key'] = \"file{}\".format(i)\n",
    "            df2List.append(frame)    \n",
    "            df2files.append(fname)\n",
    "            i += 1\n",
    "            \n",
    "            \n"
   ]
  },
  {
   "cell_type": "code",
   "execution_count": 12,
   "metadata": {},
   "outputs": [],
   "source": [
    "df2 = pd.concat(df2List)"
   ]
  },
  {
   "cell_type": "code",
   "execution_count": 13,
   "metadata": {},
   "outputs": [],
   "source": [
    "df2.reset_index(drop=True,inplace=True)\n",
    "df2.rename(columns={1:\"appTitle\",2:\"userName\",3:\"date\",4:\"score\",5:\"text\"},inplace=True)\n",
    "df2.dropna(axis=1,how=\"all\",inplace=True)\n",
    "df2['appTitle'] = df2['appTitle'].str.lower()\n",
    "df2.drop_duplicates(subset=['appTitle','userName','date','score','text'],inplace=True)\n",
    "\n",
    "\n",
    "\n"
   ]
  },
  {
   "cell_type": "code",
   "execution_count": 14,
   "metadata": {},
   "outputs": [
    {
     "data": {
      "text/html": [
       "<div>\n",
       "<style scoped>\n",
       "    .dataframe tbody tr th:only-of-type {\n",
       "        vertical-align: middle;\n",
       "    }\n",
       "\n",
       "    .dataframe tbody tr th {\n",
       "        vertical-align: top;\n",
       "    }\n",
       "\n",
       "    .dataframe thead th {\n",
       "        text-align: right;\n",
       "    }\n",
       "</style>\n",
       "<table border=\"1\" class=\"dataframe\">\n",
       "  <thead>\n",
       "    <tr style=\"text-align: right;\">\n",
       "      <th></th>\n",
       "      <th>appTitle</th>\n",
       "      <th>userName</th>\n",
       "      <th>date</th>\n",
       "      <th>score</th>\n",
       "      <th>text</th>\n",
       "      <th>CATEGORY</th>\n",
       "      <th>month</th>\n",
       "    </tr>\n",
       "  </thead>\n",
       "  <tbody>\n",
       "    <tr>\n",
       "      <td>0</td>\n",
       "      <td>photomath</td>\n",
       "      <td>NaN</td>\n",
       "      <td>March 8, 2019</td>\n",
       "      <td>5</td>\n",
       "      <td>nice</td>\n",
       "      <td>EDUCATION</td>\n",
       "      <td>03</td>\n",
       "    </tr>\n",
       "    <tr>\n",
       "      <td>1</td>\n",
       "      <td>photomath</td>\n",
       "      <td>NaN</td>\n",
       "      <td>March 8, 2019</td>\n",
       "      <td>4</td>\n",
       "      <td>very helpful</td>\n",
       "      <td>EDUCATION</td>\n",
       "      <td>03</td>\n",
       "    </tr>\n",
       "    <tr>\n",
       "      <td>2</td>\n",
       "      <td>photomath</td>\n",
       "      <td>NaN</td>\n",
       "      <td>March 8, 2019</td>\n",
       "      <td>5</td>\n",
       "      <td>Great App. Detailed answers. Understandable an...</td>\n",
       "      <td>EDUCATION</td>\n",
       "      <td>03</td>\n",
       "    </tr>\n",
       "    <tr>\n",
       "      <td>3</td>\n",
       "      <td>photomath</td>\n",
       "      <td>NaN</td>\n",
       "      <td>March 8, 2019</td>\n",
       "      <td>5</td>\n",
       "      <td>great!!!</td>\n",
       "      <td>EDUCATION</td>\n",
       "      <td>03</td>\n",
       "    </tr>\n",
       "    <tr>\n",
       "      <td>4</td>\n",
       "      <td>photomath</td>\n",
       "      <td>NaN</td>\n",
       "      <td>March 8, 2019</td>\n",
       "      <td>1</td>\n",
       "      <td>bakwas hai pura.....time pass hai</td>\n",
       "      <td>EDUCATION</td>\n",
       "      <td>03</td>\n",
       "    </tr>\n",
       "    <tr>\n",
       "      <td>...</td>\n",
       "      <td>...</td>\n",
       "      <td>...</td>\n",
       "      <td>...</td>\n",
       "      <td>...</td>\n",
       "      <td>...</td>\n",
       "      <td>...</td>\n",
       "      <td>...</td>\n",
       "    </tr>\n",
       "    <tr>\n",
       "      <td>2715298</td>\n",
       "      <td>soundcloud - music &amp; audio</td>\n",
       "      <td>pubgmaster 25</td>\n",
       "      <td>May 3, 2019</td>\n",
       "      <td>1</td>\n",
       "      <td>it gay</td>\n",
       "      <td>MUSIC AND AUDIO</td>\n",
       "      <td>05</td>\n",
       "    </tr>\n",
       "    <tr>\n",
       "      <td>2715299</td>\n",
       "      <td>soundcloud - music &amp; audio</td>\n",
       "      <td>Anjita Sinha</td>\n",
       "      <td>May 3, 2019</td>\n",
       "      <td>4</td>\n",
       "      <td>Love it</td>\n",
       "      <td>MUSIC AND AUDIO</td>\n",
       "      <td>05</td>\n",
       "    </tr>\n",
       "    <tr>\n",
       "      <td>2715300</td>\n",
       "      <td>soundcloud - music &amp; audio</td>\n",
       "      <td>Luis Lucas</td>\n",
       "      <td>May 3, 2019</td>\n",
       "      <td>5</td>\n",
       "      <td>muy bueno me gusta y puedo aguardar la musica ...</td>\n",
       "      <td>MUSIC AND AUDIO</td>\n",
       "      <td>05</td>\n",
       "    </tr>\n",
       "    <tr>\n",
       "      <td>2715301</td>\n",
       "      <td>soundcloud - music &amp; audio</td>\n",
       "      <td>Teairo Keys</td>\n",
       "      <td>May 3, 2019</td>\n",
       "      <td>5</td>\n",
       "      <td>love this app</td>\n",
       "      <td>MUSIC AND AUDIO</td>\n",
       "      <td>05</td>\n",
       "    </tr>\n",
       "    <tr>\n",
       "      <td>2715302</td>\n",
       "      <td>soundcloud - music &amp; audio</td>\n",
       "      <td>Ian Libo</td>\n",
       "      <td>May 3, 2019</td>\n",
       "      <td>1</td>\n",
       "      <td>The app was great and has a very nice selectio...</td>\n",
       "      <td>MUSIC AND AUDIO</td>\n",
       "      <td>05</td>\n",
       "    </tr>\n",
       "  </tbody>\n",
       "</table>\n",
       "<p>1112298 rows × 7 columns</p>\n",
       "</div>"
      ],
      "text/plain": [
       "                           appTitle       userName           date  score  \\\n",
       "0                         photomath            NaN  March 8, 2019      5   \n",
       "1                         photomath            NaN  March 8, 2019      4   \n",
       "2                         photomath            NaN  March 8, 2019      5   \n",
       "3                         photomath            NaN  March 8, 2019      5   \n",
       "4                         photomath            NaN  March 8, 2019      1   \n",
       "...                             ...            ...            ...    ...   \n",
       "2715298  soundcloud - music & audio  pubgmaster 25    May 3, 2019      1   \n",
       "2715299  soundcloud - music & audio   Anjita Sinha    May 3, 2019      4   \n",
       "2715300  soundcloud - music & audio     Luis Lucas    May 3, 2019      5   \n",
       "2715301  soundcloud - music & audio    Teairo Keys    May 3, 2019      5   \n",
       "2715302  soundcloud - music & audio       Ian Libo    May 3, 2019      1   \n",
       "\n",
       "                                                      text         CATEGORY  \\\n",
       "0                                                     nice        EDUCATION   \n",
       "1                                             very helpful        EDUCATION   \n",
       "2        Great App. Detailed answers. Understandable an...        EDUCATION   \n",
       "3                                                 great!!!        EDUCATION   \n",
       "4                        bakwas hai pura.....time pass hai        EDUCATION   \n",
       "...                                                    ...              ...   \n",
       "2715298                                             it gay  MUSIC AND AUDIO   \n",
       "2715299                                            Love it  MUSIC AND AUDIO   \n",
       "2715300  muy bueno me gusta y puedo aguardar la musica ...  MUSIC AND AUDIO   \n",
       "2715301                                      love this app  MUSIC AND AUDIO   \n",
       "2715302  The app was great and has a very nice selectio...  MUSIC AND AUDIO   \n",
       "\n",
       "        month  \n",
       "0          03  \n",
       "1          03  \n",
       "2          03  \n",
       "3          03  \n",
       "4          03  \n",
       "...       ...  \n",
       "2715298    05  \n",
       "2715299    05  \n",
       "2715300    05  \n",
       "2715301    05  \n",
       "2715302    05  \n",
       "\n",
       "[1112298 rows x 7 columns]"
      ]
     },
     "execution_count": 14,
     "metadata": {},
     "output_type": "execute_result"
    }
   ],
   "source": [
    "df2.dropna(subset=['appTitle','text'],inplace=True)\n",
    "df2"
   ]
  },
  {
   "cell_type": "markdown",
   "metadata": {},
   "source": [
    "##### 1)Drop duplicates and record how many unique reviews are collected?"
   ]
  },
  {
   "cell_type": "markdown",
   "metadata": {},
   "source": [
    "###### Recording of unique number of reviews is done after dropping duplicates which have similar app Title,UserName,score,text and Category and then again dropping duplicates that have the same apptitle and review "
   ]
  },
  {
   "cell_type": "code",
   "execution_count": 19,
   "metadata": {},
   "outputs": [
    {
     "data": {
      "text/plain": [
       "673592"
      ]
     },
     "execution_count": 19,
     "metadata": {},
     "output_type": "execute_result"
    }
   ],
   "source": [
    "len(df.text.unique())"
   ]
  },
  {
   "cell_type": "markdown",
   "metadata": {},
   "source": [
    "Total number of unique reviews is 673592"
   ]
  },
  {
   "cell_type": "markdown",
   "metadata": {},
   "source": [
    "###### 2. How many unique apps are in the dataset? How many apps in each of the 8 specified app categories?"
   ]
  },
  {
   "cell_type": "code",
   "execution_count": 51,
   "metadata": {},
   "outputs": [
    {
     "name": "stdout",
     "output_type": "stream",
     "text": [
      "Number of unique apps are 86\n",
      "Apps in each of the 8 specified app categories are\n"
     ]
    },
    {
     "data": {
      "text/plain": [
       "CATEGORY\n",
       "EDUCATION             10\n",
       "ENTERTAINMENT         13\n",
       "FAMILY                10\n",
       "FINANCE               10\n",
       "GAME-ACTION           11\n",
       "HEALTH AND FITNESS    10\n",
       "LIFESTYLE             12\n",
       "MUSIC AND AUDIO       11\n",
       "Name: appTitle, dtype: int64"
      ]
     },
     "execution_count": 51,
     "metadata": {},
     "output_type": "execute_result"
    }
   ],
   "source": [
    "print(\"Number of unique apps are\",len(df['appTitle'].unique()))\n",
    "print(\"Apps in each of the 8 specified app categories are\")\n",
    "df.groupby(\"CATEGORY\")['appTitle'].nunique()"
   ]
  },
  {
   "cell_type": "markdown",
   "metadata": {},
   "source": [
    "##### 3. How many reviews exist in each of the eight app-categories?"
   ]
  },
  {
   "cell_type": "code",
   "execution_count": 56,
   "metadata": {},
   "outputs": [
    {
     "data": {
      "text/plain": [
       "CATEGORY\n",
       "EDUCATION              95830\n",
       "ENTERTAINMENT         181303\n",
       "FAMILY                 98783\n",
       "FINANCE               141129\n",
       "GAME-ACTION           209493\n",
       "HEALTH AND FITNESS    109859\n",
       "LIFESTYLE             102928\n",
       "MUSIC AND AUDIO       172973\n",
       "Name: text, dtype: int64"
      ]
     },
     "execution_count": 56,
     "metadata": {},
     "output_type": "execute_result"
    }
   ],
   "source": [
    "df.groupby(\"CATEGORY\")['text'].count()"
   ]
  },
  {
   "cell_type": "markdown",
   "metadata": {},
   "source": [
    "###### 4. Based on the contentRating column in the details files for each app, what are the different contentRating groups in each app-category?\n",
    "###### 5. How many apps exist in each of these contentRating-sub-groups in each app-category?\n"
   ]
  },
  {
   "cell_type": "code",
   "execution_count": 22,
   "metadata": {},
   "outputs": [
    {
     "data": {
      "text/plain": [
       "CATEGORY            contentRating\n",
       "EDUCATION           Everyone         60\n",
       "ENTERTAINMENT       Everyone          6\n",
       "                    Mature 17+        6\n",
       "                    Teen             48\n",
       "FAMILY              Everyone         40\n",
       "                    Everyone 10+     18\n",
       "FINANCE             Everyone         60\n",
       "                    contentRating     1\n",
       "GAME-ACTION         Everyone         30\n",
       "                    Mature 17+        6\n",
       "                    Teen             24\n",
       "HEALTH AND FITNESS  Everyone         60\n",
       "LIFESTYLE           Everyone         52\n",
       "                    Mature 17+        6\n",
       "                    Teen              1\n",
       "MUSIC AND AUDIO     Everyone         12\n",
       "                    Teen             48\n",
       "Name: contentRating, dtype: int64"
      ]
     },
     "execution_count": 22,
     "metadata": {},
     "output_type": "execute_result"
    }
   ],
   "source": [
    "pd.DataFrame(detailsDf.groupby(\"CATEGORY\")[\"contentRating\"].unique())\n",
    "detailsDf.groupby([\"CATEGORY\",\"contentRating\"])[\"contentRating\"].count()"
   ]
  },
  {
   "cell_type": "code",
   "execution_count": 57,
   "metadata": {},
   "outputs": [
    {
     "data": {
      "text/plain": [
       "CATEGORY            contentRating\n",
       "EDUCATION           Everyone          95830\n",
       "ENTERTAINMENT       Everyone          14377\n",
       "                    Mature 17+         7278\n",
       "                    Teen             159648\n",
       "FAMILY              Everyone          50676\n",
       "                    Everyone 10+      48107\n",
       "FINANCE             Everyone         141129\n",
       "GAME-ACTION         Everyone          87560\n",
       "                    Mature 17+        29359\n",
       "                    Teen              92574\n",
       "HEALTH AND FITNESS  Everyone         109859\n",
       "LIFESTYLE           Everyone          78200\n",
       "                    Mature 17+        21716\n",
       "                    Teen               3012\n",
       "MUSIC AND AUDIO     Everyone          22754\n",
       "                    Teen             150219\n",
       "Name: contentRating, dtype: int64"
      ]
     },
     "execution_count": 57,
     "metadata": {},
     "output_type": "execute_result"
    }
   ],
   "source": [
    "JoinedDf.groupby([\"CATEGORY\",\"contentRating\"])[\"contentRating\"].count()"
   ]
  },
  {
   "cell_type": "markdown",
   "metadata": {},
   "source": [
    "##### 6. How many reviews in each contentRating-sub-groups in each app-category?"
   ]
  },
  {
   "cell_type": "code",
   "execution_count": 61,
   "metadata": {},
   "outputs": [
    {
     "data": {
      "text/plain": [
       "CATEGORY            contentRating\n",
       "EDUCATION           Everyone          95830\n",
       "ENTERTAINMENT       Everyone          14377\n",
       "                    Mature 17+         7278\n",
       "                    Teen             159648\n",
       "FAMILY              Everyone          50676\n",
       "                    Everyone 10+      48107\n",
       "FINANCE             Everyone         141129\n",
       "GAME-ACTION         Everyone          87560\n",
       "                    Mature 17+        29359\n",
       "                    Teen              92574\n",
       "HEALTH AND FITNESS  Everyone         109859\n",
       "LIFESTYLE           Everyone          78200\n",
       "                    Mature 17+        21716\n",
       "                    Teen               3012\n",
       "MUSIC AND AUDIO     Everyone          22754\n",
       "                    Teen             150219\n",
       "Name: text, dtype: int64"
      ]
     },
     "execution_count": 61,
     "metadata": {},
     "output_type": "execute_result"
    }
   ],
   "source": [
    "JoinedDf.groupby([\"CATEGORY\",\"contentRating\"])[\"text\"].count()"
   ]
  },
  {
   "cell_type": "code",
   "execution_count": 37,
   "metadata": {},
   "outputs": [
    {
     "name": "stderr",
     "output_type": "stream",
     "text": [
      "[nltk_data] Downloading package words to\n",
      "[nltk_data]     C:\\Users\\shahi\\AppData\\Roaming\\nltk_data...\n",
      "[nltk_data]   Package words is already up-to-date!\n"
     ]
    }
   ],
   "source": [
    "import nltk\n",
    "\n",
    "nltk.download('words')\n",
    "words = set(nltk.corpus.words.words())\n"
   ]
  },
  {
   "cell_type": "code",
   "execution_count": 38,
   "metadata": {},
   "outputs": [],
   "source": [
    "def review(text):\n",
    "    return (\" \".join(w for w in nltk.wordpunct_tokenize(text) if w.lower() in words or not w.isalpha()))\n"
   ]
  },
  {
   "cell_type": "code",
   "execution_count": 64,
   "metadata": {},
   "outputs": [],
   "source": [
    "JoinedDf[\"processedText\"] = JoinedDf[\"text\"]\n",
    "JoinedDf[\"processedText\"] = JoinedDf[\"processedText\"].astype(str)\n",
    "JoinedDf[\"processedText\"] = JoinedDf[\"processedText\"].apply(review)"
   ]
  },
  {
   "cell_type": "code",
   "execution_count": 65,
   "metadata": {},
   "outputs": [
    {
     "data": {
      "text/html": [
       "<div>\n",
       "<style scoped>\n",
       "    .dataframe tbody tr th:only-of-type {\n",
       "        vertical-align: middle;\n",
       "    }\n",
       "\n",
       "    .dataframe tbody tr th {\n",
       "        vertical-align: top;\n",
       "    }\n",
       "\n",
       "    .dataframe thead th {\n",
       "        text-align: right;\n",
       "    }\n",
       "</style>\n",
       "<table border=\"1\" class=\"dataframe\">\n",
       "  <thead>\n",
       "    <tr style=\"text-align: right;\">\n",
       "      <th></th>\n",
       "      <th>appTitle</th>\n",
       "      <th>userName</th>\n",
       "      <th>date</th>\n",
       "      <th>score</th>\n",
       "      <th>text</th>\n",
       "      <th>CATEGORY</th>\n",
       "      <th>contentRating</th>\n",
       "      <th>processedText</th>\n",
       "    </tr>\n",
       "  </thead>\n",
       "  <tbody>\n",
       "    <tr>\n",
       "      <td>0</td>\n",
       "      <td>photomath</td>\n",
       "      <td>NaN</td>\n",
       "      <td>March 8, 2019</td>\n",
       "      <td>5</td>\n",
       "      <td>nice</td>\n",
       "      <td>EDUCATION</td>\n",
       "      <td>Everyone</td>\n",
       "      <td>nice</td>\n",
       "    </tr>\n",
       "    <tr>\n",
       "      <td>1</td>\n",
       "      <td>photomath</td>\n",
       "      <td>NaN</td>\n",
       "      <td>March 8, 2019</td>\n",
       "      <td>4</td>\n",
       "      <td>very helpful</td>\n",
       "      <td>EDUCATION</td>\n",
       "      <td>Everyone</td>\n",
       "      <td>very helpful</td>\n",
       "    </tr>\n",
       "    <tr>\n",
       "      <td>2</td>\n",
       "      <td>photomath</td>\n",
       "      <td>NaN</td>\n",
       "      <td>March 8, 2019</td>\n",
       "      <td>5</td>\n",
       "      <td>Great App. Detailed answers. Understandable an...</td>\n",
       "      <td>EDUCATION</td>\n",
       "      <td>Everyone</td>\n",
       "      <td>Great . Detailed . Understandable .</td>\n",
       "    </tr>\n",
       "    <tr>\n",
       "      <td>3</td>\n",
       "      <td>photomath</td>\n",
       "      <td>NaN</td>\n",
       "      <td>March 8, 2019</td>\n",
       "      <td>5</td>\n",
       "      <td>great!!!</td>\n",
       "      <td>EDUCATION</td>\n",
       "      <td>Everyone</td>\n",
       "      <td>great !!!</td>\n",
       "    </tr>\n",
       "    <tr>\n",
       "      <td>4</td>\n",
       "      <td>photomath</td>\n",
       "      <td>NaN</td>\n",
       "      <td>March 8, 2019</td>\n",
       "      <td>1</td>\n",
       "      <td>bakwas hai pura.....time pass hai</td>\n",
       "      <td>EDUCATION</td>\n",
       "      <td>Everyone</td>\n",
       "      <td>..... time pass</td>\n",
       "    </tr>\n",
       "    <tr>\n",
       "      <td>...</td>\n",
       "      <td>...</td>\n",
       "      <td>...</td>\n",
       "      <td>...</td>\n",
       "      <td>...</td>\n",
       "      <td>...</td>\n",
       "      <td>...</td>\n",
       "      <td>...</td>\n",
       "      <td>...</td>\n",
       "    </tr>\n",
       "    <tr>\n",
       "      <td>1112293</td>\n",
       "      <td>soundcloud - music &amp; audio</td>\n",
       "      <td>pubgmaster 25</td>\n",
       "      <td>May 3, 2019</td>\n",
       "      <td>1</td>\n",
       "      <td>it gay</td>\n",
       "      <td>MUSIC AND AUDIO</td>\n",
       "      <td>Teen</td>\n",
       "      <td>it gay</td>\n",
       "    </tr>\n",
       "    <tr>\n",
       "      <td>1112294</td>\n",
       "      <td>soundcloud - music &amp; audio</td>\n",
       "      <td>Anjita Sinha</td>\n",
       "      <td>May 3, 2019</td>\n",
       "      <td>4</td>\n",
       "      <td>Love it</td>\n",
       "      <td>MUSIC AND AUDIO</td>\n",
       "      <td>Teen</td>\n",
       "      <td>Love it</td>\n",
       "    </tr>\n",
       "    <tr>\n",
       "      <td>1112295</td>\n",
       "      <td>soundcloud - music &amp; audio</td>\n",
       "      <td>Luis Lucas</td>\n",
       "      <td>May 3, 2019</td>\n",
       "      <td>5</td>\n",
       "      <td>muy bueno me gusta y puedo aguardar la musica ...</td>\n",
       "      <td>MUSIC AND AUDIO</td>\n",
       "      <td>Teen</td>\n",
       "      <td>me y la me mix son</td>\n",
       "    </tr>\n",
       "    <tr>\n",
       "      <td>1112296</td>\n",
       "      <td>soundcloud - music &amp; audio</td>\n",
       "      <td>Teairo Keys</td>\n",
       "      <td>May 3, 2019</td>\n",
       "      <td>5</td>\n",
       "      <td>love this app</td>\n",
       "      <td>MUSIC AND AUDIO</td>\n",
       "      <td>Teen</td>\n",
       "      <td>love this</td>\n",
       "    </tr>\n",
       "    <tr>\n",
       "      <td>1112297</td>\n",
       "      <td>soundcloud - music &amp; audio</td>\n",
       "      <td>Ian Libo</td>\n",
       "      <td>May 3, 2019</td>\n",
       "      <td>1</td>\n",
       "      <td>The app was great and has a very nice selectio...</td>\n",
       "      <td>MUSIC AND AUDIO</td>\n",
       "      <td>Teen</td>\n",
       "      <td>The was great and a very nice selection of tal...</td>\n",
       "    </tr>\n",
       "  </tbody>\n",
       "</table>\n",
       "<p>1112298 rows × 8 columns</p>\n",
       "</div>"
      ],
      "text/plain": [
       "                           appTitle       userName           date  score  \\\n",
       "0                         photomath            NaN  March 8, 2019      5   \n",
       "1                         photomath            NaN  March 8, 2019      4   \n",
       "2                         photomath            NaN  March 8, 2019      5   \n",
       "3                         photomath            NaN  March 8, 2019      5   \n",
       "4                         photomath            NaN  March 8, 2019      1   \n",
       "...                             ...            ...            ...    ...   \n",
       "1112293  soundcloud - music & audio  pubgmaster 25    May 3, 2019      1   \n",
       "1112294  soundcloud - music & audio   Anjita Sinha    May 3, 2019      4   \n",
       "1112295  soundcloud - music & audio     Luis Lucas    May 3, 2019      5   \n",
       "1112296  soundcloud - music & audio    Teairo Keys    May 3, 2019      5   \n",
       "1112297  soundcloud - music & audio       Ian Libo    May 3, 2019      1   \n",
       "\n",
       "                                                      text         CATEGORY  \\\n",
       "0                                                     nice        EDUCATION   \n",
       "1                                             very helpful        EDUCATION   \n",
       "2        Great App. Detailed answers. Understandable an...        EDUCATION   \n",
       "3                                                 great!!!        EDUCATION   \n",
       "4                        bakwas hai pura.....time pass hai        EDUCATION   \n",
       "...                                                    ...              ...   \n",
       "1112293                                             it gay  MUSIC AND AUDIO   \n",
       "1112294                                            Love it  MUSIC AND AUDIO   \n",
       "1112295  muy bueno me gusta y puedo aguardar la musica ...  MUSIC AND AUDIO   \n",
       "1112296                                      love this app  MUSIC AND AUDIO   \n",
       "1112297  The app was great and has a very nice selectio...  MUSIC AND AUDIO   \n",
       "\n",
       "        contentRating                                      processedText  \n",
       "0            Everyone                                               nice  \n",
       "1            Everyone                                       very helpful  \n",
       "2            Everyone                Great . Detailed . Understandable .  \n",
       "3            Everyone                                          great !!!  \n",
       "4            Everyone                                    ..... time pass  \n",
       "...               ...                                                ...  \n",
       "1112293          Teen                                             it gay  \n",
       "1112294          Teen                                            Love it  \n",
       "1112295          Teen                                 me y la me mix son  \n",
       "1112296          Teen                                          love this  \n",
       "1112297          Teen  The was great and a very nice selection of tal...  \n",
       "\n",
       "[1112298 rows x 8 columns]"
      ]
     },
     "execution_count": 65,
     "metadata": {},
     "output_type": "execute_result"
    }
   ],
   "source": [
    "JoinedDf"
   ]
  },
  {
   "cell_type": "markdown",
   "metadata": {},
   "source": [
    "#### Remove non ascii characters"
   ]
  },
  {
   "cell_type": "code",
   "execution_count": 66,
   "metadata": {},
   "outputs": [],
   "source": [
    "JoinedDf.processedText.replace({r'[^\\x00-\\x7F]+':''}, regex=True, inplace=True)"
   ]
  },
  {
   "cell_type": "markdown",
   "metadata": {},
   "source": [
    "#### Remove punctuations"
   ]
  },
  {
   "cell_type": "code",
   "execution_count": 67,
   "metadata": {},
   "outputs": [],
   "source": [
    "JoinedDf[\"processedText\"] = JoinedDf['processedText'].str.replace('[^\\w\\s]','',)"
   ]
  },
  {
   "cell_type": "markdown",
   "metadata": {},
   "source": [
    "##### Remove multiple characters if they occur more than two times continuously"
   ]
  },
  {
   "cell_type": "code",
   "execution_count": 68,
   "metadata": {},
   "outputs": [],
   "source": [
    "def removeMultiple(text):\n",
    "    return re.sub(r'([a-z])\\1{2,}', r'\\1\\1', text)\n",
    "JoinedDf['processedText']= JoinedDf['processedText'].map(removeMultiple)"
   ]
  },
  {
   "cell_type": "code",
   "execution_count": 69,
   "metadata": {},
   "outputs": [
    {
     "data": {
      "text/html": [
       "<div>\n",
       "<style scoped>\n",
       "    .dataframe tbody tr th:only-of-type {\n",
       "        vertical-align: middle;\n",
       "    }\n",
       "\n",
       "    .dataframe tbody tr th {\n",
       "        vertical-align: top;\n",
       "    }\n",
       "\n",
       "    .dataframe thead th {\n",
       "        text-align: right;\n",
       "    }\n",
       "</style>\n",
       "<table border=\"1\" class=\"dataframe\">\n",
       "  <thead>\n",
       "    <tr style=\"text-align: right;\">\n",
       "      <th></th>\n",
       "      <th>appTitle</th>\n",
       "      <th>userName</th>\n",
       "      <th>date</th>\n",
       "      <th>score</th>\n",
       "      <th>text</th>\n",
       "      <th>CATEGORY</th>\n",
       "      <th>contentRating</th>\n",
       "      <th>processedText</th>\n",
       "    </tr>\n",
       "  </thead>\n",
       "  <tbody>\n",
       "    <tr>\n",
       "      <td>0</td>\n",
       "      <td>photomath</td>\n",
       "      <td>NaN</td>\n",
       "      <td>March 8, 2019</td>\n",
       "      <td>5</td>\n",
       "      <td>nice</td>\n",
       "      <td>EDUCATION</td>\n",
       "      <td>Everyone</td>\n",
       "      <td>nice</td>\n",
       "    </tr>\n",
       "    <tr>\n",
       "      <td>1</td>\n",
       "      <td>photomath</td>\n",
       "      <td>NaN</td>\n",
       "      <td>March 8, 2019</td>\n",
       "      <td>4</td>\n",
       "      <td>very helpful</td>\n",
       "      <td>EDUCATION</td>\n",
       "      <td>Everyone</td>\n",
       "      <td>very helpful</td>\n",
       "    </tr>\n",
       "    <tr>\n",
       "      <td>2</td>\n",
       "      <td>photomath</td>\n",
       "      <td>NaN</td>\n",
       "      <td>March 8, 2019</td>\n",
       "      <td>5</td>\n",
       "      <td>Great App. Detailed answers. Understandable an...</td>\n",
       "      <td>EDUCATION</td>\n",
       "      <td>Everyone</td>\n",
       "      <td>Great  Detailed  Understandable</td>\n",
       "    </tr>\n",
       "    <tr>\n",
       "      <td>3</td>\n",
       "      <td>photomath</td>\n",
       "      <td>NaN</td>\n",
       "      <td>March 8, 2019</td>\n",
       "      <td>5</td>\n",
       "      <td>great!!!</td>\n",
       "      <td>EDUCATION</td>\n",
       "      <td>Everyone</td>\n",
       "      <td>great</td>\n",
       "    </tr>\n",
       "    <tr>\n",
       "      <td>4</td>\n",
       "      <td>photomath</td>\n",
       "      <td>NaN</td>\n",
       "      <td>March 8, 2019</td>\n",
       "      <td>1</td>\n",
       "      <td>bakwas hai pura.....time pass hai</td>\n",
       "      <td>EDUCATION</td>\n",
       "      <td>Everyone</td>\n",
       "      <td>time pass</td>\n",
       "    </tr>\n",
       "    <tr>\n",
       "      <td>...</td>\n",
       "      <td>...</td>\n",
       "      <td>...</td>\n",
       "      <td>...</td>\n",
       "      <td>...</td>\n",
       "      <td>...</td>\n",
       "      <td>...</td>\n",
       "      <td>...</td>\n",
       "      <td>...</td>\n",
       "    </tr>\n",
       "    <tr>\n",
       "      <td>1112293</td>\n",
       "      <td>soundcloud - music &amp; audio</td>\n",
       "      <td>pubgmaster 25</td>\n",
       "      <td>May 3, 2019</td>\n",
       "      <td>1</td>\n",
       "      <td>it gay</td>\n",
       "      <td>MUSIC AND AUDIO</td>\n",
       "      <td>Teen</td>\n",
       "      <td>it gay</td>\n",
       "    </tr>\n",
       "    <tr>\n",
       "      <td>1112294</td>\n",
       "      <td>soundcloud - music &amp; audio</td>\n",
       "      <td>Anjita Sinha</td>\n",
       "      <td>May 3, 2019</td>\n",
       "      <td>4</td>\n",
       "      <td>Love it</td>\n",
       "      <td>MUSIC AND AUDIO</td>\n",
       "      <td>Teen</td>\n",
       "      <td>Love it</td>\n",
       "    </tr>\n",
       "    <tr>\n",
       "      <td>1112295</td>\n",
       "      <td>soundcloud - music &amp; audio</td>\n",
       "      <td>Luis Lucas</td>\n",
       "      <td>May 3, 2019</td>\n",
       "      <td>5</td>\n",
       "      <td>muy bueno me gusta y puedo aguardar la musica ...</td>\n",
       "      <td>MUSIC AND AUDIO</td>\n",
       "      <td>Teen</td>\n",
       "      <td>me y la me mix son</td>\n",
       "    </tr>\n",
       "    <tr>\n",
       "      <td>1112296</td>\n",
       "      <td>soundcloud - music &amp; audio</td>\n",
       "      <td>Teairo Keys</td>\n",
       "      <td>May 3, 2019</td>\n",
       "      <td>5</td>\n",
       "      <td>love this app</td>\n",
       "      <td>MUSIC AND AUDIO</td>\n",
       "      <td>Teen</td>\n",
       "      <td>love this</td>\n",
       "    </tr>\n",
       "    <tr>\n",
       "      <td>1112297</td>\n",
       "      <td>soundcloud - music &amp; audio</td>\n",
       "      <td>Ian Libo</td>\n",
       "      <td>May 3, 2019</td>\n",
       "      <td>1</td>\n",
       "      <td>The app was great and has a very nice selectio...</td>\n",
       "      <td>MUSIC AND AUDIO</td>\n",
       "      <td>Teen</td>\n",
       "      <td>The was great and a very nice selection of tal...</td>\n",
       "    </tr>\n",
       "  </tbody>\n",
       "</table>\n",
       "<p>1112298 rows × 8 columns</p>\n",
       "</div>"
      ],
      "text/plain": [
       "                           appTitle       userName           date  score  \\\n",
       "0                         photomath            NaN  March 8, 2019      5   \n",
       "1                         photomath            NaN  March 8, 2019      4   \n",
       "2                         photomath            NaN  March 8, 2019      5   \n",
       "3                         photomath            NaN  March 8, 2019      5   \n",
       "4                         photomath            NaN  March 8, 2019      1   \n",
       "...                             ...            ...            ...    ...   \n",
       "1112293  soundcloud - music & audio  pubgmaster 25    May 3, 2019      1   \n",
       "1112294  soundcloud - music & audio   Anjita Sinha    May 3, 2019      4   \n",
       "1112295  soundcloud - music & audio     Luis Lucas    May 3, 2019      5   \n",
       "1112296  soundcloud - music & audio    Teairo Keys    May 3, 2019      5   \n",
       "1112297  soundcloud - music & audio       Ian Libo    May 3, 2019      1   \n",
       "\n",
       "                                                      text         CATEGORY  \\\n",
       "0                                                     nice        EDUCATION   \n",
       "1                                             very helpful        EDUCATION   \n",
       "2        Great App. Detailed answers. Understandable an...        EDUCATION   \n",
       "3                                                 great!!!        EDUCATION   \n",
       "4                        bakwas hai pura.....time pass hai        EDUCATION   \n",
       "...                                                    ...              ...   \n",
       "1112293                                             it gay  MUSIC AND AUDIO   \n",
       "1112294                                            Love it  MUSIC AND AUDIO   \n",
       "1112295  muy bueno me gusta y puedo aguardar la musica ...  MUSIC AND AUDIO   \n",
       "1112296                                      love this app  MUSIC AND AUDIO   \n",
       "1112297  The app was great and has a very nice selectio...  MUSIC AND AUDIO   \n",
       "\n",
       "        contentRating                                      processedText  \n",
       "0            Everyone                                               nice  \n",
       "1            Everyone                                       very helpful  \n",
       "2            Everyone                   Great  Detailed  Understandable   \n",
       "3            Everyone                                             great   \n",
       "4            Everyone                                          time pass  \n",
       "...               ...                                                ...  \n",
       "1112293          Teen                                             it gay  \n",
       "1112294          Teen                                            Love it  \n",
       "1112295          Teen                                 me y la me mix son  \n",
       "1112296          Teen                                          love this  \n",
       "1112297          Teen  The was great and a very nice selection of tal...  \n",
       "\n",
       "[1112298 rows x 8 columns]"
      ]
     },
     "execution_count": 69,
     "metadata": {},
     "output_type": "execute_result"
    }
   ],
   "source": [
    "JoinedDf"
   ]
  },
  {
   "cell_type": "markdown",
   "metadata": {},
   "source": [
    "###### 7. Should we remove the reviews that contain two or less number of words?\n",
    "A) We should not remove reviews that contain two more words. In case sentiment analysis needs to be carried , a two word review such as, \"Great APP\" is meaningful about the app and gives the true sentiment of that review. Hence taking away such reviews would just loose make us loose out on meaningful data that could be used for analysis.\n",
    "\n",
    "B)Removing reviews just based on the score would not be recommended. This would cause the the eventual model to be biased."
   ]
  },
  {
   "cell_type": "markdown",
   "metadata": {},
   "source": [
    "###### Remove reviews that have less than two words"
   ]
  },
  {
   "cell_type": "code",
   "execution_count": 70,
   "metadata": {},
   "outputs": [],
   "source": [
    "def moreThanTwoWords(text):\n",
    "    if len(text.split(\" \")) > 2:\n",
    "        return text\n",
    "    return np.nan"
   ]
  },
  {
   "cell_type": "code",
   "execution_count": 71,
   "metadata": {},
   "outputs": [],
   "source": [
    "JoinedDf[\"processedText\"] = JoinedDf[\"processedText\"].apply(moreThanTwoWords)"
   ]
  },
  {
   "cell_type": "code",
   "execution_count": 72,
   "metadata": {},
   "outputs": [
    {
     "data": {
      "text/html": [
       "<div>\n",
       "<style scoped>\n",
       "    .dataframe tbody tr th:only-of-type {\n",
       "        vertical-align: middle;\n",
       "    }\n",
       "\n",
       "    .dataframe tbody tr th {\n",
       "        vertical-align: top;\n",
       "    }\n",
       "\n",
       "    .dataframe thead th {\n",
       "        text-align: right;\n",
       "    }\n",
       "</style>\n",
       "<table border=\"1\" class=\"dataframe\">\n",
       "  <thead>\n",
       "    <tr style=\"text-align: right;\">\n",
       "      <th></th>\n",
       "      <th>appTitle</th>\n",
       "      <th>userName</th>\n",
       "      <th>date</th>\n",
       "      <th>score</th>\n",
       "      <th>text</th>\n",
       "      <th>CATEGORY</th>\n",
       "      <th>contentRating</th>\n",
       "      <th>processedText</th>\n",
       "    </tr>\n",
       "  </thead>\n",
       "  <tbody>\n",
       "    <tr>\n",
       "      <td>0</td>\n",
       "      <td>photomath</td>\n",
       "      <td>NaN</td>\n",
       "      <td>March 8, 2019</td>\n",
       "      <td>5</td>\n",
       "      <td>nice</td>\n",
       "      <td>EDUCATION</td>\n",
       "      <td>Everyone</td>\n",
       "      <td>NaN</td>\n",
       "    </tr>\n",
       "    <tr>\n",
       "      <td>1</td>\n",
       "      <td>photomath</td>\n",
       "      <td>NaN</td>\n",
       "      <td>March 8, 2019</td>\n",
       "      <td>4</td>\n",
       "      <td>very helpful</td>\n",
       "      <td>EDUCATION</td>\n",
       "      <td>Everyone</td>\n",
       "      <td>NaN</td>\n",
       "    </tr>\n",
       "    <tr>\n",
       "      <td>2</td>\n",
       "      <td>photomath</td>\n",
       "      <td>NaN</td>\n",
       "      <td>March 8, 2019</td>\n",
       "      <td>5</td>\n",
       "      <td>Great App. Detailed answers. Understandable an...</td>\n",
       "      <td>EDUCATION</td>\n",
       "      <td>Everyone</td>\n",
       "      <td>Great  Detailed  Understandable</td>\n",
       "    </tr>\n",
       "    <tr>\n",
       "      <td>3</td>\n",
       "      <td>photomath</td>\n",
       "      <td>NaN</td>\n",
       "      <td>March 8, 2019</td>\n",
       "      <td>5</td>\n",
       "      <td>great!!!</td>\n",
       "      <td>EDUCATION</td>\n",
       "      <td>Everyone</td>\n",
       "      <td>NaN</td>\n",
       "    </tr>\n",
       "    <tr>\n",
       "      <td>4</td>\n",
       "      <td>photomath</td>\n",
       "      <td>NaN</td>\n",
       "      <td>March 8, 2019</td>\n",
       "      <td>1</td>\n",
       "      <td>bakwas hai pura.....time pass hai</td>\n",
       "      <td>EDUCATION</td>\n",
       "      <td>Everyone</td>\n",
       "      <td>time pass</td>\n",
       "    </tr>\n",
       "    <tr>\n",
       "      <td>...</td>\n",
       "      <td>...</td>\n",
       "      <td>...</td>\n",
       "      <td>...</td>\n",
       "      <td>...</td>\n",
       "      <td>...</td>\n",
       "      <td>...</td>\n",
       "      <td>...</td>\n",
       "      <td>...</td>\n",
       "    </tr>\n",
       "    <tr>\n",
       "      <td>1112293</td>\n",
       "      <td>soundcloud - music &amp; audio</td>\n",
       "      <td>pubgmaster 25</td>\n",
       "      <td>May 3, 2019</td>\n",
       "      <td>1</td>\n",
       "      <td>it gay</td>\n",
       "      <td>MUSIC AND AUDIO</td>\n",
       "      <td>Teen</td>\n",
       "      <td>NaN</td>\n",
       "    </tr>\n",
       "    <tr>\n",
       "      <td>1112294</td>\n",
       "      <td>soundcloud - music &amp; audio</td>\n",
       "      <td>Anjita Sinha</td>\n",
       "      <td>May 3, 2019</td>\n",
       "      <td>4</td>\n",
       "      <td>Love it</td>\n",
       "      <td>MUSIC AND AUDIO</td>\n",
       "      <td>Teen</td>\n",
       "      <td>NaN</td>\n",
       "    </tr>\n",
       "    <tr>\n",
       "      <td>1112295</td>\n",
       "      <td>soundcloud - music &amp; audio</td>\n",
       "      <td>Luis Lucas</td>\n",
       "      <td>May 3, 2019</td>\n",
       "      <td>5</td>\n",
       "      <td>muy bueno me gusta y puedo aguardar la musica ...</td>\n",
       "      <td>MUSIC AND AUDIO</td>\n",
       "      <td>Teen</td>\n",
       "      <td>me y la me mix son</td>\n",
       "    </tr>\n",
       "    <tr>\n",
       "      <td>1112296</td>\n",
       "      <td>soundcloud - music &amp; audio</td>\n",
       "      <td>Teairo Keys</td>\n",
       "      <td>May 3, 2019</td>\n",
       "      <td>5</td>\n",
       "      <td>love this app</td>\n",
       "      <td>MUSIC AND AUDIO</td>\n",
       "      <td>Teen</td>\n",
       "      <td>NaN</td>\n",
       "    </tr>\n",
       "    <tr>\n",
       "      <td>1112297</td>\n",
       "      <td>soundcloud - music &amp; audio</td>\n",
       "      <td>Ian Libo</td>\n",
       "      <td>May 3, 2019</td>\n",
       "      <td>1</td>\n",
       "      <td>The app was great and has a very nice selectio...</td>\n",
       "      <td>MUSIC AND AUDIO</td>\n",
       "      <td>Teen</td>\n",
       "      <td>The was great and a very nice selection of tal...</td>\n",
       "    </tr>\n",
       "  </tbody>\n",
       "</table>\n",
       "<p>1112298 rows × 8 columns</p>\n",
       "</div>"
      ],
      "text/plain": [
       "                           appTitle       userName           date  score  \\\n",
       "0                         photomath            NaN  March 8, 2019      5   \n",
       "1                         photomath            NaN  March 8, 2019      4   \n",
       "2                         photomath            NaN  March 8, 2019      5   \n",
       "3                         photomath            NaN  March 8, 2019      5   \n",
       "4                         photomath            NaN  March 8, 2019      1   \n",
       "...                             ...            ...            ...    ...   \n",
       "1112293  soundcloud - music & audio  pubgmaster 25    May 3, 2019      1   \n",
       "1112294  soundcloud - music & audio   Anjita Sinha    May 3, 2019      4   \n",
       "1112295  soundcloud - music & audio     Luis Lucas    May 3, 2019      5   \n",
       "1112296  soundcloud - music & audio    Teairo Keys    May 3, 2019      5   \n",
       "1112297  soundcloud - music & audio       Ian Libo    May 3, 2019      1   \n",
       "\n",
       "                                                      text         CATEGORY  \\\n",
       "0                                                     nice        EDUCATION   \n",
       "1                                             very helpful        EDUCATION   \n",
       "2        Great App. Detailed answers. Understandable an...        EDUCATION   \n",
       "3                                                 great!!!        EDUCATION   \n",
       "4                        bakwas hai pura.....time pass hai        EDUCATION   \n",
       "...                                                    ...              ...   \n",
       "1112293                                             it gay  MUSIC AND AUDIO   \n",
       "1112294                                            Love it  MUSIC AND AUDIO   \n",
       "1112295  muy bueno me gusta y puedo aguardar la musica ...  MUSIC AND AUDIO   \n",
       "1112296                                      love this app  MUSIC AND AUDIO   \n",
       "1112297  The app was great and has a very nice selectio...  MUSIC AND AUDIO   \n",
       "\n",
       "        contentRating                                      processedText  \n",
       "0            Everyone                                                NaN  \n",
       "1            Everyone                                                NaN  \n",
       "2            Everyone                   Great  Detailed  Understandable   \n",
       "3            Everyone                                                NaN  \n",
       "4            Everyone                                          time pass  \n",
       "...               ...                                                ...  \n",
       "1112293          Teen                                                NaN  \n",
       "1112294          Teen                                                NaN  \n",
       "1112295          Teen                                 me y la me mix son  \n",
       "1112296          Teen                                                NaN  \n",
       "1112297          Teen  The was great and a very nice selection of tal...  \n",
       "\n",
       "[1112298 rows x 8 columns]"
      ]
     },
     "execution_count": 72,
     "metadata": {},
     "output_type": "execute_result"
    }
   ],
   "source": [
    "JoinedDf"
   ]
  },
  {
   "cell_type": "markdown",
   "metadata": {},
   "source": [
    "###### 8. How many reviews exist in each of the eight app-categories? Compare with question 3."
   ]
  },
  {
   "cell_type": "code",
   "execution_count": 73,
   "metadata": {},
   "outputs": [
    {
     "name": "stdout",
     "output_type": "stream",
     "text": [
      "The number of Unique reviews after processing the text is  557295 and before text processing is 673592\n"
     ]
    }
   ],
   "source": [
    "print(\"The number of Unique reviews after processing the text is \",len(JoinedDf[\"processedText\"].unique()),\n",
    "      \"and before text processing is\",len(JoinedDf[\"text\"].unique()))"
   ]
  },
  {
   "cell_type": "code",
   "execution_count": 74,
   "metadata": {},
   "outputs": [
    {
     "data": {
      "text/plain": [
       "673592"
      ]
     },
     "execution_count": 74,
     "metadata": {},
     "output_type": "execute_result"
    }
   ],
   "source": [
    "len(JoinedDf[\"text\"].unique())"
   ]
  },
  {
   "cell_type": "code",
   "execution_count": 75,
   "metadata": {},
   "outputs": [
    {
     "data": {
      "text/plain": [
       "CATEGORY\n",
       "EDUCATION              69249\n",
       "ENTERTAINMENT         106245\n",
       "FAMILY                 68407\n",
       "FINANCE                97385\n",
       "GAME-ACTION           116521\n",
       "HEALTH AND FITNESS     78660\n",
       "LIFESTYLE              68021\n",
       "MUSIC AND AUDIO       115976\n",
       "Name: processedText, dtype: int64"
      ]
     },
     "execution_count": 75,
     "metadata": {},
     "output_type": "execute_result"
    }
   ],
   "source": [
    "JoinedDf.groupby(\"CATEGORY\")[\"processedText\"].count()"
   ]
  },
  {
   "cell_type": "code",
   "execution_count": 76,
   "metadata": {},
   "outputs": [
    {
     "data": {
      "text/html": [
       "<div>\n",
       "<style scoped>\n",
       "    .dataframe tbody tr th:only-of-type {\n",
       "        vertical-align: middle;\n",
       "    }\n",
       "\n",
       "    .dataframe tbody tr th {\n",
       "        vertical-align: top;\n",
       "    }\n",
       "\n",
       "    .dataframe thead th {\n",
       "        text-align: right;\n",
       "    }\n",
       "</style>\n",
       "<table border=\"1\" class=\"dataframe\">\n",
       "  <thead>\n",
       "    <tr style=\"text-align: right;\">\n",
       "      <th></th>\n",
       "      <th>text</th>\n",
       "      <th>processedText</th>\n",
       "    </tr>\n",
       "    <tr>\n",
       "      <th>CATEGORY</th>\n",
       "      <th></th>\n",
       "      <th></th>\n",
       "    </tr>\n",
       "  </thead>\n",
       "  <tbody>\n",
       "    <tr>\n",
       "      <td>EDUCATION</td>\n",
       "      <td>95830</td>\n",
       "      <td>69249</td>\n",
       "    </tr>\n",
       "    <tr>\n",
       "      <td>ENTERTAINMENT</td>\n",
       "      <td>181303</td>\n",
       "      <td>106245</td>\n",
       "    </tr>\n",
       "    <tr>\n",
       "      <td>FAMILY</td>\n",
       "      <td>98783</td>\n",
       "      <td>68407</td>\n",
       "    </tr>\n",
       "    <tr>\n",
       "      <td>FINANCE</td>\n",
       "      <td>141129</td>\n",
       "      <td>97385</td>\n",
       "    </tr>\n",
       "    <tr>\n",
       "      <td>GAME-ACTION</td>\n",
       "      <td>209493</td>\n",
       "      <td>116521</td>\n",
       "    </tr>\n",
       "    <tr>\n",
       "      <td>HEALTH AND FITNESS</td>\n",
       "      <td>109859</td>\n",
       "      <td>78660</td>\n",
       "    </tr>\n",
       "    <tr>\n",
       "      <td>LIFESTYLE</td>\n",
       "      <td>102928</td>\n",
       "      <td>68021</td>\n",
       "    </tr>\n",
       "    <tr>\n",
       "      <td>MUSIC AND AUDIO</td>\n",
       "      <td>172973</td>\n",
       "      <td>115976</td>\n",
       "    </tr>\n",
       "  </tbody>\n",
       "</table>\n",
       "</div>"
      ],
      "text/plain": [
       "                      text  processedText\n",
       "CATEGORY                                 \n",
       "EDUCATION            95830          69249\n",
       "ENTERTAINMENT       181303         106245\n",
       "FAMILY               98783          68407\n",
       "FINANCE             141129          97385\n",
       "GAME-ACTION         209493         116521\n",
       "HEALTH AND FITNESS  109859          78660\n",
       "LIFESTYLE           102928          68021\n",
       "MUSIC AND AUDIO     172973         115976"
      ]
     },
     "execution_count": 76,
     "metadata": {},
     "output_type": "execute_result"
    }
   ],
   "source": [
    "pd.concat([df.groupby(\"CATEGORY\")['text'].count(),JoinedDf.groupby(\"CATEGORY\")[\"processedText\"].count()],axis=1)"
   ]
  },
  {
   "cell_type": "markdown",
   "metadata": {},
   "source": [
    "###### 9. How many reviews in each contentRating-sub-groups in each app-category? Compare with question 6."
   ]
  },
  {
   "cell_type": "code",
   "execution_count": 77,
   "metadata": {},
   "outputs": [
    {
     "data": {
      "text/html": [
       "<div>\n",
       "<style scoped>\n",
       "    .dataframe tbody tr th:only-of-type {\n",
       "        vertical-align: middle;\n",
       "    }\n",
       "\n",
       "    .dataframe tbody tr th {\n",
       "        vertical-align: top;\n",
       "    }\n",
       "\n",
       "    .dataframe thead th {\n",
       "        text-align: right;\n",
       "    }\n",
       "</style>\n",
       "<table border=\"1\" class=\"dataframe\">\n",
       "  <thead>\n",
       "    <tr style=\"text-align: right;\">\n",
       "      <th></th>\n",
       "      <th></th>\n",
       "      <th>text</th>\n",
       "      <th>processedText</th>\n",
       "    </tr>\n",
       "    <tr>\n",
       "      <th>CATEGORY</th>\n",
       "      <th>contentRating</th>\n",
       "      <th></th>\n",
       "      <th></th>\n",
       "    </tr>\n",
       "  </thead>\n",
       "  <tbody>\n",
       "    <tr>\n",
       "      <td>EDUCATION</td>\n",
       "      <td>Everyone</td>\n",
       "      <td>95830</td>\n",
       "      <td>69249</td>\n",
       "    </tr>\n",
       "    <tr>\n",
       "      <td rowspan=\"3\" valign=\"top\">ENTERTAINMENT</td>\n",
       "      <td>Everyone</td>\n",
       "      <td>14377</td>\n",
       "      <td>10334</td>\n",
       "    </tr>\n",
       "    <tr>\n",
       "      <td>Mature 17+</td>\n",
       "      <td>7278</td>\n",
       "      <td>4954</td>\n",
       "    </tr>\n",
       "    <tr>\n",
       "      <td>Teen</td>\n",
       "      <td>159648</td>\n",
       "      <td>90957</td>\n",
       "    </tr>\n",
       "    <tr>\n",
       "      <td rowspan=\"2\" valign=\"top\">FAMILY</td>\n",
       "      <td>Everyone</td>\n",
       "      <td>50676</td>\n",
       "      <td>31699</td>\n",
       "    </tr>\n",
       "    <tr>\n",
       "      <td>Everyone 10+</td>\n",
       "      <td>48107</td>\n",
       "      <td>36708</td>\n",
       "    </tr>\n",
       "    <tr>\n",
       "      <td>FINANCE</td>\n",
       "      <td>Everyone</td>\n",
       "      <td>141129</td>\n",
       "      <td>97385</td>\n",
       "    </tr>\n",
       "    <tr>\n",
       "      <td rowspan=\"3\" valign=\"top\">GAME-ACTION</td>\n",
       "      <td>Everyone</td>\n",
       "      <td>87560</td>\n",
       "      <td>55242</td>\n",
       "    </tr>\n",
       "    <tr>\n",
       "      <td>Mature 17+</td>\n",
       "      <td>29359</td>\n",
       "      <td>12400</td>\n",
       "    </tr>\n",
       "    <tr>\n",
       "      <td>Teen</td>\n",
       "      <td>92574</td>\n",
       "      <td>48879</td>\n",
       "    </tr>\n",
       "    <tr>\n",
       "      <td>HEALTH AND FITNESS</td>\n",
       "      <td>Everyone</td>\n",
       "      <td>109859</td>\n",
       "      <td>78660</td>\n",
       "    </tr>\n",
       "    <tr>\n",
       "      <td rowspan=\"3\" valign=\"top\">LIFESTYLE</td>\n",
       "      <td>Everyone</td>\n",
       "      <td>78200</td>\n",
       "      <td>51615</td>\n",
       "    </tr>\n",
       "    <tr>\n",
       "      <td>Mature 17+</td>\n",
       "      <td>21716</td>\n",
       "      <td>14300</td>\n",
       "    </tr>\n",
       "    <tr>\n",
       "      <td>Teen</td>\n",
       "      <td>3012</td>\n",
       "      <td>2106</td>\n",
       "    </tr>\n",
       "    <tr>\n",
       "      <td rowspan=\"2\" valign=\"top\">MUSIC AND AUDIO</td>\n",
       "      <td>Everyone</td>\n",
       "      <td>22754</td>\n",
       "      <td>15861</td>\n",
       "    </tr>\n",
       "    <tr>\n",
       "      <td>Teen</td>\n",
       "      <td>150219</td>\n",
       "      <td>100115</td>\n",
       "    </tr>\n",
       "  </tbody>\n",
       "</table>\n",
       "</div>"
      ],
      "text/plain": [
       "                                    text  processedText\n",
       "CATEGORY           contentRating                       \n",
       "EDUCATION          Everyone        95830          69249\n",
       "ENTERTAINMENT      Everyone        14377          10334\n",
       "                   Mature 17+       7278           4954\n",
       "                   Teen           159648          90957\n",
       "FAMILY             Everyone        50676          31699\n",
       "                   Everyone 10+    48107          36708\n",
       "FINANCE            Everyone       141129          97385\n",
       "GAME-ACTION        Everyone        87560          55242\n",
       "                   Mature 17+      29359          12400\n",
       "                   Teen            92574          48879\n",
       "HEALTH AND FITNESS Everyone       109859          78660\n",
       "LIFESTYLE          Everyone        78200          51615\n",
       "                   Mature 17+      21716          14300\n",
       "                   Teen             3012           2106\n",
       "MUSIC AND AUDIO    Everyone        22754          15861\n",
       "                   Teen           150219         100115"
      ]
     },
     "execution_count": 77,
     "metadata": {},
     "output_type": "execute_result"
    }
   ],
   "source": [
    "pd.concat([JoinedDf.groupby([\"CATEGORY\",\"contentRating\"])[\"text\"].count(),JoinedDf.groupby([\"CATEGORY\",\"contentRating\"])[\"processedText\"].count()],axis=1)"
   ]
  },
  {
   "cell_type": "markdown",
   "metadata": {},
   "source": [
    "##### Analyzing each category"
   ]
  },
  {
   "cell_type": "markdown",
   "metadata": {},
   "source": [
    "##### 10. What is the number of reviews for each score (score column)? For example, 35000 reviews have a score of 1, etc."
   ]
  },
  {
   "cell_type": "markdown",
   "metadata": {},
   "source": [
    "###### Before text processing"
   ]
  },
  {
   "cell_type": "code",
   "execution_count": 78,
   "metadata": {},
   "outputs": [
    {
     "data": {
      "text/plain": [
       "score\n",
       "1    150522\n",
       "2     35107\n",
       "3     53878\n",
       "4    111020\n",
       "5    761771\n",
       "Name: text, dtype: int64"
      ]
     },
     "execution_count": 78,
     "metadata": {},
     "output_type": "execute_result"
    }
   ],
   "source": [
    "JoinedDf.groupby(\"score\")[\"text\"].count()"
   ]
  },
  {
   "cell_type": "markdown",
   "metadata": {},
   "source": [
    "##### After text processing"
   ]
  },
  {
   "cell_type": "code",
   "execution_count": 79,
   "metadata": {},
   "outputs": [
    {
     "data": {
      "text/plain": [
       "score\n",
       "1    125982\n",
       "2     30494\n",
       "3     41520\n",
       "4     76890\n",
       "5    445578\n",
       "Name: processedText, dtype: int64"
      ]
     },
     "execution_count": 79,
     "metadata": {},
     "output_type": "execute_result"
    }
   ],
   "source": [
    "JoinedDf.groupby(\"score\")[\"processedText\"].count()"
   ]
  },
  {
   "cell_type": "markdown",
   "metadata": {},
   "source": [
    "###### 11. How many apps exist in each score-sub-group?"
   ]
  },
  {
   "cell_type": "code",
   "execution_count": 80,
   "metadata": {},
   "outputs": [
    {
     "data": {
      "text/plain": [
       "score\n",
       "1    86\n",
       "2    86\n",
       "3    86\n",
       "4    86\n",
       "5    86\n",
       "Name: appTitle, dtype: int64"
      ]
     },
     "execution_count": 80,
     "metadata": {},
     "output_type": "execute_result"
    }
   ],
   "source": [
    "JoinedDf.groupby(\"score\")[\"appTitle\"].nunique()"
   ]
  },
  {
   "cell_type": "markdown",
   "metadata": {},
   "source": [
    "###### 12. Compare the number of reviews for each score in a plot (Remember to normalize the numbers when you are comparing them)."
   ]
  },
  {
   "cell_type": "code",
   "execution_count": 81,
   "metadata": {},
   "outputs": [
    {
     "data": {
      "text/html": [
       "<div>\n",
       "<style scoped>\n",
       "    .dataframe tbody tr th:only-of-type {\n",
       "        vertical-align: middle;\n",
       "    }\n",
       "\n",
       "    .dataframe tbody tr th {\n",
       "        vertical-align: top;\n",
       "    }\n",
       "\n",
       "    .dataframe thead th {\n",
       "        text-align: right;\n",
       "    }\n",
       "</style>\n",
       "<table border=\"1\" class=\"dataframe\">\n",
       "  <thead>\n",
       "    <tr style=\"text-align: right;\">\n",
       "      <th></th>\n",
       "      <th>appTitle</th>\n",
       "      <th>userName</th>\n",
       "      <th>date</th>\n",
       "      <th>score</th>\n",
       "      <th>text</th>\n",
       "      <th>CATEGORY</th>\n",
       "      <th>contentRating</th>\n",
       "      <th>processedText</th>\n",
       "    </tr>\n",
       "  </thead>\n",
       "  <tbody>\n",
       "    <tr>\n",
       "      <td>0</td>\n",
       "      <td>photomath</td>\n",
       "      <td>NaN</td>\n",
       "      <td>March 8, 2019</td>\n",
       "      <td>5</td>\n",
       "      <td>nice</td>\n",
       "      <td>EDUCATION</td>\n",
       "      <td>Everyone</td>\n",
       "      <td>NaN</td>\n",
       "    </tr>\n",
       "    <tr>\n",
       "      <td>1</td>\n",
       "      <td>photomath</td>\n",
       "      <td>NaN</td>\n",
       "      <td>March 8, 2019</td>\n",
       "      <td>4</td>\n",
       "      <td>very helpful</td>\n",
       "      <td>EDUCATION</td>\n",
       "      <td>Everyone</td>\n",
       "      <td>NaN</td>\n",
       "    </tr>\n",
       "    <tr>\n",
       "      <td>2</td>\n",
       "      <td>photomath</td>\n",
       "      <td>NaN</td>\n",
       "      <td>March 8, 2019</td>\n",
       "      <td>5</td>\n",
       "      <td>Great App. Detailed answers. Understandable an...</td>\n",
       "      <td>EDUCATION</td>\n",
       "      <td>Everyone</td>\n",
       "      <td>Great  Detailed  Understandable</td>\n",
       "    </tr>\n",
       "    <tr>\n",
       "      <td>3</td>\n",
       "      <td>photomath</td>\n",
       "      <td>NaN</td>\n",
       "      <td>March 8, 2019</td>\n",
       "      <td>5</td>\n",
       "      <td>great!!!</td>\n",
       "      <td>EDUCATION</td>\n",
       "      <td>Everyone</td>\n",
       "      <td>NaN</td>\n",
       "    </tr>\n",
       "    <tr>\n",
       "      <td>4</td>\n",
       "      <td>photomath</td>\n",
       "      <td>NaN</td>\n",
       "      <td>March 8, 2019</td>\n",
       "      <td>1</td>\n",
       "      <td>bakwas hai pura.....time pass hai</td>\n",
       "      <td>EDUCATION</td>\n",
       "      <td>Everyone</td>\n",
       "      <td>time pass</td>\n",
       "    </tr>\n",
       "    <tr>\n",
       "      <td>...</td>\n",
       "      <td>...</td>\n",
       "      <td>...</td>\n",
       "      <td>...</td>\n",
       "      <td>...</td>\n",
       "      <td>...</td>\n",
       "      <td>...</td>\n",
       "      <td>...</td>\n",
       "      <td>...</td>\n",
       "    </tr>\n",
       "    <tr>\n",
       "      <td>1112293</td>\n",
       "      <td>soundcloud - music &amp; audio</td>\n",
       "      <td>pubgmaster 25</td>\n",
       "      <td>May 3, 2019</td>\n",
       "      <td>1</td>\n",
       "      <td>it gay</td>\n",
       "      <td>MUSIC AND AUDIO</td>\n",
       "      <td>Teen</td>\n",
       "      <td>NaN</td>\n",
       "    </tr>\n",
       "    <tr>\n",
       "      <td>1112294</td>\n",
       "      <td>soundcloud - music &amp; audio</td>\n",
       "      <td>Anjita Sinha</td>\n",
       "      <td>May 3, 2019</td>\n",
       "      <td>4</td>\n",
       "      <td>Love it</td>\n",
       "      <td>MUSIC AND AUDIO</td>\n",
       "      <td>Teen</td>\n",
       "      <td>NaN</td>\n",
       "    </tr>\n",
       "    <tr>\n",
       "      <td>1112295</td>\n",
       "      <td>soundcloud - music &amp; audio</td>\n",
       "      <td>Luis Lucas</td>\n",
       "      <td>May 3, 2019</td>\n",
       "      <td>5</td>\n",
       "      <td>muy bueno me gusta y puedo aguardar la musica ...</td>\n",
       "      <td>MUSIC AND AUDIO</td>\n",
       "      <td>Teen</td>\n",
       "      <td>me y la me mix son</td>\n",
       "    </tr>\n",
       "    <tr>\n",
       "      <td>1112296</td>\n",
       "      <td>soundcloud - music &amp; audio</td>\n",
       "      <td>Teairo Keys</td>\n",
       "      <td>May 3, 2019</td>\n",
       "      <td>5</td>\n",
       "      <td>love this app</td>\n",
       "      <td>MUSIC AND AUDIO</td>\n",
       "      <td>Teen</td>\n",
       "      <td>NaN</td>\n",
       "    </tr>\n",
       "    <tr>\n",
       "      <td>1112297</td>\n",
       "      <td>soundcloud - music &amp; audio</td>\n",
       "      <td>Ian Libo</td>\n",
       "      <td>May 3, 2019</td>\n",
       "      <td>1</td>\n",
       "      <td>The app was great and has a very nice selectio...</td>\n",
       "      <td>MUSIC AND AUDIO</td>\n",
       "      <td>Teen</td>\n",
       "      <td>The was great and a very nice selection of tal...</td>\n",
       "    </tr>\n",
       "  </tbody>\n",
       "</table>\n",
       "<p>1112298 rows × 8 columns</p>\n",
       "</div>"
      ],
      "text/plain": [
       "                           appTitle       userName           date  score  \\\n",
       "0                         photomath            NaN  March 8, 2019      5   \n",
       "1                         photomath            NaN  March 8, 2019      4   \n",
       "2                         photomath            NaN  March 8, 2019      5   \n",
       "3                         photomath            NaN  March 8, 2019      5   \n",
       "4                         photomath            NaN  March 8, 2019      1   \n",
       "...                             ...            ...            ...    ...   \n",
       "1112293  soundcloud - music & audio  pubgmaster 25    May 3, 2019      1   \n",
       "1112294  soundcloud - music & audio   Anjita Sinha    May 3, 2019      4   \n",
       "1112295  soundcloud - music & audio     Luis Lucas    May 3, 2019      5   \n",
       "1112296  soundcloud - music & audio    Teairo Keys    May 3, 2019      5   \n",
       "1112297  soundcloud - music & audio       Ian Libo    May 3, 2019      1   \n",
       "\n",
       "                                                      text         CATEGORY  \\\n",
       "0                                                     nice        EDUCATION   \n",
       "1                                             very helpful        EDUCATION   \n",
       "2        Great App. Detailed answers. Understandable an...        EDUCATION   \n",
       "3                                                 great!!!        EDUCATION   \n",
       "4                        bakwas hai pura.....time pass hai        EDUCATION   \n",
       "...                                                    ...              ...   \n",
       "1112293                                             it gay  MUSIC AND AUDIO   \n",
       "1112294                                            Love it  MUSIC AND AUDIO   \n",
       "1112295  muy bueno me gusta y puedo aguardar la musica ...  MUSIC AND AUDIO   \n",
       "1112296                                      love this app  MUSIC AND AUDIO   \n",
       "1112297  The app was great and has a very nice selectio...  MUSIC AND AUDIO   \n",
       "\n",
       "        contentRating                                      processedText  \n",
       "0            Everyone                                                NaN  \n",
       "1            Everyone                                                NaN  \n",
       "2            Everyone                   Great  Detailed  Understandable   \n",
       "3            Everyone                                                NaN  \n",
       "4            Everyone                                          time pass  \n",
       "...               ...                                                ...  \n",
       "1112293          Teen                                                NaN  \n",
       "1112294          Teen                                                NaN  \n",
       "1112295          Teen                                 me y la me mix son  \n",
       "1112296          Teen                                                NaN  \n",
       "1112297          Teen  The was great and a very nice selection of tal...  \n",
       "\n",
       "[1112298 rows x 8 columns]"
      ]
     },
     "execution_count": 81,
     "metadata": {},
     "output_type": "execute_result"
    }
   ],
   "source": [
    "JoinedDf"
   ]
  },
  {
   "cell_type": "code",
   "execution_count": 82,
   "metadata": {},
   "outputs": [],
   "source": [
    "Normalize = pd.DataFrame(JoinedDf.groupby(\"score\")[\"processedText\"].count())"
   ]
  },
  {
   "cell_type": "code",
   "execution_count": 83,
   "metadata": {},
   "outputs": [
    {
     "data": {
      "text/html": [
       "<div>\n",
       "<style scoped>\n",
       "    .dataframe tbody tr th:only-of-type {\n",
       "        vertical-align: middle;\n",
       "    }\n",
       "\n",
       "    .dataframe tbody tr th {\n",
       "        vertical-align: top;\n",
       "    }\n",
       "\n",
       "    .dataframe thead th {\n",
       "        text-align: right;\n",
       "    }\n",
       "</style>\n",
       "<table border=\"1\" class=\"dataframe\">\n",
       "  <thead>\n",
       "    <tr style=\"text-align: right;\">\n",
       "      <th></th>\n",
       "      <th>Number of Reviews for processed text</th>\n",
       "    </tr>\n",
       "    <tr>\n",
       "      <th>score</th>\n",
       "      <th></th>\n",
       "    </tr>\n",
       "  </thead>\n",
       "  <tbody>\n",
       "    <tr>\n",
       "      <td>1</td>\n",
       "      <td>125982</td>\n",
       "    </tr>\n",
       "    <tr>\n",
       "      <td>2</td>\n",
       "      <td>30494</td>\n",
       "    </tr>\n",
       "    <tr>\n",
       "      <td>3</td>\n",
       "      <td>41520</td>\n",
       "    </tr>\n",
       "    <tr>\n",
       "      <td>4</td>\n",
       "      <td>76890</td>\n",
       "    </tr>\n",
       "    <tr>\n",
       "      <td>5</td>\n",
       "      <td>445578</td>\n",
       "    </tr>\n",
       "  </tbody>\n",
       "</table>\n",
       "</div>"
      ],
      "text/plain": [
       "       Number of Reviews for processed text\n",
       "score                                      \n",
       "1                                    125982\n",
       "2                                     30494\n",
       "3                                     41520\n",
       "4                                     76890\n",
       "5                                    445578"
      ]
     },
     "execution_count": 83,
     "metadata": {},
     "output_type": "execute_result"
    }
   ],
   "source": [
    "Normalize.columns = [\"Number of Reviews for processed text\"]\n",
    "Normalize"
   ]
  },
  {
   "cell_type": "code",
   "execution_count": 84,
   "metadata": {},
   "outputs": [
    {
     "data": {
      "text/html": [
       "<div>\n",
       "<style scoped>\n",
       "    .dataframe tbody tr th:only-of-type {\n",
       "        vertical-align: middle;\n",
       "    }\n",
       "\n",
       "    .dataframe tbody tr th {\n",
       "        vertical-align: top;\n",
       "    }\n",
       "\n",
       "    .dataframe thead th {\n",
       "        text-align: right;\n",
       "    }\n",
       "</style>\n",
       "<table border=\"1\" class=\"dataframe\">\n",
       "  <thead>\n",
       "    <tr style=\"text-align: right;\">\n",
       "      <th></th>\n",
       "      <th>Number of Reviews for processed text</th>\n",
       "      <th>Normalizereviews</th>\n",
       "    </tr>\n",
       "    <tr>\n",
       "      <th>score</th>\n",
       "      <th></th>\n",
       "      <th></th>\n",
       "    </tr>\n",
       "  </thead>\n",
       "  <tbody>\n",
       "    <tr>\n",
       "      <td>1</td>\n",
       "      <td>125982</td>\n",
       "      <td>0.230045</td>\n",
       "    </tr>\n",
       "    <tr>\n",
       "      <td>2</td>\n",
       "      <td>30494</td>\n",
       "      <td>0.000000</td>\n",
       "    </tr>\n",
       "    <tr>\n",
       "      <td>3</td>\n",
       "      <td>41520</td>\n",
       "      <td>0.026563</td>\n",
       "    </tr>\n",
       "    <tr>\n",
       "      <td>4</td>\n",
       "      <td>76890</td>\n",
       "      <td>0.111775</td>\n",
       "    </tr>\n",
       "    <tr>\n",
       "      <td>5</td>\n",
       "      <td>445578</td>\n",
       "      <td>1.000000</td>\n",
       "    </tr>\n",
       "  </tbody>\n",
       "</table>\n",
       "</div>"
      ],
      "text/plain": [
       "       Number of Reviews for processed text  Normalizereviews\n",
       "score                                                        \n",
       "1                                    125982          0.230045\n",
       "2                                     30494          0.000000\n",
       "3                                     41520          0.026563\n",
       "4                                     76890          0.111775\n",
       "5                                    445578          1.000000"
      ]
     },
     "execution_count": 84,
     "metadata": {},
     "output_type": "execute_result"
    }
   ],
   "source": [
    "## Normalize using mix max data\n",
    "\n",
    "\n",
    "Normalize[\"Normalizereviews\"]= (Normalize[\"Number of Reviews for processed text\"]-Normalize[\"Number of Reviews for processed text\"].min())/(Normalize[\"Number of Reviews for processed text\"].max()-Normalize[\"Number of Reviews for processed text\"].min())\n",
    "Normalize"
   ]
  },
  {
   "cell_type": "code",
   "execution_count": 119,
   "metadata": {},
   "outputs": [
    {
     "data": {
      "text/plain": [
       "<matplotlib.axes._subplots.AxesSubplot at 0x1b912ff3908>"
      ]
     },
     "execution_count": 119,
     "metadata": {},
     "output_type": "execute_result"
    },
    {
     "data": {
      "image/png": "[encoded data removed]",
      "text/plain": [
       "<Figure size 432x288 with 1 Axes>"
      ]
     },
     "metadata": {
      "needs_background": "light"
     },
     "output_type": "display_data"
    }
   ],
   "source": [
    "Normalize[\"score\"] = Normalize.index\n",
    "Normalize.plot.bar(x=\"score\",y=\"Normalizereviews\")\n"
   ]
  },
  {
   "cell_type": "markdown",
   "metadata": {},
   "source": [
    "###### 13. What is the average length of the reviews in each score-sub-group?"
   ]
  },
  {
   "cell_type": "code",
   "execution_count": 86,
   "metadata": {},
   "outputs": [],
   "source": [
    "AvgLength = JoinedDf.copy()\n",
    "AvgLength [\"AverageLen\"]= JoinedDf[\"text\"].str.len()\n"
   ]
  },
  {
   "cell_type": "code",
   "execution_count": 87,
   "metadata": {},
   "outputs": [],
   "source": [
    "AvgLengthTable = pd.DataFrame(AvgLength.groupby(\"score\")[\"AverageLen\"].mean())"
   ]
  },
  {
   "cell_type": "code",
   "execution_count": 88,
   "metadata": {},
   "outputs": [
    {
     "data": {
      "text/html": [
       "<div>\n",
       "<style scoped>\n",
       "    .dataframe tbody tr th:only-of-type {\n",
       "        vertical-align: middle;\n",
       "    }\n",
       "\n",
       "    .dataframe tbody tr th {\n",
       "        vertical-align: top;\n",
       "    }\n",
       "\n",
       "    .dataframe thead th {\n",
       "        text-align: right;\n",
       "    }\n",
       "</style>\n",
       "<table border=\"1\" class=\"dataframe\">\n",
       "  <thead>\n",
       "    <tr style=\"text-align: right;\">\n",
       "      <th></th>\n",
       "      <th>AverageLen</th>\n",
       "    </tr>\n",
       "    <tr>\n",
       "      <th>score</th>\n",
       "      <th></th>\n",
       "    </tr>\n",
       "  </thead>\n",
       "  <tbody>\n",
       "    <tr>\n",
       "      <td>1</td>\n",
       "      <td>106.373693</td>\n",
       "    </tr>\n",
       "    <tr>\n",
       "      <td>2</td>\n",
       "      <td>130.655311</td>\n",
       "    </tr>\n",
       "    <tr>\n",
       "      <td>3</td>\n",
       "      <td>96.387765</td>\n",
       "    </tr>\n",
       "    <tr>\n",
       "      <td>4</td>\n",
       "      <td>64.645532</td>\n",
       "    </tr>\n",
       "    <tr>\n",
       "      <td>5</td>\n",
       "      <td>37.552502</td>\n",
       "    </tr>\n",
       "  </tbody>\n",
       "</table>\n",
       "</div>"
      ],
      "text/plain": [
       "       AverageLen\n",
       "score            \n",
       "1      106.373693\n",
       "2      130.655311\n",
       "3       96.387765\n",
       "4       64.645532\n",
       "5       37.552502"
      ]
     },
     "execution_count": 88,
     "metadata": {},
     "output_type": "execute_result"
    }
   ],
   "source": [
    "AvgLengthTable"
   ]
  },
  {
   "cell_type": "markdown",
   "metadata": {},
   "source": [
    "##### 14. Compare the average length of reviews in each score-sub-group in the 8 app categories (draw a plot)."
   ]
  },
  {
   "cell_type": "code",
   "execution_count": 89,
   "metadata": {},
   "outputs": [
    {
     "data": {
      "text/html": [
       "<div>\n",
       "<style scoped>\n",
       "    .dataframe tbody tr th:only-of-type {\n",
       "        vertical-align: middle;\n",
       "    }\n",
       "\n",
       "    .dataframe tbody tr th {\n",
       "        vertical-align: top;\n",
       "    }\n",
       "\n",
       "    .dataframe thead th {\n",
       "        text-align: right;\n",
       "    }\n",
       "</style>\n",
       "<table border=\"1\" class=\"dataframe\">\n",
       "  <thead>\n",
       "    <tr style=\"text-align: right;\">\n",
       "      <th></th>\n",
       "      <th>appTitle</th>\n",
       "      <th>userName</th>\n",
       "      <th>date</th>\n",
       "      <th>score</th>\n",
       "      <th>text</th>\n",
       "      <th>CATEGORY</th>\n",
       "      <th>contentRating</th>\n",
       "      <th>processedText</th>\n",
       "      <th>AverageLen</th>\n",
       "    </tr>\n",
       "  </thead>\n",
       "  <tbody>\n",
       "    <tr>\n",
       "      <td>0</td>\n",
       "      <td>photomath</td>\n",
       "      <td>NaN</td>\n",
       "      <td>March 8, 2019</td>\n",
       "      <td>5</td>\n",
       "      <td>nice</td>\n",
       "      <td>EDUCATION</td>\n",
       "      <td>Everyone</td>\n",
       "      <td>NaN</td>\n",
       "      <td>4</td>\n",
       "    </tr>\n",
       "    <tr>\n",
       "      <td>1</td>\n",
       "      <td>photomath</td>\n",
       "      <td>NaN</td>\n",
       "      <td>March 8, 2019</td>\n",
       "      <td>4</td>\n",
       "      <td>very helpful</td>\n",
       "      <td>EDUCATION</td>\n",
       "      <td>Everyone</td>\n",
       "      <td>NaN</td>\n",
       "      <td>12</td>\n",
       "    </tr>\n",
       "    <tr>\n",
       "      <td>2</td>\n",
       "      <td>photomath</td>\n",
       "      <td>NaN</td>\n",
       "      <td>March 8, 2019</td>\n",
       "      <td>5</td>\n",
       "      <td>Great App. Detailed answers. Understandable an...</td>\n",
       "      <td>EDUCATION</td>\n",
       "      <td>Everyone</td>\n",
       "      <td>Great  Detailed  Understandable</td>\n",
       "      <td>52</td>\n",
       "    </tr>\n",
       "    <tr>\n",
       "      <td>3</td>\n",
       "      <td>photomath</td>\n",
       "      <td>NaN</td>\n",
       "      <td>March 8, 2019</td>\n",
       "      <td>5</td>\n",
       "      <td>great!!!</td>\n",
       "      <td>EDUCATION</td>\n",
       "      <td>Everyone</td>\n",
       "      <td>NaN</td>\n",
       "      <td>8</td>\n",
       "    </tr>\n",
       "    <tr>\n",
       "      <td>4</td>\n",
       "      <td>photomath</td>\n",
       "      <td>NaN</td>\n",
       "      <td>March 8, 2019</td>\n",
       "      <td>1</td>\n",
       "      <td>bakwas hai pura.....time pass hai</td>\n",
       "      <td>EDUCATION</td>\n",
       "      <td>Everyone</td>\n",
       "      <td>time pass</td>\n",
       "      <td>33</td>\n",
       "    </tr>\n",
       "    <tr>\n",
       "      <td>...</td>\n",
       "      <td>...</td>\n",
       "      <td>...</td>\n",
       "      <td>...</td>\n",
       "      <td>...</td>\n",
       "      <td>...</td>\n",
       "      <td>...</td>\n",
       "      <td>...</td>\n",
       "      <td>...</td>\n",
       "      <td>...</td>\n",
       "    </tr>\n",
       "    <tr>\n",
       "      <td>1112293</td>\n",
       "      <td>soundcloud - music &amp; audio</td>\n",
       "      <td>pubgmaster 25</td>\n",
       "      <td>May 3, 2019</td>\n",
       "      <td>1</td>\n",
       "      <td>it gay</td>\n",
       "      <td>MUSIC AND AUDIO</td>\n",
       "      <td>Teen</td>\n",
       "      <td>NaN</td>\n",
       "      <td>6</td>\n",
       "    </tr>\n",
       "    <tr>\n",
       "      <td>1112294</td>\n",
       "      <td>soundcloud - music &amp; audio</td>\n",
       "      <td>Anjita Sinha</td>\n",
       "      <td>May 3, 2019</td>\n",
       "      <td>4</td>\n",
       "      <td>Love it</td>\n",
       "      <td>MUSIC AND AUDIO</td>\n",
       "      <td>Teen</td>\n",
       "      <td>NaN</td>\n",
       "      <td>7</td>\n",
       "    </tr>\n",
       "    <tr>\n",
       "      <td>1112295</td>\n",
       "      <td>soundcloud - music &amp; audio</td>\n",
       "      <td>Luis Lucas</td>\n",
       "      <td>May 3, 2019</td>\n",
       "      <td>5</td>\n",
       "      <td>muy bueno me gusta y puedo aguardar la musica ...</td>\n",
       "      <td>MUSIC AND AUDIO</td>\n",
       "      <td>Teen</td>\n",
       "      <td>me y la me mix son</td>\n",
       "      <td>86</td>\n",
       "    </tr>\n",
       "    <tr>\n",
       "      <td>1112296</td>\n",
       "      <td>soundcloud - music &amp; audio</td>\n",
       "      <td>Teairo Keys</td>\n",
       "      <td>May 3, 2019</td>\n",
       "      <td>5</td>\n",
       "      <td>love this app</td>\n",
       "      <td>MUSIC AND AUDIO</td>\n",
       "      <td>Teen</td>\n",
       "      <td>NaN</td>\n",
       "      <td>13</td>\n",
       "    </tr>\n",
       "    <tr>\n",
       "      <td>1112297</td>\n",
       "      <td>soundcloud - music &amp; audio</td>\n",
       "      <td>Ian Libo</td>\n",
       "      <td>May 3, 2019</td>\n",
       "      <td>1</td>\n",
       "      <td>The app was great and has a very nice selectio...</td>\n",
       "      <td>MUSIC AND AUDIO</td>\n",
       "      <td>Teen</td>\n",
       "      <td>The was great and a very nice selection of tal...</td>\n",
       "      <td>357</td>\n",
       "    </tr>\n",
       "  </tbody>\n",
       "</table>\n",
       "<p>1112298 rows × 9 columns</p>\n",
       "</div>"
      ],
      "text/plain": [
       "                           appTitle       userName           date  score  \\\n",
       "0                         photomath            NaN  March 8, 2019      5   \n",
       "1                         photomath            NaN  March 8, 2019      4   \n",
       "2                         photomath            NaN  March 8, 2019      5   \n",
       "3                         photomath            NaN  March 8, 2019      5   \n",
       "4                         photomath            NaN  March 8, 2019      1   \n",
       "...                             ...            ...            ...    ...   \n",
       "1112293  soundcloud - music & audio  pubgmaster 25    May 3, 2019      1   \n",
       "1112294  soundcloud - music & audio   Anjita Sinha    May 3, 2019      4   \n",
       "1112295  soundcloud - music & audio     Luis Lucas    May 3, 2019      5   \n",
       "1112296  soundcloud - music & audio    Teairo Keys    May 3, 2019      5   \n",
       "1112297  soundcloud - music & audio       Ian Libo    May 3, 2019      1   \n",
       "\n",
       "                                                      text         CATEGORY  \\\n",
       "0                                                     nice        EDUCATION   \n",
       "1                                             very helpful        EDUCATION   \n",
       "2        Great App. Detailed answers. Understandable an...        EDUCATION   \n",
       "3                                                 great!!!        EDUCATION   \n",
       "4                        bakwas hai pura.....time pass hai        EDUCATION   \n",
       "...                                                    ...              ...   \n",
       "1112293                                             it gay  MUSIC AND AUDIO   \n",
       "1112294                                            Love it  MUSIC AND AUDIO   \n",
       "1112295  muy bueno me gusta y puedo aguardar la musica ...  MUSIC AND AUDIO   \n",
       "1112296                                      love this app  MUSIC AND AUDIO   \n",
       "1112297  The app was great and has a very nice selectio...  MUSIC AND AUDIO   \n",
       "\n",
       "        contentRating                                      processedText  \\\n",
       "0            Everyone                                                NaN   \n",
       "1            Everyone                                                NaN   \n",
       "2            Everyone                   Great  Detailed  Understandable    \n",
       "3            Everyone                                                NaN   \n",
       "4            Everyone                                          time pass   \n",
       "...               ...                                                ...   \n",
       "1112293          Teen                                                NaN   \n",
       "1112294          Teen                                                NaN   \n",
       "1112295          Teen                                 me y la me mix son   \n",
       "1112296          Teen                                                NaN   \n",
       "1112297          Teen  The was great and a very nice selection of tal...   \n",
       "\n",
       "         AverageLen  \n",
       "0                 4  \n",
       "1                12  \n",
       "2                52  \n",
       "3                 8  \n",
       "4                33  \n",
       "...             ...  \n",
       "1112293           6  \n",
       "1112294           7  \n",
       "1112295          86  \n",
       "1112296          13  \n",
       "1112297         357  \n",
       "\n",
       "[1112298 rows x 9 columns]"
      ]
     },
     "execution_count": 89,
     "metadata": {},
     "output_type": "execute_result"
    }
   ],
   "source": [
    "AvgLength"
   ]
  },
  {
   "cell_type": "code",
   "execution_count": 90,
   "metadata": {},
   "outputs": [],
   "source": [
    "AvgPlot = pd.DataFrame(AvgLength.groupby([\"CATEGORY\",'score'])['AverageLen'].mean())"
   ]
  },
  {
   "cell_type": "code",
   "execution_count": 91,
   "metadata": {},
   "outputs": [
    {
     "data": {
      "text/plain": [
       "<matplotlib.legend.Legend at 0x1b7ea997b88>"
      ]
     },
     "execution_count": 91,
     "metadata": {},
     "output_type": "execute_result"
    },
    {
     "data": {
      "image/png": "[encoded data removed]",
      "text/plain": [
       "<Figure size 432x288 with 1 Axes>"
      ]
     },
     "metadata": {
      "needs_background": "light"
     },
     "output_type": "display_data"
    }
   ],
   "source": [
    "AvgPlot.unstack().plot(kind=\"bar\",title=\"Average Length of reviews for each category with each score\")\n",
    "plt.legend(loc=\"center left\",bbox_to_anchor=(1,0.4))"
   ]
  },
  {
   "cell_type": "markdown",
   "metadata": {},
   "source": [
    "###### 15. Compare the number of reviews in each score-sub-group in the 8 app categories (draw a plot)."
   ]
  },
  {
   "cell_type": "code",
   "execution_count": 92,
   "metadata": {},
   "outputs": [],
   "source": [
    "AvgReview = pd.DataFrame(AvgLength.groupby([\"CATEGORY\",\"score\"])[\"text\"].count())"
   ]
  },
  {
   "cell_type": "code",
   "execution_count": 93,
   "metadata": {},
   "outputs": [
    {
     "data": {
      "text/plain": [
       "<matplotlib.legend.Legend at 0x1b7ea590388>"
      ]
     },
     "execution_count": 93,
     "metadata": {},
     "output_type": "execute_result"
    },
    {
     "data": {
      "image/png": "[encoded data removed]",
      "text/plain": [
       "<Figure size 432x288 with 1 Axes>"
      ]
     },
     "metadata": {
      "needs_background": "light"
     },
     "output_type": "display_data"
    }
   ],
   "source": [
    "AvgReview.unstack().plot(kind=\"bar\",title=\"Average Number of reviews for each category with each score\")\n",
    "plt.legend(loc=\"center left\",bbox_to_anchor=(1,0.4))"
   ]
  },
  {
   "cell_type": "markdown",
   "metadata": {},
   "source": [
    "###### 16. Compare the number of apps in each score-sub-group in the 8 app categories (draw a plot)."
   ]
  },
  {
   "cell_type": "code",
   "execution_count": 94,
   "metadata": {},
   "outputs": [
    {
     "data": {
      "text/plain": [
       "<matplotlib.legend.Legend at 0x1b7ea122108>"
      ]
     },
     "execution_count": 94,
     "metadata": {},
     "output_type": "execute_result"
    },
    {
     "data": {
      "image/png": "[encoded data removed]",
      "text/plain": [
       "<Figure size 432x288 with 1 Axes>"
      ]
     },
     "metadata": {
      "needs_background": "light"
     },
     "output_type": "display_data"
    }
   ],
   "source": [
    "AverageApp = pd.DataFrame(AvgLength.groupby(['CATEGORY',\"score\"])['appTitle'].nunique())\n",
    "AverageApp.unstack().plot(kind=\"bar\",title=\"Average Number of Apps in each subgroup in 8 categories\")\n",
    "plt.legend(loc=\"center left\",bbox_to_anchor=(1,0.4))"
   ]
  },
  {
   "cell_type": "markdown",
   "metadata": {},
   "source": [
    "###### 17. Is there any correlation between the length of the reviews and the score in each app-category?"
   ]
  },
  {
   "cell_type": "code",
   "execution_count": 95,
   "metadata": {},
   "outputs": [
    {
     "data": {
      "text/html": [
       "<div>\n",
       "<style scoped>\n",
       "    .dataframe tbody tr th:only-of-type {\n",
       "        vertical-align: middle;\n",
       "    }\n",
       "\n",
       "    .dataframe tbody tr th {\n",
       "        vertical-align: top;\n",
       "    }\n",
       "\n",
       "    .dataframe thead th {\n",
       "        text-align: right;\n",
       "    }\n",
       "</style>\n",
       "<table border=\"1\" class=\"dataframe\">\n",
       "  <thead>\n",
       "    <tr style=\"text-align: right;\">\n",
       "      <th>AverageLen</th>\n",
       "      <th>score</th>\n",
       "    </tr>\n",
       "    <tr>\n",
       "      <th>CATEGORY</th>\n",
       "      <th></th>\n",
       "    </tr>\n",
       "  </thead>\n",
       "  <tbody>\n",
       "    <tr>\n",
       "      <td>EDUCATION</td>\n",
       "      <td>-0.212736</td>\n",
       "    </tr>\n",
       "    <tr>\n",
       "      <td>ENTERTAINMENT</td>\n",
       "      <td>-0.301022</td>\n",
       "    </tr>\n",
       "    <tr>\n",
       "      <td>FAMILY</td>\n",
       "      <td>-0.159834</td>\n",
       "    </tr>\n",
       "    <tr>\n",
       "      <td>FINANCE</td>\n",
       "      <td>-0.457667</td>\n",
       "    </tr>\n",
       "    <tr>\n",
       "      <td>GAME-ACTION</td>\n",
       "      <td>-0.216247</td>\n",
       "    </tr>\n",
       "    <tr>\n",
       "      <td>HEALTH AND FITNESS</td>\n",
       "      <td>-0.349930</td>\n",
       "    </tr>\n",
       "    <tr>\n",
       "      <td>LIFESTYLE</td>\n",
       "      <td>-0.362638</td>\n",
       "    </tr>\n",
       "    <tr>\n",
       "      <td>MUSIC AND AUDIO</td>\n",
       "      <td>-0.401597</td>\n",
       "    </tr>\n",
       "  </tbody>\n",
       "</table>\n",
       "</div>"
      ],
      "text/plain": [
       "AverageLen             score\n",
       "CATEGORY                    \n",
       "EDUCATION          -0.212736\n",
       "ENTERTAINMENT      -0.301022\n",
       "FAMILY             -0.159834\n",
       "FINANCE            -0.457667\n",
       "GAME-ACTION        -0.216247\n",
       "HEALTH AND FITNESS -0.349930\n",
       "LIFESTYLE          -0.362638\n",
       "MUSIC AND AUDIO    -0.401597"
      ]
     },
     "execution_count": 95,
     "metadata": {},
     "output_type": "execute_result"
    }
   ],
   "source": [
    "RevScore = AvgLength.groupby(\"CATEGORY\")[[\"score\",\"AverageLen\"]].apply(lambda x:x.corr()[\"AverageLen\"])\n",
    "RevScore.iloc[:,[0]]\n",
    "\n"
   ]
  },
  {
   "cell_type": "markdown",
   "metadata": {},
   "source": [
    "###### There is negative correlation between the average Length and the score"
   ]
  },
  {
   "cell_type": "markdown",
   "metadata": {},
   "source": [
    "###### 18. Find the evolution/changes of the star rating and length of reviews during time for each app category. Draw plots.\n",
    "###### a. Can we use the date column for this question?\n",
    "###### b. If not, what is the solution based on the data you have?"
   ]
  },
  {
   "cell_type": "code",
   "execution_count": 96,
   "metadata": {},
   "outputs": [],
   "source": [
    "detailsRegex = re.compile(r'newest')\n",
    "i = 0\n",
    "columns = range(1,100)\n",
    "df2files=[]\n",
    "df2List=[]\n",
    "\n",
    "\n",
    "\n",
    "for root, dirs, files in os.walk(cd):\n",
    "    for fname in files:\n",
    "        if detailsRegex.search(fname):\n",
    "            frame = pd.read_csv(os.path.join(root, fname), names=columns,skiprows=1)\n",
    "            if fname.find(\"EDUCATION\") != -1:\n",
    "                frame['CATEGORY'] = \"EDUCATION\"\n",
    "            elif fname.find(\"FINANCE\") !=-1:\n",
    "                frame['CATEGORY'] = \"FINANCE\"  \n",
    "            elif fname.find(\"ENTERTAINMENT\") != -1:\n",
    "                frame['CATEGORY'] = \"ENTERTAINMENT\"\n",
    "            elif fname.find(\"FAMILY\") != -1:\n",
    "                frame['CATEGORY'] = \"FAMILY\"\n",
    "            elif fname.find(\"GAME\") != -1:\n",
    "                frame['CATEGORY'] = \"GAME-ACTION\"\n",
    "            elif fname.find(\"HEALTH\") != -1:\n",
    "                frame['CATEGORY'] = \"HEALTH AND FITNESS\"\n",
    "            elif fname.find(\"LIFESTYLE\") != -1:\n",
    "                frame['CATEGORY'] = \"LIFESTYLE\"\n",
    "            elif fname.find(\"MUSIC\") != -1:\n",
    "                frame['CATEGORY'] = \"MUSIC AND AUDIO\"\n",
    "            frame['month'] = fname[5:7]\n",
    "            \n",
    "            #frame['key'] = \"file{}\".format(i)\n",
    "            df2List.append(frame)    \n",
    "            df2files.append(fname)\n",
    "            i += 1\n",
    "            \n",
    "            \n"
   ]
  },
  {
   "cell_type": "code",
   "execution_count": 97,
   "metadata": {},
   "outputs": [],
   "source": [
    "df2 = pd.concat(df2List)"
   ]
  },
  {
   "cell_type": "code",
   "execution_count": 98,
   "metadata": {},
   "outputs": [],
   "source": [
    "df2.reset_index(drop=True,inplace=True)\n",
    "df2.rename(columns={1:\"appTitle\",2:\"userName\",3:\"date\",4:\"score\",5:\"text\"},inplace=True)\n",
    "df2.dropna(axis=1,how=\"all\",inplace=True)\n",
    "df2['appTitle'] = df2['appTitle'].str.lower()\n",
    "df2.drop_duplicates(subset=['appTitle','userName','date','score','text'],inplace=True)\n",
    "\n",
    "\n",
    "\n"
   ]
  },
  {
   "cell_type": "code",
   "execution_count": 99,
   "metadata": {},
   "outputs": [
    {
     "data": {
      "text/html": [
       "<div>\n",
       "<style scoped>\n",
       "    .dataframe tbody tr th:only-of-type {\n",
       "        vertical-align: middle;\n",
       "    }\n",
       "\n",
       "    .dataframe tbody tr th {\n",
       "        vertical-align: top;\n",
       "    }\n",
       "\n",
       "    .dataframe thead th {\n",
       "        text-align: right;\n",
       "    }\n",
       "</style>\n",
       "<table border=\"1\" class=\"dataframe\">\n",
       "  <thead>\n",
       "    <tr style=\"text-align: right;\">\n",
       "      <th></th>\n",
       "      <th>appTitle</th>\n",
       "      <th>userName</th>\n",
       "      <th>date</th>\n",
       "      <th>score</th>\n",
       "      <th>text</th>\n",
       "      <th>CATEGORY</th>\n",
       "      <th>month</th>\n",
       "    </tr>\n",
       "  </thead>\n",
       "  <tbody>\n",
       "    <tr>\n",
       "      <td>0</td>\n",
       "      <td>photomath</td>\n",
       "      <td>NaN</td>\n",
       "      <td>March 8, 2019</td>\n",
       "      <td>5</td>\n",
       "      <td>nice</td>\n",
       "      <td>EDUCATION</td>\n",
       "      <td>03</td>\n",
       "    </tr>\n",
       "    <tr>\n",
       "      <td>1</td>\n",
       "      <td>photomath</td>\n",
       "      <td>NaN</td>\n",
       "      <td>March 8, 2019</td>\n",
       "      <td>4</td>\n",
       "      <td>very helpful</td>\n",
       "      <td>EDUCATION</td>\n",
       "      <td>03</td>\n",
       "    </tr>\n",
       "    <tr>\n",
       "      <td>2</td>\n",
       "      <td>photomath</td>\n",
       "      <td>NaN</td>\n",
       "      <td>March 8, 2019</td>\n",
       "      <td>5</td>\n",
       "      <td>Great App. Detailed answers. Understandable an...</td>\n",
       "      <td>EDUCATION</td>\n",
       "      <td>03</td>\n",
       "    </tr>\n",
       "    <tr>\n",
       "      <td>3</td>\n",
       "      <td>photomath</td>\n",
       "      <td>NaN</td>\n",
       "      <td>March 8, 2019</td>\n",
       "      <td>5</td>\n",
       "      <td>great!!!</td>\n",
       "      <td>EDUCATION</td>\n",
       "      <td>03</td>\n",
       "    </tr>\n",
       "    <tr>\n",
       "      <td>4</td>\n",
       "      <td>photomath</td>\n",
       "      <td>NaN</td>\n",
       "      <td>March 8, 2019</td>\n",
       "      <td>1</td>\n",
       "      <td>bakwas hai pura.....time pass hai</td>\n",
       "      <td>EDUCATION</td>\n",
       "      <td>03</td>\n",
       "    </tr>\n",
       "    <tr>\n",
       "      <td>...</td>\n",
       "      <td>...</td>\n",
       "      <td>...</td>\n",
       "      <td>...</td>\n",
       "      <td>...</td>\n",
       "      <td>...</td>\n",
       "      <td>...</td>\n",
       "      <td>...</td>\n",
       "    </tr>\n",
       "    <tr>\n",
       "      <td>2715298</td>\n",
       "      <td>soundcloud - music &amp; audio</td>\n",
       "      <td>pubgmaster 25</td>\n",
       "      <td>May 3, 2019</td>\n",
       "      <td>1</td>\n",
       "      <td>it gay</td>\n",
       "      <td>MUSIC AND AUDIO</td>\n",
       "      <td>05</td>\n",
       "    </tr>\n",
       "    <tr>\n",
       "      <td>2715299</td>\n",
       "      <td>soundcloud - music &amp; audio</td>\n",
       "      <td>Anjita Sinha</td>\n",
       "      <td>May 3, 2019</td>\n",
       "      <td>4</td>\n",
       "      <td>Love it</td>\n",
       "      <td>MUSIC AND AUDIO</td>\n",
       "      <td>05</td>\n",
       "    </tr>\n",
       "    <tr>\n",
       "      <td>2715300</td>\n",
       "      <td>soundcloud - music &amp; audio</td>\n",
       "      <td>Luis Lucas</td>\n",
       "      <td>May 3, 2019</td>\n",
       "      <td>5</td>\n",
       "      <td>muy bueno me gusta y puedo aguardar la musica ...</td>\n",
       "      <td>MUSIC AND AUDIO</td>\n",
       "      <td>05</td>\n",
       "    </tr>\n",
       "    <tr>\n",
       "      <td>2715301</td>\n",
       "      <td>soundcloud - music &amp; audio</td>\n",
       "      <td>Teairo Keys</td>\n",
       "      <td>May 3, 2019</td>\n",
       "      <td>5</td>\n",
       "      <td>love this app</td>\n",
       "      <td>MUSIC AND AUDIO</td>\n",
       "      <td>05</td>\n",
       "    </tr>\n",
       "    <tr>\n",
       "      <td>2715302</td>\n",
       "      <td>soundcloud - music &amp; audio</td>\n",
       "      <td>Ian Libo</td>\n",
       "      <td>May 3, 2019</td>\n",
       "      <td>1</td>\n",
       "      <td>The app was great and has a very nice selectio...</td>\n",
       "      <td>MUSIC AND AUDIO</td>\n",
       "      <td>05</td>\n",
       "    </tr>\n",
       "  </tbody>\n",
       "</table>\n",
       "<p>1112298 rows × 7 columns</p>\n",
       "</div>"
      ],
      "text/plain": [
       "                           appTitle       userName           date  score  \\\n",
       "0                         photomath            NaN  March 8, 2019      5   \n",
       "1                         photomath            NaN  March 8, 2019      4   \n",
       "2                         photomath            NaN  March 8, 2019      5   \n",
       "3                         photomath            NaN  March 8, 2019      5   \n",
       "4                         photomath            NaN  March 8, 2019      1   \n",
       "...                             ...            ...            ...    ...   \n",
       "2715298  soundcloud - music & audio  pubgmaster 25    May 3, 2019      1   \n",
       "2715299  soundcloud - music & audio   Anjita Sinha    May 3, 2019      4   \n",
       "2715300  soundcloud - music & audio     Luis Lucas    May 3, 2019      5   \n",
       "2715301  soundcloud - music & audio    Teairo Keys    May 3, 2019      5   \n",
       "2715302  soundcloud - music & audio       Ian Libo    May 3, 2019      1   \n",
       "\n",
       "                                                      text         CATEGORY  \\\n",
       "0                                                     nice        EDUCATION   \n",
       "1                                             very helpful        EDUCATION   \n",
       "2        Great App. Detailed answers. Understandable an...        EDUCATION   \n",
       "3                                                 great!!!        EDUCATION   \n",
       "4                        bakwas hai pura.....time pass hai        EDUCATION   \n",
       "...                                                    ...              ...   \n",
       "2715298                                             it gay  MUSIC AND AUDIO   \n",
       "2715299                                            Love it  MUSIC AND AUDIO   \n",
       "2715300  muy bueno me gusta y puedo aguardar la musica ...  MUSIC AND AUDIO   \n",
       "2715301                                      love this app  MUSIC AND AUDIO   \n",
       "2715302  The app was great and has a very nice selectio...  MUSIC AND AUDIO   \n",
       "\n",
       "        month  \n",
       "0          03  \n",
       "1          03  \n",
       "2          03  \n",
       "3          03  \n",
       "4          03  \n",
       "...       ...  \n",
       "2715298    05  \n",
       "2715299    05  \n",
       "2715300    05  \n",
       "2715301    05  \n",
       "2715302    05  \n",
       "\n",
       "[1112298 rows x 7 columns]"
      ]
     },
     "execution_count": 99,
     "metadata": {},
     "output_type": "execute_result"
    }
   ],
   "source": [
    "df2.dropna(subset=['appTitle','text'],inplace=True)\n",
    "df2"
   ]
  },
  {
   "cell_type": "code",
   "execution_count": 100,
   "metadata": {},
   "outputs": [],
   "source": [
    "months = list(df2['month'])"
   ]
  },
  {
   "cell_type": "code",
   "execution_count": 102,
   "metadata": {},
   "outputs": [],
   "source": [
    "AvgLength['month']=months"
   ]
  },
  {
   "cell_type": "code",
   "execution_count": 104,
   "metadata": {},
   "outputs": [
    {
     "data": {
      "text/plain": [
       "<matplotlib.legend.Legend at 0x1b7e951ecc8>"
      ]
     },
     "execution_count": 104,
     "metadata": {},
     "output_type": "execute_result"
    },
    {
     "data": {
      "image/png": "[encoded data removed]",
      "text/plain": [
       "<Figure size 432x288 with 1 Axes>"
      ]
     },
     "metadata": {
      "needs_background": "light"
     },
     "output_type": "display_data"
    }
   ],
   "source": [
    "monthPlot = pd.DataFrame(AvgLength.groupby(['month','CATEGORY'])['AverageLen'].mean())\n",
    "monthPlot.unstack().plot(kind=\"bar\",title=\"Average length of Apps as function of months\")\n",
    "plt.legend(loc=\"center left\",bbox_to_anchor=(1,0.4))"
   ]
  },
  {
   "cell_type": "code",
   "execution_count": 105,
   "metadata": {},
   "outputs": [
    {
     "data": {
      "text/plain": [
       "<matplotlib.legend.Legend at 0x1b7e93f2208>"
      ]
     },
     "execution_count": 105,
     "metadata": {},
     "output_type": "execute_result"
    },
    {
     "data": {
      "image/png": "[encoded data removed]",
      "text/plain": [
       "<Figure size 432x288 with 1 Axes>"
      ]
     },
     "metadata": {
      "needs_background": "light"
     },
     "output_type": "display_data"
    }
   ],
   "source": [
    "monthPlot = pd.DataFrame(AvgLength.groupby(['month','CATEGORY'])['score'].mean())\n",
    "monthPlot.unstack().plot(kind=\"bar\",title=\"Average length of Apps as function of score\")\n",
    "plt.legend(loc=\"center left\",bbox_to_anchor=(1,0.4))"
   ]
  },
  {
   "cell_type": "markdown",
   "metadata": {},
   "source": [
    "## RESULT COLUMN"
   ]
  },
  {
   "cell_type": "markdown",
   "metadata": {},
   "source": [
    "##### 1)Drop duplicates and record how many unique reviews are collected?"
   ]
  },
  {
   "cell_type": "markdown",
   "metadata": {},
   "source": [
    "###### Recording of unique number of reviews is done after dropping duplicates which have similar app Title,UserName,score,text and Category and then again dropping duplicates that have the same apptitle and review "
   ]
  },
  {
   "cell_type": "code",
   "execution_count": 106,
   "metadata": {},
   "outputs": [
    {
     "data": {
      "text/plain": [
       "673592"
      ]
     },
     "execution_count": 106,
     "metadata": {},
     "output_type": "execute_result"
    }
   ],
   "source": [
    "len(df.text.unique())"
   ]
  },
  {
   "cell_type": "markdown",
   "metadata": {},
   "source": [
    "Total number of unique reviews is 673592"
   ]
  },
  {
   "cell_type": "markdown",
   "metadata": {},
   "source": [
    "###### 2. How many unique apps are in the dataset? How many apps in each of the 8 specified app categories?"
   ]
  },
  {
   "cell_type": "code",
   "execution_count": 107,
   "metadata": {},
   "outputs": [
    {
     "name": "stdout",
     "output_type": "stream",
     "text": [
      "Number of unique apps are 86\n",
      "Apps in each of the 8 specified app categories are\n"
     ]
    },
    {
     "data": {
      "text/plain": [
       "CATEGORY\n",
       "EDUCATION             10\n",
       "ENTERTAINMENT         13\n",
       "FAMILY                10\n",
       "FINANCE               10\n",
       "GAME-ACTION           11\n",
       "HEALTH AND FITNESS    10\n",
       "LIFESTYLE             12\n",
       "MUSIC AND AUDIO       11\n",
       "Name: appTitle, dtype: int64"
      ]
     },
     "execution_count": 107,
     "metadata": {},
     "output_type": "execute_result"
    }
   ],
   "source": [
    "print(\"Number of unique apps are\",len(df['appTitle'].unique()))\n",
    "print(\"Apps in each of the 8 specified app categories are\")\n",
    "df.groupby(\"CATEGORY\")['appTitle'].nunique()"
   ]
  },
  {
   "cell_type": "markdown",
   "metadata": {},
   "source": [
    "##### 3. How many reviews exist in each of the eight app-categories?"
   ]
  },
  {
   "cell_type": "code",
   "execution_count": 108,
   "metadata": {},
   "outputs": [
    {
     "data": {
      "text/plain": [
       "CATEGORY\n",
       "EDUCATION              95830\n",
       "ENTERTAINMENT         181303\n",
       "FAMILY                 98783\n",
       "FINANCE               141129\n",
       "GAME-ACTION           209493\n",
       "HEALTH AND FITNESS    109859\n",
       "LIFESTYLE             102928\n",
       "MUSIC AND AUDIO       172973\n",
       "Name: text, dtype: int64"
      ]
     },
     "execution_count": 108,
     "metadata": {},
     "output_type": "execute_result"
    }
   ],
   "source": [
    "df.groupby(\"CATEGORY\")['text'].count()"
   ]
  },
  {
   "cell_type": "markdown",
   "metadata": {},
   "source": [
    "###### 4. Based on the contentRating column in the details files for each app, what are the different contentRating groups in each app-category?\n",
    "###### 5. How many apps exist in each of these contentRating-sub-groups in each app-category?\n"
   ]
  },
  {
   "cell_type": "code",
   "execution_count": 109,
   "metadata": {},
   "outputs": [
    {
     "data": {
      "text/plain": [
       "CATEGORY            contentRating\n",
       "EDUCATION           Everyone         60\n",
       "                    developer        18\n",
       "ENTERTAINMENT       Everyone          6\n",
       "                    Mature 17+        6\n",
       "                    Teen             48\n",
       "                    developer        18\n",
       "FAMILY              Everyone         40\n",
       "                    Everyone 10+     18\n",
       "                    developer        18\n",
       "FINANCE             Everyone         60\n",
       "                    contentRating     1\n",
       "                    developer        18\n",
       "GAME-ACTION         Everyone         30\n",
       "                    Mature 17+        6\n",
       "                    Teen             24\n",
       "                    developer        18\n",
       "HEALTH AND FITNESS  Everyone         60\n",
       "                    developer        18\n",
       "LIFESTYLE           Everyone         52\n",
       "                    Mature 17+        6\n",
       "                    Teen              1\n",
       "                    developer        16\n",
       "MUSIC AND AUDIO     Everyone         12\n",
       "                    Teen             48\n",
       "                    developer        18\n",
       "Name: contentRating, dtype: int64"
      ]
     },
     "execution_count": 109,
     "metadata": {},
     "output_type": "execute_result"
    }
   ],
   "source": [
    "pd.DataFrame(detailsDf.groupby(\"CATEGORY\")[\"contentRating\"].unique())\n",
    "detailsDf.groupby([\"CATEGORY\",\"contentRating\"])[\"contentRating\"].count()"
   ]
  },
  {
   "cell_type": "code",
   "execution_count": 57,
   "metadata": {},
   "outputs": [
    {
     "data": {
      "text/plain": [
       "CATEGORY            contentRating\n",
       "EDUCATION           Everyone          95830\n",
       "ENTERTAINMENT       Everyone          14377\n",
       "                    Mature 17+         7278\n",
       "                    Teen             159648\n",
       "FAMILY              Everyone          50676\n",
       "                    Everyone 10+      48107\n",
       "FINANCE             Everyone         141129\n",
       "GAME-ACTION         Everyone          87560\n",
       "                    Mature 17+        29359\n",
       "                    Teen              92574\n",
       "HEALTH AND FITNESS  Everyone         109859\n",
       "LIFESTYLE           Everyone          78200\n",
       "                    Mature 17+        21716\n",
       "                    Teen               3012\n",
       "MUSIC AND AUDIO     Everyone          22754\n",
       "                    Teen             150219\n",
       "Name: contentRating, dtype: int64"
      ]
     },
     "execution_count": 57,
     "metadata": {},
     "output_type": "execute_result"
    }
   ],
   "source": [
    "JoinedDf.groupby([\"CATEGORY\",\"contentRating\"])[\"contentRating\"].count()"
   ]
  },
  {
   "cell_type": "markdown",
   "metadata": {},
   "source": [
    "##### 6. How many reviews in each contentRating-sub-groups in each app-category?"
   ]
  },
  {
   "cell_type": "code",
   "execution_count": 110,
   "metadata": {},
   "outputs": [
    {
     "data": {
      "text/plain": [
       "CATEGORY            contentRating\n",
       "EDUCATION           Everyone          95830\n",
       "ENTERTAINMENT       Everyone          14377\n",
       "                    Mature 17+         7278\n",
       "                    Teen             159648\n",
       "FAMILY              Everyone          50676\n",
       "                    Everyone 10+      48107\n",
       "FINANCE             Everyone         141129\n",
       "GAME-ACTION         Everyone          87560\n",
       "                    Mature 17+        29359\n",
       "                    Teen              92574\n",
       "HEALTH AND FITNESS  Everyone         109859\n",
       "LIFESTYLE           Everyone          78200\n",
       "                    Mature 17+        21716\n",
       "                    Teen               3012\n",
       "MUSIC AND AUDIO     Everyone          22754\n",
       "                    Teen             150219\n",
       "Name: text, dtype: int64"
      ]
     },
     "execution_count": 110,
     "metadata": {},
     "output_type": "execute_result"
    }
   ],
   "source": [
    "JoinedDf.groupby([\"CATEGORY\",\"contentRating\"])[\"text\"].count()"
   ]
  },
  {
   "cell_type": "markdown",
   "metadata": {},
   "source": [
    "#### Remove non ascii characters"
   ]
  },
  {
   "cell_type": "code",
   "execution_count": 66,
   "metadata": {},
   "outputs": [],
   "source": [
    "JoinedDf.processedText.replace({r'[^\\x00-\\x7F]+':''}, regex=True, inplace=True)"
   ]
  },
  {
   "cell_type": "markdown",
   "metadata": {},
   "source": [
    "#### Remove punctuations"
   ]
  },
  {
   "cell_type": "code",
   "execution_count": 67,
   "metadata": {},
   "outputs": [],
   "source": [
    "JoinedDf[\"processedText\"] = JoinedDf['processedText'].str.replace('[^\\w\\s]','',)"
   ]
  },
  {
   "cell_type": "markdown",
   "metadata": {},
   "source": [
    "##### Remove multiple characters if they occur more than two times continuously"
   ]
  },
  {
   "cell_type": "code",
   "execution_count": 68,
   "metadata": {},
   "outputs": [],
   "source": [
    "def removeMultiple(text):\n",
    "    return re.sub(r'([a-z])\\1{2,}', r'\\1\\1', text)\n",
    "JoinedDf['processedText']= JoinedDf['processedText'].map(removeMultiple)"
   ]
  },
  {
   "cell_type": "markdown",
   "metadata": {},
   "source": [
    "###### 7. Should we remove the reviews that contain two or less number of words?\n",
    "A) We should not remove reviews that contain two more words. In case sentiment analysis needs to be carried , a two word review such as, \"Great APP\" is meaningful about the app and gives the true sentiment of that review. Hence taking away such reviews would just loose make us loose out on meaningful data that could be used for analysis.\n",
    "\n",
    "B)Removing reviews just based on the score would not be recommended. This would cause the the eventual model to be biased."
   ]
  },
  {
   "cell_type": "markdown",
   "metadata": {},
   "source": [
    "###### Remove reviews that have less than two words"
   ]
  },
  {
   "cell_type": "code",
   "execution_count": 70,
   "metadata": {},
   "outputs": [],
   "source": [
    "def moreThanTwoWords(text):\n",
    "    if len(text.split(\" \")) > 2:\n",
    "        return text\n",
    "    return np.nan"
   ]
  },
  {
   "cell_type": "code",
   "execution_count": 71,
   "metadata": {},
   "outputs": [],
   "source": [
    "JoinedDf[\"processedText\"] = JoinedDf[\"processedText\"].apply(moreThanTwoWords)"
   ]
  },
  {
   "cell_type": "markdown",
   "metadata": {},
   "source": [
    "###### 8. How many reviews exist in each of the eight app-categories? Compare with question 3."
   ]
  },
  {
   "cell_type": "code",
   "execution_count": 111,
   "metadata": {},
   "outputs": [
    {
     "name": "stdout",
     "output_type": "stream",
     "text": [
      "The number of Unique reviews after processing the text is  557295 and before text processing is 673592\n"
     ]
    }
   ],
   "source": [
    "print(\"The number of Unique reviews after processing the text is \",len(JoinedDf[\"processedText\"].unique()),\n",
    "      \"and before text processing is\",len(JoinedDf[\"text\"].unique()))"
   ]
  },
  {
   "cell_type": "code",
   "execution_count": 112,
   "metadata": {},
   "outputs": [
    {
     "data": {
      "text/plain": [
       "673592"
      ]
     },
     "execution_count": 112,
     "metadata": {},
     "output_type": "execute_result"
    }
   ],
   "source": [
    "len(JoinedDf[\"text\"].unique())"
   ]
  },
  {
   "cell_type": "code",
   "execution_count": 114,
   "metadata": {},
   "outputs": [
    {
     "data": {
      "text/html": [
       "<div>\n",
       "<style scoped>\n",
       "    .dataframe tbody tr th:only-of-type {\n",
       "        vertical-align: middle;\n",
       "    }\n",
       "\n",
       "    .dataframe tbody tr th {\n",
       "        vertical-align: top;\n",
       "    }\n",
       "\n",
       "    .dataframe thead th {\n",
       "        text-align: right;\n",
       "    }\n",
       "</style>\n",
       "<table border=\"1\" class=\"dataframe\">\n",
       "  <thead>\n",
       "    <tr style=\"text-align: right;\">\n",
       "      <th></th>\n",
       "      <th>text</th>\n",
       "      <th>processedText</th>\n",
       "    </tr>\n",
       "    <tr>\n",
       "      <th>CATEGORY</th>\n",
       "      <th></th>\n",
       "      <th></th>\n",
       "    </tr>\n",
       "  </thead>\n",
       "  <tbody>\n",
       "    <tr>\n",
       "      <td>EDUCATION</td>\n",
       "      <td>95830</td>\n",
       "      <td>69249</td>\n",
       "    </tr>\n",
       "    <tr>\n",
       "      <td>ENTERTAINMENT</td>\n",
       "      <td>181303</td>\n",
       "      <td>106245</td>\n",
       "    </tr>\n",
       "    <tr>\n",
       "      <td>FAMILY</td>\n",
       "      <td>98783</td>\n",
       "      <td>68407</td>\n",
       "    </tr>\n",
       "    <tr>\n",
       "      <td>FINANCE</td>\n",
       "      <td>141129</td>\n",
       "      <td>97385</td>\n",
       "    </tr>\n",
       "    <tr>\n",
       "      <td>GAME-ACTION</td>\n",
       "      <td>209493</td>\n",
       "      <td>116521</td>\n",
       "    </tr>\n",
       "    <tr>\n",
       "      <td>HEALTH AND FITNESS</td>\n",
       "      <td>109859</td>\n",
       "      <td>78660</td>\n",
       "    </tr>\n",
       "    <tr>\n",
       "      <td>LIFESTYLE</td>\n",
       "      <td>102928</td>\n",
       "      <td>68021</td>\n",
       "    </tr>\n",
       "    <tr>\n",
       "      <td>MUSIC AND AUDIO</td>\n",
       "      <td>172973</td>\n",
       "      <td>115976</td>\n",
       "    </tr>\n",
       "  </tbody>\n",
       "</table>\n",
       "</div>"
      ],
      "text/plain": [
       "                      text  processedText\n",
       "CATEGORY                                 \n",
       "EDUCATION            95830          69249\n",
       "ENTERTAINMENT       181303         106245\n",
       "FAMILY               98783          68407\n",
       "FINANCE             141129          97385\n",
       "GAME-ACTION         209493         116521\n",
       "HEALTH AND FITNESS  109859          78660\n",
       "LIFESTYLE           102928          68021\n",
       "MUSIC AND AUDIO     172973         115976"
      ]
     },
     "execution_count": 114,
     "metadata": {},
     "output_type": "execute_result"
    }
   ],
   "source": [
    "pd.concat([df.groupby(\"CATEGORY\")['text'].count(),JoinedDf.groupby(\"CATEGORY\")[\"processedText\"].count()],axis=1)"
   ]
  },
  {
   "cell_type": "markdown",
   "metadata": {},
   "source": [
    "###### 9. How many reviews in each contentRating-sub-groups in each app-category? Compare with question 6."
   ]
  },
  {
   "cell_type": "code",
   "execution_count": 77,
   "metadata": {},
   "outputs": [
    {
     "data": {
      "text/html": [
       "<div>\n",
       "<style scoped>\n",
       "    .dataframe tbody tr th:only-of-type {\n",
       "        vertical-align: middle;\n",
       "    }\n",
       "\n",
       "    .dataframe tbody tr th {\n",
       "        vertical-align: top;\n",
       "    }\n",
       "\n",
       "    .dataframe thead th {\n",
       "        text-align: right;\n",
       "    }\n",
       "</style>\n",
       "<table border=\"1\" class=\"dataframe\">\n",
       "  <thead>\n",
       "    <tr style=\"text-align: right;\">\n",
       "      <th></th>\n",
       "      <th></th>\n",
       "      <th>text</th>\n",
       "      <th>processedText</th>\n",
       "    </tr>\n",
       "    <tr>\n",
       "      <th>CATEGORY</th>\n",
       "      <th>contentRating</th>\n",
       "      <th></th>\n",
       "      <th></th>\n",
       "    </tr>\n",
       "  </thead>\n",
       "  <tbody>\n",
       "    <tr>\n",
       "      <td>EDUCATION</td>\n",
       "      <td>Everyone</td>\n",
       "      <td>95830</td>\n",
       "      <td>69249</td>\n",
       "    </tr>\n",
       "    <tr>\n",
       "      <td rowspan=\"3\" valign=\"top\">ENTERTAINMENT</td>\n",
       "      <td>Everyone</td>\n",
       "      <td>14377</td>\n",
       "      <td>10334</td>\n",
       "    </tr>\n",
       "    <tr>\n",
       "      <td>Mature 17+</td>\n",
       "      <td>7278</td>\n",
       "      <td>4954</td>\n",
       "    </tr>\n",
       "    <tr>\n",
       "      <td>Teen</td>\n",
       "      <td>159648</td>\n",
       "      <td>90957</td>\n",
       "    </tr>\n",
       "    <tr>\n",
       "      <td rowspan=\"2\" valign=\"top\">FAMILY</td>\n",
       "      <td>Everyone</td>\n",
       "      <td>50676</td>\n",
       "      <td>31699</td>\n",
       "    </tr>\n",
       "    <tr>\n",
       "      <td>Everyone 10+</td>\n",
       "      <td>48107</td>\n",
       "      <td>36708</td>\n",
       "    </tr>\n",
       "    <tr>\n",
       "      <td>FINANCE</td>\n",
       "      <td>Everyone</td>\n",
       "      <td>141129</td>\n",
       "      <td>97385</td>\n",
       "    </tr>\n",
       "    <tr>\n",
       "      <td rowspan=\"3\" valign=\"top\">GAME-ACTION</td>\n",
       "      <td>Everyone</td>\n",
       "      <td>87560</td>\n",
       "      <td>55242</td>\n",
       "    </tr>\n",
       "    <tr>\n",
       "      <td>Mature 17+</td>\n",
       "      <td>29359</td>\n",
       "      <td>12400</td>\n",
       "    </tr>\n",
       "    <tr>\n",
       "      <td>Teen</td>\n",
       "      <td>92574</td>\n",
       "      <td>48879</td>\n",
       "    </tr>\n",
       "    <tr>\n",
       "      <td>HEALTH AND FITNESS</td>\n",
       "      <td>Everyone</td>\n",
       "      <td>109859</td>\n",
       "      <td>78660</td>\n",
       "    </tr>\n",
       "    <tr>\n",
       "      <td rowspan=\"3\" valign=\"top\">LIFESTYLE</td>\n",
       "      <td>Everyone</td>\n",
       "      <td>78200</td>\n",
       "      <td>51615</td>\n",
       "    </tr>\n",
       "    <tr>\n",
       "      <td>Mature 17+</td>\n",
       "      <td>21716</td>\n",
       "      <td>14300</td>\n",
       "    </tr>\n",
       "    <tr>\n",
       "      <td>Teen</td>\n",
       "      <td>3012</td>\n",
       "      <td>2106</td>\n",
       "    </tr>\n",
       "    <tr>\n",
       "      <td rowspan=\"2\" valign=\"top\">MUSIC AND AUDIO</td>\n",
       "      <td>Everyone</td>\n",
       "      <td>22754</td>\n",
       "      <td>15861</td>\n",
       "    </tr>\n",
       "    <tr>\n",
       "      <td>Teen</td>\n",
       "      <td>150219</td>\n",
       "      <td>100115</td>\n",
       "    </tr>\n",
       "  </tbody>\n",
       "</table>\n",
       "</div>"
      ],
      "text/plain": [
       "                                    text  processedText\n",
       "CATEGORY           contentRating                       \n",
       "EDUCATION          Everyone        95830          69249\n",
       "ENTERTAINMENT      Everyone        14377          10334\n",
       "                   Mature 17+       7278           4954\n",
       "                   Teen           159648          90957\n",
       "FAMILY             Everyone        50676          31699\n",
       "                   Everyone 10+    48107          36708\n",
       "FINANCE            Everyone       141129          97385\n",
       "GAME-ACTION        Everyone        87560          55242\n",
       "                   Mature 17+      29359          12400\n",
       "                   Teen            92574          48879\n",
       "HEALTH AND FITNESS Everyone       109859          78660\n",
       "LIFESTYLE          Everyone        78200          51615\n",
       "                   Mature 17+      21716          14300\n",
       "                   Teen             3012           2106\n",
       "MUSIC AND AUDIO    Everyone        22754          15861\n",
       "                   Teen           150219         100115"
      ]
     },
     "execution_count": 77,
     "metadata": {},
     "output_type": "execute_result"
    }
   ],
   "source": [
    "pd.concat([JoinedDf.groupby([\"CATEGORY\",\"contentRating\"])[\"text\"].count(),JoinedDf.groupby([\"CATEGORY\",\"contentRating\"])[\"processedText\"].count()],axis=1)"
   ]
  },
  {
   "cell_type": "markdown",
   "metadata": {},
   "source": [
    "##### Analyzing each category"
   ]
  },
  {
   "cell_type": "markdown",
   "metadata": {},
   "source": [
    "##### 10. What is the number of reviews for each score (score column)? For example, 35000 reviews have a score of 1, etc."
   ]
  },
  {
   "cell_type": "markdown",
   "metadata": {},
   "source": [
    "###### Before text processing"
   ]
  },
  {
   "cell_type": "code",
   "execution_count": 115,
   "metadata": {},
   "outputs": [
    {
     "data": {
      "text/plain": [
       "score\n",
       "1    150522\n",
       "2     35107\n",
       "3     53878\n",
       "4    111020\n",
       "5    761771\n",
       "Name: text, dtype: int64"
      ]
     },
     "execution_count": 115,
     "metadata": {},
     "output_type": "execute_result"
    }
   ],
   "source": [
    "JoinedDf.groupby(\"score\")[\"text\"].count()"
   ]
  },
  {
   "cell_type": "markdown",
   "metadata": {},
   "source": [
    "##### After text processing"
   ]
  },
  {
   "cell_type": "code",
   "execution_count": 116,
   "metadata": {},
   "outputs": [
    {
     "data": {
      "text/plain": [
       "score\n",
       "1    125982\n",
       "2     30494\n",
       "3     41520\n",
       "4     76890\n",
       "5    445578\n",
       "Name: processedText, dtype: int64"
      ]
     },
     "execution_count": 116,
     "metadata": {},
     "output_type": "execute_result"
    }
   ],
   "source": [
    "JoinedDf.groupby(\"score\")[\"processedText\"].count()"
   ]
  },
  {
   "cell_type": "markdown",
   "metadata": {},
   "source": [
    "###### 11. How many apps exist in each score-sub-group?"
   ]
  },
  {
   "cell_type": "code",
   "execution_count": 117,
   "metadata": {},
   "outputs": [
    {
     "data": {
      "text/plain": [
       "score\n",
       "1    86\n",
       "2    86\n",
       "3    86\n",
       "4    86\n",
       "5    86\n",
       "Name: appTitle, dtype: int64"
      ]
     },
     "execution_count": 117,
     "metadata": {},
     "output_type": "execute_result"
    }
   ],
   "source": [
    "JoinedDf.groupby(\"score\")[\"appTitle\"].nunique()"
   ]
  },
  {
   "cell_type": "markdown",
   "metadata": {},
   "source": [
    "###### 12. Compare the number of reviews for each score in a plot (Remember to normalize the numbers when you are comparing them)."
   ]
  },
  {
   "cell_type": "code",
   "execution_count": 121,
   "metadata": {},
   "outputs": [
    {
     "data": {
      "text/html": [
       "<div>\n",
       "<style scoped>\n",
       "    .dataframe tbody tr th:only-of-type {\n",
       "        vertical-align: middle;\n",
       "    }\n",
       "\n",
       "    .dataframe tbody tr th {\n",
       "        vertical-align: top;\n",
       "    }\n",
       "\n",
       "    .dataframe thead th {\n",
       "        text-align: right;\n",
       "    }\n",
       "</style>\n",
       "<table border=\"1\" class=\"dataframe\">\n",
       "  <thead>\n",
       "    <tr style=\"text-align: right;\">\n",
       "      <th></th>\n",
       "      <th>Number of Reviews for processed text</th>\n",
       "      <th>Normalizereviews</th>\n",
       "      <th>score</th>\n",
       "    </tr>\n",
       "    <tr>\n",
       "      <th>score</th>\n",
       "      <th></th>\n",
       "      <th></th>\n",
       "      <th></th>\n",
       "    </tr>\n",
       "  </thead>\n",
       "  <tbody>\n",
       "    <tr>\n",
       "      <td>1</td>\n",
       "      <td>125982</td>\n",
       "      <td>0.230045</td>\n",
       "      <td>1</td>\n",
       "    </tr>\n",
       "    <tr>\n",
       "      <td>2</td>\n",
       "      <td>30494</td>\n",
       "      <td>0.000000</td>\n",
       "      <td>2</td>\n",
       "    </tr>\n",
       "    <tr>\n",
       "      <td>3</td>\n",
       "      <td>41520</td>\n",
       "      <td>0.026563</td>\n",
       "      <td>3</td>\n",
       "    </tr>\n",
       "    <tr>\n",
       "      <td>4</td>\n",
       "      <td>76890</td>\n",
       "      <td>0.111775</td>\n",
       "      <td>4</td>\n",
       "    </tr>\n",
       "    <tr>\n",
       "      <td>5</td>\n",
       "      <td>445578</td>\n",
       "      <td>1.000000</td>\n",
       "      <td>5</td>\n",
       "    </tr>\n",
       "  </tbody>\n",
       "</table>\n",
       "</div>"
      ],
      "text/plain": [
       "       Number of Reviews for processed text  Normalizereviews  score\n",
       "score                                                               \n",
       "1                                    125982          0.230045      1\n",
       "2                                     30494          0.000000      2\n",
       "3                                     41520          0.026563      3\n",
       "4                                     76890          0.111775      4\n",
       "5                                    445578          1.000000      5"
      ]
     },
     "execution_count": 121,
     "metadata": {},
     "output_type": "execute_result"
    }
   ],
   "source": [
    "## Normalize using mix max data\n",
    "\n",
    "\n",
    "Normalize[\"Normalizereviews\"]= (Normalize[\"Number of Reviews for processed text\"]-Normalize[\"Number of Reviews for processed text\"].min())/(Normalize[\"Number of Reviews for processed text\"].max()-Normalize[\"Number of Reviews for processed text\"].min())\n",
    "Normalize"
   ]
  },
  {
   "cell_type": "code",
   "execution_count": 122,
   "metadata": {},
   "outputs": [
    {
     "data": {
      "text/plain": [
       "<matplotlib.axes._subplots.AxesSubplot at 0x1b9130b6e88>"
      ]
     },
     "execution_count": 122,
     "metadata": {},
     "output_type": "execute_result"
    },
    {
     "data": {
      "image/png": "[encoded data removed]",
      "text/plain": [
       "<Figure size 432x288 with 1 Axes>"
      ]
     },
     "metadata": {
      "needs_background": "light"
     },
     "output_type": "display_data"
    }
   ],
   "source": [
    "Normalize[\"score\"] = Normalize.index\n",
    "Normalize.plot.bar(x=\"score\",y=\"Normalizereviews\")\n"
   ]
  },
  {
   "cell_type": "markdown",
   "metadata": {},
   "source": [
    "###### 13. What is the average length of the reviews in each score-sub-group?"
   ]
  },
  {
   "cell_type": "code",
   "execution_count": 123,
   "metadata": {},
   "outputs": [],
   "source": [
    "AvgLength = JoinedDf.copy()\n",
    "AvgLength [\"AverageLen\"]= JoinedDf[\"text\"].str.len()\n"
   ]
  },
  {
   "cell_type": "code",
   "execution_count": 124,
   "metadata": {},
   "outputs": [],
   "source": [
    "AvgLengthTable = pd.DataFrame(AvgLength.groupby(\"score\")[\"AverageLen\"].mean())"
   ]
  },
  {
   "cell_type": "code",
   "execution_count": 125,
   "metadata": {},
   "outputs": [
    {
     "data": {
      "text/html": [
       "<div>\n",
       "<style scoped>\n",
       "    .dataframe tbody tr th:only-of-type {\n",
       "        vertical-align: middle;\n",
       "    }\n",
       "\n",
       "    .dataframe tbody tr th {\n",
       "        vertical-align: top;\n",
       "    }\n",
       "\n",
       "    .dataframe thead th {\n",
       "        text-align: right;\n",
       "    }\n",
       "</style>\n",
       "<table border=\"1\" class=\"dataframe\">\n",
       "  <thead>\n",
       "    <tr style=\"text-align: right;\">\n",
       "      <th></th>\n",
       "      <th>AverageLen</th>\n",
       "    </tr>\n",
       "    <tr>\n",
       "      <th>score</th>\n",
       "      <th></th>\n",
       "    </tr>\n",
       "  </thead>\n",
       "  <tbody>\n",
       "    <tr>\n",
       "      <td>1</td>\n",
       "      <td>106.373693</td>\n",
       "    </tr>\n",
       "    <tr>\n",
       "      <td>2</td>\n",
       "      <td>130.655311</td>\n",
       "    </tr>\n",
       "    <tr>\n",
       "      <td>3</td>\n",
       "      <td>96.387765</td>\n",
       "    </tr>\n",
       "    <tr>\n",
       "      <td>4</td>\n",
       "      <td>64.645532</td>\n",
       "    </tr>\n",
       "    <tr>\n",
       "      <td>5</td>\n",
       "      <td>37.552502</td>\n",
       "    </tr>\n",
       "  </tbody>\n",
       "</table>\n",
       "</div>"
      ],
      "text/plain": [
       "       AverageLen\n",
       "score            \n",
       "1      106.373693\n",
       "2      130.655311\n",
       "3       96.387765\n",
       "4       64.645532\n",
       "5       37.552502"
      ]
     },
     "execution_count": 125,
     "metadata": {},
     "output_type": "execute_result"
    }
   ],
   "source": [
    "AvgLengthTable"
   ]
  },
  {
   "cell_type": "markdown",
   "metadata": {},
   "source": [
    "##### 14. Compare the average length of reviews in each score-sub-group in the 8 app categories (draw a plot)."
   ]
  },
  {
   "cell_type": "code",
   "execution_count": 126,
   "metadata": {},
   "outputs": [
    {
     "data": {
      "text/html": [
       "<div>\n",
       "<style scoped>\n",
       "    .dataframe tbody tr th:only-of-type {\n",
       "        vertical-align: middle;\n",
       "    }\n",
       "\n",
       "    .dataframe tbody tr th {\n",
       "        vertical-align: top;\n",
       "    }\n",
       "\n",
       "    .dataframe thead th {\n",
       "        text-align: right;\n",
       "    }\n",
       "</style>\n",
       "<table border=\"1\" class=\"dataframe\">\n",
       "  <thead>\n",
       "    <tr style=\"text-align: right;\">\n",
       "      <th></th>\n",
       "      <th>appTitle</th>\n",
       "      <th>userName</th>\n",
       "      <th>date</th>\n",
       "      <th>score</th>\n",
       "      <th>text</th>\n",
       "      <th>CATEGORY</th>\n",
       "      <th>contentRating</th>\n",
       "      <th>processedText</th>\n",
       "      <th>AverageLen</th>\n",
       "    </tr>\n",
       "  </thead>\n",
       "  <tbody>\n",
       "    <tr>\n",
       "      <td>0</td>\n",
       "      <td>photomath</td>\n",
       "      <td>NaN</td>\n",
       "      <td>March 8, 2019</td>\n",
       "      <td>5</td>\n",
       "      <td>nice</td>\n",
       "      <td>EDUCATION</td>\n",
       "      <td>Everyone</td>\n",
       "      <td>NaN</td>\n",
       "      <td>4</td>\n",
       "    </tr>\n",
       "    <tr>\n",
       "      <td>1</td>\n",
       "      <td>photomath</td>\n",
       "      <td>NaN</td>\n",
       "      <td>March 8, 2019</td>\n",
       "      <td>4</td>\n",
       "      <td>very helpful</td>\n",
       "      <td>EDUCATION</td>\n",
       "      <td>Everyone</td>\n",
       "      <td>NaN</td>\n",
       "      <td>12</td>\n",
       "    </tr>\n",
       "    <tr>\n",
       "      <td>2</td>\n",
       "      <td>photomath</td>\n",
       "      <td>NaN</td>\n",
       "      <td>March 8, 2019</td>\n",
       "      <td>5</td>\n",
       "      <td>Great App. Detailed answers. Understandable an...</td>\n",
       "      <td>EDUCATION</td>\n",
       "      <td>Everyone</td>\n",
       "      <td>Great  Detailed  Understandable</td>\n",
       "      <td>52</td>\n",
       "    </tr>\n",
       "    <tr>\n",
       "      <td>3</td>\n",
       "      <td>photomath</td>\n",
       "      <td>NaN</td>\n",
       "      <td>March 8, 2019</td>\n",
       "      <td>5</td>\n",
       "      <td>great!!!</td>\n",
       "      <td>EDUCATION</td>\n",
       "      <td>Everyone</td>\n",
       "      <td>NaN</td>\n",
       "      <td>8</td>\n",
       "    </tr>\n",
       "    <tr>\n",
       "      <td>4</td>\n",
       "      <td>photomath</td>\n",
       "      <td>NaN</td>\n",
       "      <td>March 8, 2019</td>\n",
       "      <td>1</td>\n",
       "      <td>bakwas hai pura.....time pass hai</td>\n",
       "      <td>EDUCATION</td>\n",
       "      <td>Everyone</td>\n",
       "      <td>time pass</td>\n",
       "      <td>33</td>\n",
       "    </tr>\n",
       "    <tr>\n",
       "      <td>...</td>\n",
       "      <td>...</td>\n",
       "      <td>...</td>\n",
       "      <td>...</td>\n",
       "      <td>...</td>\n",
       "      <td>...</td>\n",
       "      <td>...</td>\n",
       "      <td>...</td>\n",
       "      <td>...</td>\n",
       "      <td>...</td>\n",
       "    </tr>\n",
       "    <tr>\n",
       "      <td>1112293</td>\n",
       "      <td>soundcloud - music &amp; audio</td>\n",
       "      <td>pubgmaster 25</td>\n",
       "      <td>May 3, 2019</td>\n",
       "      <td>1</td>\n",
       "      <td>it gay</td>\n",
       "      <td>MUSIC AND AUDIO</td>\n",
       "      <td>Teen</td>\n",
       "      <td>NaN</td>\n",
       "      <td>6</td>\n",
       "    </tr>\n",
       "    <tr>\n",
       "      <td>1112294</td>\n",
       "      <td>soundcloud - music &amp; audio</td>\n",
       "      <td>Anjita Sinha</td>\n",
       "      <td>May 3, 2019</td>\n",
       "      <td>4</td>\n",
       "      <td>Love it</td>\n",
       "      <td>MUSIC AND AUDIO</td>\n",
       "      <td>Teen</td>\n",
       "      <td>NaN</td>\n",
       "      <td>7</td>\n",
       "    </tr>\n",
       "    <tr>\n",
       "      <td>1112295</td>\n",
       "      <td>soundcloud - music &amp; audio</td>\n",
       "      <td>Luis Lucas</td>\n",
       "      <td>May 3, 2019</td>\n",
       "      <td>5</td>\n",
       "      <td>muy bueno me gusta y puedo aguardar la musica ...</td>\n",
       "      <td>MUSIC AND AUDIO</td>\n",
       "      <td>Teen</td>\n",
       "      <td>me y la me mix son</td>\n",
       "      <td>86</td>\n",
       "    </tr>\n",
       "    <tr>\n",
       "      <td>1112296</td>\n",
       "      <td>soundcloud - music &amp; audio</td>\n",
       "      <td>Teairo Keys</td>\n",
       "      <td>May 3, 2019</td>\n",
       "      <td>5</td>\n",
       "      <td>love this app</td>\n",
       "      <td>MUSIC AND AUDIO</td>\n",
       "      <td>Teen</td>\n",
       "      <td>NaN</td>\n",
       "      <td>13</td>\n",
       "    </tr>\n",
       "    <tr>\n",
       "      <td>1112297</td>\n",
       "      <td>soundcloud - music &amp; audio</td>\n",
       "      <td>Ian Libo</td>\n",
       "      <td>May 3, 2019</td>\n",
       "      <td>1</td>\n",
       "      <td>The app was great and has a very nice selectio...</td>\n",
       "      <td>MUSIC AND AUDIO</td>\n",
       "      <td>Teen</td>\n",
       "      <td>The was great and a very nice selection of tal...</td>\n",
       "      <td>357</td>\n",
       "    </tr>\n",
       "  </tbody>\n",
       "</table>\n",
       "<p>1112298 rows × 9 columns</p>\n",
       "</div>"
      ],
      "text/plain": [
       "                           appTitle       userName           date  score  \\\n",
       "0                         photomath            NaN  March 8, 2019      5   \n",
       "1                         photomath            NaN  March 8, 2019      4   \n",
       "2                         photomath            NaN  March 8, 2019      5   \n",
       "3                         photomath            NaN  March 8, 2019      5   \n",
       "4                         photomath            NaN  March 8, 2019      1   \n",
       "...                             ...            ...            ...    ...   \n",
       "1112293  soundcloud - music & audio  pubgmaster 25    May 3, 2019      1   \n",
       "1112294  soundcloud - music & audio   Anjita Sinha    May 3, 2019      4   \n",
       "1112295  soundcloud - music & audio     Luis Lucas    May 3, 2019      5   \n",
       "1112296  soundcloud - music & audio    Teairo Keys    May 3, 2019      5   \n",
       "1112297  soundcloud - music & audio       Ian Libo    May 3, 2019      1   \n",
       "\n",
       "                                                      text         CATEGORY  \\\n",
       "0                                                     nice        EDUCATION   \n",
       "1                                             very helpful        EDUCATION   \n",
       "2        Great App. Detailed answers. Understandable an...        EDUCATION   \n",
       "3                                                 great!!!        EDUCATION   \n",
       "4                        bakwas hai pura.....time pass hai        EDUCATION   \n",
       "...                                                    ...              ...   \n",
       "1112293                                             it gay  MUSIC AND AUDIO   \n",
       "1112294                                            Love it  MUSIC AND AUDIO   \n",
       "1112295  muy bueno me gusta y puedo aguardar la musica ...  MUSIC AND AUDIO   \n",
       "1112296                                      love this app  MUSIC AND AUDIO   \n",
       "1112297  The app was great and has a very nice selectio...  MUSIC AND AUDIO   \n",
       "\n",
       "        contentRating                                      processedText  \\\n",
       "0            Everyone                                                NaN   \n",
       "1            Everyone                                                NaN   \n",
       "2            Everyone                   Great  Detailed  Understandable    \n",
       "3            Everyone                                                NaN   \n",
       "4            Everyone                                          time pass   \n",
       "...               ...                                                ...   \n",
       "1112293          Teen                                                NaN   \n",
       "1112294          Teen                                                NaN   \n",
       "1112295          Teen                                 me y la me mix son   \n",
       "1112296          Teen                                                NaN   \n",
       "1112297          Teen  The was great and a very nice selection of tal...   \n",
       "\n",
       "         AverageLen  \n",
       "0                 4  \n",
       "1                12  \n",
       "2                52  \n",
       "3                 8  \n",
       "4                33  \n",
       "...             ...  \n",
       "1112293           6  \n",
       "1112294           7  \n",
       "1112295          86  \n",
       "1112296          13  \n",
       "1112297         357  \n",
       "\n",
       "[1112298 rows x 9 columns]"
      ]
     },
     "execution_count": 126,
     "metadata": {},
     "output_type": "execute_result"
    }
   ],
   "source": [
    "AvgLength"
   ]
  },
  {
   "cell_type": "code",
   "execution_count": 127,
   "metadata": {},
   "outputs": [],
   "source": [
    "AvgPlot = pd.DataFrame(AvgLength.groupby([\"CATEGORY\",'score'])['AverageLen'].mean())"
   ]
  },
  {
   "cell_type": "code",
   "execution_count": 128,
   "metadata": {},
   "outputs": [
    {
     "data": {
      "text/plain": [
       "<matplotlib.legend.Legend at 0x1b91306ca08>"
      ]
     },
     "execution_count": 128,
     "metadata": {},
     "output_type": "execute_result"
    },
    {
     "data": {
      "image/png": "[encoded data removed]",
      "text/plain": [
       "<Figure size 432x288 with 1 Axes>"
      ]
     },
     "metadata": {
      "needs_background": "light"
     },
     "output_type": "display_data"
    }
   ],
   "source": [
    "AvgPlot.unstack().plot(kind=\"bar\",title=\"Average Length of reviews for each category with each score\")\n",
    "plt.legend(loc=\"center left\",bbox_to_anchor=(1,0.4))"
   ]
  },
  {
   "cell_type": "markdown",
   "metadata": {},
   "source": [
    "###### 15. Compare the number of reviews in each score-sub-group in the 8 app categories (draw a plot)."
   ]
  },
  {
   "cell_type": "code",
   "execution_count": 129,
   "metadata": {},
   "outputs": [],
   "source": [
    "AvgReview = pd.DataFrame(AvgLength.groupby([\"CATEGORY\",\"score\"])[\"text\"].count())"
   ]
  },
  {
   "cell_type": "code",
   "execution_count": 130,
   "metadata": {},
   "outputs": [
    {
     "data": {
      "text/plain": [
       "<matplotlib.legend.Legend at 0x1b76a90c788>"
      ]
     },
     "execution_count": 130,
     "metadata": {},
     "output_type": "execute_result"
    },
    {
     "data": {
      "image/png": "[encoded data removed]",
      "text/plain": [
       "<Figure size 432x288 with 1 Axes>"
      ]
     },
     "metadata": {
      "needs_background": "light"
     },
     "output_type": "display_data"
    }
   ],
   "source": [
    "AvgReview.unstack().plot(kind=\"bar\",title=\"Average Number of reviews for each category with each score\")\n",
    "plt.legend(loc=\"center left\",bbox_to_anchor=(1,0.4))"
   ]
  },
  {
   "cell_type": "markdown",
   "metadata": {},
   "source": [
    "###### 16. Compare the number of apps in each score-sub-group in the 8 app categories (draw a plot)."
   ]
  },
  {
   "cell_type": "code",
   "execution_count": 131,
   "metadata": {},
   "outputs": [
    {
     "data": {
      "text/plain": [
       "<matplotlib.legend.Legend at 0x1b7ea3aaec8>"
      ]
     },
     "execution_count": 131,
     "metadata": {},
     "output_type": "execute_result"
    },
    {
     "data": {
      "image/png": "[encoded data removed]",
      "text/plain": [
       "<Figure size 432x288 with 1 Axes>"
      ]
     },
     "metadata": {
      "needs_background": "light"
     },
     "output_type": "display_data"
    }
   ],
   "source": [
    "AverageApp = pd.DataFrame(AvgLength.groupby(['CATEGORY',\"score\"])['appTitle'].nunique())\n",
    "AverageApp.unstack().plot(kind=\"bar\",title=\"Average Number of Apps in each subgroup in 8 categories\")\n",
    "plt.legend(loc=\"center left\",bbox_to_anchor=(1,0.4))"
   ]
  },
  {
   "cell_type": "markdown",
   "metadata": {},
   "source": [
    "###### 17. Is there any correlation between the length of the reviews and the score in each app-category?"
   ]
  },
  {
   "cell_type": "code",
   "execution_count": 132,
   "metadata": {},
   "outputs": [
    {
     "data": {
      "text/html": [
       "<div>\n",
       "<style scoped>\n",
       "    .dataframe tbody tr th:only-of-type {\n",
       "        vertical-align: middle;\n",
       "    }\n",
       "\n",
       "    .dataframe tbody tr th {\n",
       "        vertical-align: top;\n",
       "    }\n",
       "\n",
       "    .dataframe thead th {\n",
       "        text-align: right;\n",
       "    }\n",
       "</style>\n",
       "<table border=\"1\" class=\"dataframe\">\n",
       "  <thead>\n",
       "    <tr style=\"text-align: right;\">\n",
       "      <th>AverageLen</th>\n",
       "      <th>score</th>\n",
       "    </tr>\n",
       "    <tr>\n",
       "      <th>CATEGORY</th>\n",
       "      <th></th>\n",
       "    </tr>\n",
       "  </thead>\n",
       "  <tbody>\n",
       "    <tr>\n",
       "      <td>EDUCATION</td>\n",
       "      <td>-0.212736</td>\n",
       "    </tr>\n",
       "    <tr>\n",
       "      <td>ENTERTAINMENT</td>\n",
       "      <td>-0.301022</td>\n",
       "    </tr>\n",
       "    <tr>\n",
       "      <td>FAMILY</td>\n",
       "      <td>-0.159834</td>\n",
       "    </tr>\n",
       "    <tr>\n",
       "      <td>FINANCE</td>\n",
       "      <td>-0.457667</td>\n",
       "    </tr>\n",
       "    <tr>\n",
       "      <td>GAME-ACTION</td>\n",
       "      <td>-0.216247</td>\n",
       "    </tr>\n",
       "    <tr>\n",
       "      <td>HEALTH AND FITNESS</td>\n",
       "      <td>-0.349930</td>\n",
       "    </tr>\n",
       "    <tr>\n",
       "      <td>LIFESTYLE</td>\n",
       "      <td>-0.362638</td>\n",
       "    </tr>\n",
       "    <tr>\n",
       "      <td>MUSIC AND AUDIO</td>\n",
       "      <td>-0.401597</td>\n",
       "    </tr>\n",
       "  </tbody>\n",
       "</table>\n",
       "</div>"
      ],
      "text/plain": [
       "AverageLen             score\n",
       "CATEGORY                    \n",
       "EDUCATION          -0.212736\n",
       "ENTERTAINMENT      -0.301022\n",
       "FAMILY             -0.159834\n",
       "FINANCE            -0.457667\n",
       "GAME-ACTION        -0.216247\n",
       "HEALTH AND FITNESS -0.349930\n",
       "LIFESTYLE          -0.362638\n",
       "MUSIC AND AUDIO    -0.401597"
      ]
     },
     "execution_count": 132,
     "metadata": {},
     "output_type": "execute_result"
    }
   ],
   "source": [
    "RevScore = AvgLength.groupby(\"CATEGORY\")[[\"score\",\"AverageLen\"]].apply(lambda x:x.corr()[\"AverageLen\"])\n",
    "RevScore.iloc[:,[0]]\n",
    "\n"
   ]
  },
  {
   "cell_type": "markdown",
   "metadata": {},
   "source": [
    "###### There is negative correlation between the average Length and the score"
   ]
  },
  {
   "cell_type": "markdown",
   "metadata": {},
   "source": [
    "###### 18. Find the evolution/changes of the star rating and length of reviews during time for each app category. Draw plots.\n",
    "###### a. Can we use the date column for this question?\n",
    "###### b. If not, what is the solution based on the data you have?"
   ]
  },
  {
   "cell_type": "code",
   "execution_count": 139,
   "metadata": {},
   "outputs": [
    {
     "data": {
      "text/plain": [
       "<matplotlib.legend.Legend at 0x1b7e9551808>"
      ]
     },
     "execution_count": 139,
     "metadata": {},
     "output_type": "execute_result"
    },
    {
     "data": {
      "image/png": "[encoded data removed]",
      "text/plain": [
       "<Figure size 432x288 with 1 Axes>"
      ]
     },
     "metadata": {
      "needs_background": "light"
     },
     "output_type": "display_data"
    }
   ],
   "source": [
    "monthPlot = pd.DataFrame(AvgLength.groupby(['month','CATEGORY'])['AverageLen'].mean())\n",
    "monthPlot.unstack().plot(kind=\"bar\",title=\"Average length of Apps as function of months\")\n",
    "plt.legend(loc=\"center left\",bbox_to_anchor=(1,0.4))"
   ]
  },
  {
   "cell_type": "code",
   "execution_count": 140,
   "metadata": {},
   "outputs": [
    {
     "data": {
      "text/plain": [
       "<matplotlib.legend.Legend at 0x1b92fbce4c8>"
      ]
     },
     "execution_count": 140,
     "metadata": {},
     "output_type": "execute_result"
    },
    {
     "data": {
      "image/png": "[encoded data removed]",
      "text/plain": [
       "<Figure size 432x288 with 1 Axes>"
      ]
     },
     "metadata": {
      "needs_background": "light"
     },
     "output_type": "display_data"
    }
   ],
   "source": [
    "monthPlot = pd.DataFrame(AvgLength.groupby(['month','CATEGORY'])['score'].mean())\n",
    "monthPlot.unstack().plot(kind=\"bar\",title=\"Average length of Apps as function of score\")\n",
    "plt.legend(loc=\"center left\",bbox_to_anchor=(1,0.4))"
   ]
  },
  {
   "cell_type": "code",
   "execution_count": 143,
   "metadata": {},
   "outputs": [
    {
     "data": {
      "text/html": [
       "<div>\n",
       "<style scoped>\n",
       "    .dataframe tbody tr th:only-of-type {\n",
       "        vertical-align: middle;\n",
       "    }\n",
       "\n",
       "    .dataframe tbody tr th {\n",
       "        vertical-align: top;\n",
       "    }\n",
       "\n",
       "    .dataframe thead th {\n",
       "        text-align: right;\n",
       "    }\n",
       "</style>\n",
       "<table border=\"1\" class=\"dataframe\">\n",
       "  <thead>\n",
       "    <tr style=\"text-align: right;\">\n",
       "      <th></th>\n",
       "      <th>appTitle</th>\n",
       "      <th>userName</th>\n",
       "      <th>date</th>\n",
       "      <th>score</th>\n",
       "      <th>text</th>\n",
       "      <th>CATEGORY</th>\n",
       "      <th>contentRating</th>\n",
       "      <th>processedText</th>\n",
       "      <th>AverageLen</th>\n",
       "      <th>month</th>\n",
       "    </tr>\n",
       "  </thead>\n",
       "  <tbody>\n",
       "    <tr>\n",
       "      <td>0</td>\n",
       "      <td>photomath</td>\n",
       "      <td>NaN</td>\n",
       "      <td>March 8, 2019</td>\n",
       "      <td>5</td>\n",
       "      <td>nice</td>\n",
       "      <td>EDUCATION</td>\n",
       "      <td>Everyone</td>\n",
       "      <td>NaN</td>\n",
       "      <td>4</td>\n",
       "      <td>03</td>\n",
       "    </tr>\n",
       "    <tr>\n",
       "      <td>1</td>\n",
       "      <td>photomath</td>\n",
       "      <td>NaN</td>\n",
       "      <td>March 8, 2019</td>\n",
       "      <td>4</td>\n",
       "      <td>very helpful</td>\n",
       "      <td>EDUCATION</td>\n",
       "      <td>Everyone</td>\n",
       "      <td>NaN</td>\n",
       "      <td>12</td>\n",
       "      <td>03</td>\n",
       "    </tr>\n",
       "    <tr>\n",
       "      <td>2</td>\n",
       "      <td>photomath</td>\n",
       "      <td>NaN</td>\n",
       "      <td>March 8, 2019</td>\n",
       "      <td>5</td>\n",
       "      <td>Great App. Detailed answers. Understandable an...</td>\n",
       "      <td>EDUCATION</td>\n",
       "      <td>Everyone</td>\n",
       "      <td>Great  Detailed  Understandable</td>\n",
       "      <td>52</td>\n",
       "      <td>03</td>\n",
       "    </tr>\n",
       "    <tr>\n",
       "      <td>3</td>\n",
       "      <td>photomath</td>\n",
       "      <td>NaN</td>\n",
       "      <td>March 8, 2019</td>\n",
       "      <td>5</td>\n",
       "      <td>great!!!</td>\n",
       "      <td>EDUCATION</td>\n",
       "      <td>Everyone</td>\n",
       "      <td>NaN</td>\n",
       "      <td>8</td>\n",
       "      <td>03</td>\n",
       "    </tr>\n",
       "    <tr>\n",
       "      <td>4</td>\n",
       "      <td>photomath</td>\n",
       "      <td>NaN</td>\n",
       "      <td>March 8, 2019</td>\n",
       "      <td>1</td>\n",
       "      <td>bakwas hai pura.....time pass hai</td>\n",
       "      <td>EDUCATION</td>\n",
       "      <td>Everyone</td>\n",
       "      <td>time pass</td>\n",
       "      <td>33</td>\n",
       "      <td>03</td>\n",
       "    </tr>\n",
       "    <tr>\n",
       "      <td>...</td>\n",
       "      <td>...</td>\n",
       "      <td>...</td>\n",
       "      <td>...</td>\n",
       "      <td>...</td>\n",
       "      <td>...</td>\n",
       "      <td>...</td>\n",
       "      <td>...</td>\n",
       "      <td>...</td>\n",
       "      <td>...</td>\n",
       "      <td>...</td>\n",
       "    </tr>\n",
       "    <tr>\n",
       "      <td>1112293</td>\n",
       "      <td>soundcloud - music &amp; audio</td>\n",
       "      <td>pubgmaster 25</td>\n",
       "      <td>May 3, 2019</td>\n",
       "      <td>1</td>\n",
       "      <td>it gay</td>\n",
       "      <td>MUSIC AND AUDIO</td>\n",
       "      <td>Teen</td>\n",
       "      <td>NaN</td>\n",
       "      <td>6</td>\n",
       "      <td>05</td>\n",
       "    </tr>\n",
       "    <tr>\n",
       "      <td>1112294</td>\n",
       "      <td>soundcloud - music &amp; audio</td>\n",
       "      <td>Anjita Sinha</td>\n",
       "      <td>May 3, 2019</td>\n",
       "      <td>4</td>\n",
       "      <td>Love it</td>\n",
       "      <td>MUSIC AND AUDIO</td>\n",
       "      <td>Teen</td>\n",
       "      <td>NaN</td>\n",
       "      <td>7</td>\n",
       "      <td>05</td>\n",
       "    </tr>\n",
       "    <tr>\n",
       "      <td>1112295</td>\n",
       "      <td>soundcloud - music &amp; audio</td>\n",
       "      <td>Luis Lucas</td>\n",
       "      <td>May 3, 2019</td>\n",
       "      <td>5</td>\n",
       "      <td>muy bueno me gusta y puedo aguardar la musica ...</td>\n",
       "      <td>MUSIC AND AUDIO</td>\n",
       "      <td>Teen</td>\n",
       "      <td>me y la me mix son</td>\n",
       "      <td>86</td>\n",
       "      <td>05</td>\n",
       "    </tr>\n",
       "    <tr>\n",
       "      <td>1112296</td>\n",
       "      <td>soundcloud - music &amp; audio</td>\n",
       "      <td>Teairo Keys</td>\n",
       "      <td>May 3, 2019</td>\n",
       "      <td>5</td>\n",
       "      <td>love this app</td>\n",
       "      <td>MUSIC AND AUDIO</td>\n",
       "      <td>Teen</td>\n",
       "      <td>NaN</td>\n",
       "      <td>13</td>\n",
       "      <td>05</td>\n",
       "    </tr>\n",
       "    <tr>\n",
       "      <td>1112297</td>\n",
       "      <td>soundcloud - music &amp; audio</td>\n",
       "      <td>Ian Libo</td>\n",
       "      <td>May 3, 2019</td>\n",
       "      <td>1</td>\n",
       "      <td>The app was great and has a very nice selectio...</td>\n",
       "      <td>MUSIC AND AUDIO</td>\n",
       "      <td>Teen</td>\n",
       "      <td>The was great and a very nice selection of tal...</td>\n",
       "      <td>357</td>\n",
       "      <td>05</td>\n",
       "    </tr>\n",
       "  </tbody>\n",
       "</table>\n",
       "<p>1112298 rows × 10 columns</p>\n",
       "</div>"
      ],
      "text/plain": [
       "                           appTitle       userName           date  score  \\\n",
       "0                         photomath            NaN  March 8, 2019      5   \n",
       "1                         photomath            NaN  March 8, 2019      4   \n",
       "2                         photomath            NaN  March 8, 2019      5   \n",
       "3                         photomath            NaN  March 8, 2019      5   \n",
       "4                         photomath            NaN  March 8, 2019      1   \n",
       "...                             ...            ...            ...    ...   \n",
       "1112293  soundcloud - music & audio  pubgmaster 25    May 3, 2019      1   \n",
       "1112294  soundcloud - music & audio   Anjita Sinha    May 3, 2019      4   \n",
       "1112295  soundcloud - music & audio     Luis Lucas    May 3, 2019      5   \n",
       "1112296  soundcloud - music & audio    Teairo Keys    May 3, 2019      5   \n",
       "1112297  soundcloud - music & audio       Ian Libo    May 3, 2019      1   \n",
       "\n",
       "                                                      text         CATEGORY  \\\n",
       "0                                                     nice        EDUCATION   \n",
       "1                                             very helpful        EDUCATION   \n",
       "2        Great App. Detailed answers. Understandable an...        EDUCATION   \n",
       "3                                                 great!!!        EDUCATION   \n",
       "4                        bakwas hai pura.....time pass hai        EDUCATION   \n",
       "...                                                    ...              ...   \n",
       "1112293                                             it gay  MUSIC AND AUDIO   \n",
       "1112294                                            Love it  MUSIC AND AUDIO   \n",
       "1112295  muy bueno me gusta y puedo aguardar la musica ...  MUSIC AND AUDIO   \n",
       "1112296                                      love this app  MUSIC AND AUDIO   \n",
       "1112297  The app was great and has a very nice selectio...  MUSIC AND AUDIO   \n",
       "\n",
       "        contentRating                                      processedText  \\\n",
       "0            Everyone                                                NaN   \n",
       "1            Everyone                                                NaN   \n",
       "2            Everyone                   Great  Detailed  Understandable    \n",
       "3            Everyone                                                NaN   \n",
       "4            Everyone                                          time pass   \n",
       "...               ...                                                ...   \n",
       "1112293          Teen                                                NaN   \n",
       "1112294          Teen                                                NaN   \n",
       "1112295          Teen                                 me y la me mix son   \n",
       "1112296          Teen                                                NaN   \n",
       "1112297          Teen  The was great and a very nice selection of tal...   \n",
       "\n",
       "         AverageLen month  \n",
       "0                 4    03  \n",
       "1                12    03  \n",
       "2                52    03  \n",
       "3                 8    03  \n",
       "4                33    03  \n",
       "...             ...   ...  \n",
       "1112293           6    05  \n",
       "1112294           7    05  \n",
       "1112295          86    05  \n",
       "1112296          13    05  \n",
       "1112297         357    05  \n",
       "\n",
       "[1112298 rows x 10 columns]"
      ]
     },
     "execution_count": 143,
     "metadata": {},
     "output_type": "execute_result"
    }
   ],
   "source": [
    "AvgLength"
   ]
  },
  {
   "cell_type": "code",
   "execution_count": 145,
   "metadata": {},
   "outputs": [],
   "source": [
    "AvgLength.dropna(subset=['processedText'],inplace=True)"
   ]
  },
  {
   "cell_type": "code",
   "execution_count": 147,
   "metadata": {},
   "outputs": [],
   "source": [
    "cleanedDataFrame = AvgLength"
   ]
  },
  {
   "cell_type": "code",
   "execution_count": 149,
   "metadata": {},
   "outputs": [],
   "source": [
    "cleanedDataFrame.to_csv(\"CleanedDataFrame.csv\")"
   ]
  },
  {
   "cell_type": "code",
   "execution_count": null,
   "metadata": {},
   "outputs": [],
   "source": []
  }
 ],
 "metadata": {
  "kernelspec": {
   "display_name": "Python 3",
   "language": "python",
   "name": "python3"
  },
  "language_info": {
   "codemirror_mode": {
    "name": "ipython",
    "version": 3
   },
   "file_extension": ".py",
   "mimetype": "text/x-python",
   "name": "python",
   "nbconvert_exporter": "python",
   "pygments_lexer": "ipython3",
   "version": "3.7.4"
  }
 },
 "nbformat": 4,
 "nbformat_minor": 2
}
